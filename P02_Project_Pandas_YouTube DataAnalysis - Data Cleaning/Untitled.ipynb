{
 "cells": [
  {
   "cell_type": "code",
   "execution_count": 1,
   "id": "53fcdfa8",
   "metadata": {},
   "outputs": [
    {
     "data": {
      "text/html": [
       "<style type=\"text/css\">\n",
       "    table.dataframe td, table.dataframe th {\n",
       "        border-style: solid;\n",
       "        border-width: thin;\n",
       "    }\n",
       "</style>\n"
      ],
      "text/plain": [
       "<IPython.core.display.HTML object>"
      ]
     },
     "metadata": {},
     "output_type": "display_data"
    }
   ],
   "source": [
    "%%HTML\n",
    "<style type=\"text/css\">\n",
    "    table.dataframe td, table.dataframe th {\n",
    "        border-style: solid;\n",
    "        border-width: thin;\n",
    "    }\n",
    "</style>"
   ]
  },
  {
   "cell_type": "code",
   "execution_count": 2,
   "id": "dd07bad5",
   "metadata": {},
   "outputs": [],
   "source": [
    "import pandas as pd"
   ]
  },
  {
   "cell_type": "code",
   "execution_count": 24,
   "id": "507b2e5e",
   "metadata": {},
   "outputs": [],
   "source": [
    "ytube = pd.read_csv('top-5000-youtube-channels-data-from-socialblade.csv')"
   ]
  },
  {
   "cell_type": "code",
   "execution_count": 25,
   "id": "9f7f196d",
   "metadata": {},
   "outputs": [
    {
     "data": {
      "text/html": [
       "<div>\n",
       "<style scoped>\n",
       "    .dataframe tbody tr th:only-of-type {\n",
       "        vertical-align: middle;\n",
       "    }\n",
       "\n",
       "    .dataframe tbody tr th {\n",
       "        vertical-align: top;\n",
       "    }\n",
       "\n",
       "    .dataframe thead th {\n",
       "        text-align: right;\n",
       "    }\n",
       "</style>\n",
       "<table border=\"1\" class=\"dataframe\">\n",
       "  <thead>\n",
       "    <tr style=\"text-align: right;\">\n",
       "      <th></th>\n",
       "      <th>Rank</th>\n",
       "      <th>Grade</th>\n",
       "      <th>Channel name</th>\n",
       "      <th>Video Uploads</th>\n",
       "      <th>Subscribers</th>\n",
       "      <th>Video views</th>\n",
       "    </tr>\n",
       "  </thead>\n",
       "  <tbody>\n",
       "    <tr>\n",
       "      <th>0</th>\n",
       "      <td>1st</td>\n",
       "      <td>A++</td>\n",
       "      <td>Zee TV</td>\n",
       "      <td>82757</td>\n",
       "      <td>18752951</td>\n",
       "      <td>20869786591</td>\n",
       "    </tr>\n",
       "    <tr>\n",
       "      <th>1</th>\n",
       "      <td>2nd</td>\n",
       "      <td>A++</td>\n",
       "      <td>T-Series</td>\n",
       "      <td>12661</td>\n",
       "      <td>61196302</td>\n",
       "      <td>47548839843</td>\n",
       "    </tr>\n",
       "  </tbody>\n",
       "</table>\n",
       "</div>"
      ],
      "text/plain": [
       "  Rank Grade Channel name Video Uploads Subscribers  Video views\n",
       "0  1st  A++        Zee TV         82757    18752951  20869786591\n",
       "1  2nd  A++      T-Series         12661    61196302  47548839843"
      ]
     },
     "execution_count": 25,
     "metadata": {},
     "output_type": "execute_result"
    }
   ],
   "source": [
    "ytube.head(2)"
   ]
  },
  {
   "cell_type": "code",
   "execution_count": 26,
   "id": "c87b8445",
   "metadata": {},
   "outputs": [
    {
     "data": {
      "text/plain": [
       "0    1st\n",
       "1    2nd\n",
       "Name: Rank, dtype: object"
      ]
     },
     "execution_count": 26,
     "metadata": {},
     "output_type": "execute_result"
    }
   ],
   "source": [
    "ytube['Rank'].head(2)"
   ]
  },
  {
   "cell_type": "code",
   "execution_count": 18,
   "id": "4bc19842",
   "metadata": {},
   "outputs": [],
   "source": [
    "#ytube['Rank']=ytube['Rank'].replace(regex=['st', 'nd','rd','th',','], value='')"
   ]
  },
  {
   "cell_type": "code",
   "execution_count": null,
   "id": "8f3b283c",
   "metadata": {},
   "outputs": [],
   "source": [
    "ytyube['Rank'].str[0:-2]"
   ]
  },
  {
   "cell_type": "code",
   "execution_count": 19,
   "id": "151e484f",
   "metadata": {},
   "outputs": [
    {
     "data": {
      "text/plain": [
       "0          1\n",
       "1          2\n",
       "2          3\n",
       "3          4\n",
       "4          5\n",
       "        ... \n",
       "4995    4996\n",
       "4996    4997\n",
       "4997    4998\n",
       "4998    4999\n",
       "4999    5000\n",
       "Name: Rank, Length: 5000, dtype: object"
      ]
     },
     "execution_count": 19,
     "metadata": {},
     "output_type": "execute_result"
    }
   ],
   "source": [
    "ytube['Rank']"
   ]
  },
  {
   "cell_type": "code",
   "execution_count": 20,
   "id": "34ebf93f",
   "metadata": {},
   "outputs": [
    {
     "data": {
      "text/plain": [
       "0          1\n",
       "1          2\n",
       "2          3\n",
       "3          4\n",
       "4          5\n",
       "        ... \n",
       "4995    4996\n",
       "4996    4997\n",
       "4997    4998\n",
       "4998    4999\n",
       "4999    5000\n",
       "Name: Rank, Length: 5000, dtype: int32"
      ]
     },
     "execution_count": 20,
     "metadata": {},
     "output_type": "execute_result"
    }
   ],
   "source": [
    "ytube['Rank'].astype('int')"
   ]
  },
  {
   "cell_type": "code",
   "execution_count": 22,
   "id": "d431a11d",
   "metadata": {},
   "outputs": [
    {
     "data": {
      "text/plain": [
       "'-- '"
      ]
     },
     "execution_count": 22,
     "metadata": {},
     "output_type": "execute_result"
    }
   ],
   "source": [
    "ytube['Subscribers'].min()"
   ]
  },
  {
   "cell_type": "code",
   "execution_count": 29,
   "id": "6c20dc8c",
   "metadata": {},
   "outputs": [
    {
     "data": {
      "text/plain": [
       "0       False\n",
       "1       False\n",
       "2       False\n",
       "3       False\n",
       "4       False\n",
       "        ...  \n",
       "4995    False\n",
       "4996    False\n",
       "4997    False\n",
       "4998    False\n",
       "4999    False\n",
       "Name: Subscribers, Length: 5000, dtype: bool"
      ]
     },
     "execution_count": 29,
     "metadata": {},
     "output_type": "execute_result"
    }
   ],
   "source": [
    "ytube['Subscribers'].str.contains('-')"
   ]
  },
  {
   "cell_type": "code",
   "execution_count": 34,
   "id": "2c6737f4",
   "metadata": {},
   "outputs": [],
   "source": [
    "indexl=ytube[ytube['Subscribers'].str.contains('-')].index"
   ]
  },
  {
   "cell_type": "code",
   "execution_count": 35,
   "id": "57c26c77",
   "metadata": {},
   "outputs": [],
   "source": [
    "ytube.drop(labels=indexl,axis=0,inplace=True)"
   ]
  },
  {
   "cell_type": "code",
   "execution_count": 36,
   "id": "0d70a10a",
   "metadata": {},
   "outputs": [
    {
     "data": {
      "text/plain": [
       "Int64Index([], dtype='int64')"
      ]
     },
     "execution_count": 36,
     "metadata": {},
     "output_type": "execute_result"
    }
   ],
   "source": [
    "ytube[ytube['Subscribers'].str.contains('-')].index"
   ]
  },
  {
   "cell_type": "code",
   "execution_count": 37,
   "id": "14e16dd9",
   "metadata": {},
   "outputs": [
    {
     "name": "stdout",
     "output_type": "stream",
     "text": [
      "<class 'pandas.core.frame.DataFrame'>\n",
      "Int64Index: 4613 entries, 0 to 4999\n",
      "Data columns (total 6 columns):\n",
      " #   Column         Non-Null Count  Dtype \n",
      "---  ------         --------------  ----- \n",
      " 0   Rank           4613 non-null   object\n",
      " 1   Grade          4613 non-null   object\n",
      " 2   Channel name   4613 non-null   object\n",
      " 3   Video Uploads  4613 non-null   object\n",
      " 4   Subscribers    4613 non-null   object\n",
      " 5   Video views    4613 non-null   int64 \n",
      "dtypes: int64(1), object(5)\n",
      "memory usage: 252.3+ KB\n"
     ]
    }
   ],
   "source": [
    "ytube.info()"
   ]
  },
  {
   "cell_type": "code",
   "execution_count": 40,
   "id": "3573e7df",
   "metadata": {},
   "outputs": [
    {
     "data": {
      "text/plain": [
       "0       18752951\n",
       "1       61196302\n",
       "2       19238251\n",
       "3       31180559\n",
       "4       32852346\n",
       "          ...   \n",
       "4995     2072942\n",
       "4996     1055091\n",
       "4997     3265735\n",
       "4998       32990\n",
       "4999       21172\n",
       "Name: Subscribers, Length: 4613, dtype: int32"
      ]
     },
     "execution_count": 40,
     "metadata": {},
     "output_type": "execute_result"
    }
   ],
   "source": [
    "ytube['Subscribers'].astype('int')"
   ]
  },
  {
   "cell_type": "code",
   "execution_count": 41,
   "id": "c1b023ce",
   "metadata": {},
   "outputs": [
    {
     "data": {
      "text/plain": [
       "array(['A++ ', 'A+ ', 'A ', 'A- ', 'B+ ', '\\xa0 '], dtype=object)"
      ]
     },
     "execution_count": 41,
     "metadata": {},
     "output_type": "execute_result"
    }
   ],
   "source": [
    "ytube['Grade'].unique()"
   ]
  },
  {
   "cell_type": "code",
   "execution_count": 42,
   "id": "cbba83e3",
   "metadata": {},
   "outputs": [],
   "source": [
    "channel_map = {'A++ ':5, 'A+ ':4, 'A ':3, 'A- ':2, 'B+ ':1}"
   ]
  },
  {
   "cell_type": "code",
   "execution_count": 43,
   "id": "b8941b79",
   "metadata": {},
   "outputs": [
    {
     "data": {
      "text/plain": [
       "{'A++ ': 5, 'A+ ': 4, 'A ': 3, 'A- ': 2, 'B+ ': 1}"
      ]
     },
     "execution_count": 43,
     "metadata": {},
     "output_type": "execute_result"
    }
   ],
   "source": [
    " channel_map"
   ]
  },
  {
   "cell_type": "code",
   "execution_count": null,
   "id": "825bdfae",
   "metadata": {},
   "outputs": [],
   "source": [
    "ytube['Grade']=ytube['Grade'].u"
   ]
  }
 ],
 "metadata": {
  "kernelspec": {
   "display_name": "Python 3 (ipykernel)",
   "language": "python",
   "name": "python3"
  },
  "language_info": {
   "codemirror_mode": {
    "name": "ipython",
    "version": 3
   },
   "file_extension": ".py",
   "mimetype": "text/x-python",
   "name": "python",
   "nbconvert_exporter": "python",
   "pygments_lexer": "ipython3",
   "version": "3.9.12"
  }
 },
 "nbformat": 4,
 "nbformat_minor": 5
}

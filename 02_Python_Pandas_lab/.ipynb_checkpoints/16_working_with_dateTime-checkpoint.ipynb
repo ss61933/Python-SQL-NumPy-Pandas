{
 "cells": [
  {
   "cell_type": "code",
   "execution_count": 2,
   "id": "4c1d1145",
   "metadata": {},
   "outputs": [],
   "source": [
    "import datetime as dt"
   ]
  },
  {
   "cell_type": "code",
   "execution_count": 3,
   "id": "1db40ed3",
   "metadata": {},
   "outputs": [],
   "source": [
    "#Date object"
   ]
  },
  {
   "cell_type": "code",
   "execution_count": 4,
   "id": "20fe291b",
   "metadata": {},
   "outputs": [
    {
     "data": {
      "text/plain": [
       "datetime.date(2019, 2, 25)"
      ]
     },
     "execution_count": 4,
     "metadata": {},
     "output_type": "execute_result"
    }
   ],
   "source": [
    "dt.date(2019,2,25)"
   ]
  },
  {
   "cell_type": "code",
   "execution_count": 5,
   "id": "3a3c8dd1",
   "metadata": {},
   "outputs": [],
   "source": [
    "purchasedate=dt.date(2019,2,25)"
   ]
  },
  {
   "cell_type": "code",
   "execution_count": 6,
   "id": "06159db1",
   "metadata": {},
   "outputs": [
    {
     "data": {
      "text/plain": [
       "25"
      ]
     },
     "execution_count": 6,
     "metadata": {},
     "output_type": "execute_result"
    }
   ],
   "source": [
    "purchasedate.year\n",
    "purchasedate.month\n",
    "purchasedate.day"
   ]
  },
  {
   "cell_type": "code",
   "execution_count": 7,
   "id": "12b9cb7b",
   "metadata": {},
   "outputs": [
    {
     "data": {
      "text/plain": [
       "1"
      ]
     },
     "execution_count": 7,
     "metadata": {},
     "output_type": "execute_result"
    }
   ],
   "source": [
    "purchasedate.isoweekday()"
   ]
  },
  {
   "cell_type": "code",
   "execution_count": 8,
   "id": "5026e9a8",
   "metadata": {},
   "outputs": [],
   "source": [
    "#Sunday is considered as a last day ie 7 and monday as 1"
   ]
  },
  {
   "cell_type": "code",
   "execution_count": 9,
   "id": "44cb4983",
   "metadata": {},
   "outputs": [
    {
     "data": {
      "text/plain": [
       "'2019-02-25'"
      ]
     },
     "execution_count": 9,
     "metadata": {},
     "output_type": "execute_result"
    }
   ],
   "source": [
    "str(purchasedate)"
   ]
  },
  {
   "cell_type": "code",
   "execution_count": 11,
   "id": "1e73e6ae",
   "metadata": {},
   "outputs": [],
   "source": [
    "p_datetime=dt.datetime(2019,2,25,11,34,22)"
   ]
  },
  {
   "cell_type": "code",
   "execution_count": 13,
   "id": "45c963d5",
   "metadata": {},
   "outputs": [
    {
     "data": {
      "text/plain": [
       "datetime.datetime(2019, 2, 25, 11, 34, 22)"
      ]
     },
     "execution_count": 13,
     "metadata": {},
     "output_type": "execute_result"
    }
   ],
   "source": [
    "p_datetime"
   ]
  },
  {
   "cell_type": "code",
   "execution_count": 14,
   "id": "def33d2d",
   "metadata": {},
   "outputs": [
    {
     "data": {
      "text/plain": [
       "11"
      ]
     },
     "execution_count": 14,
     "metadata": {},
     "output_type": "execute_result"
    }
   ],
   "source": [
    "p_datetime.hour"
   ]
  },
  {
   "cell_type": "code",
   "execution_count": 15,
   "id": "37f55e4b",
   "metadata": {},
   "outputs": [
    {
     "data": {
      "text/plain": [
       "22"
      ]
     },
     "execution_count": 15,
     "metadata": {},
     "output_type": "execute_result"
    }
   ],
   "source": [
    "p_datetime.second"
   ]
  },
  {
   "cell_type": "code",
   "execution_count": 16,
   "id": "7040fc98",
   "metadata": {},
   "outputs": [],
   "source": [
    "#it returns a value in 24 hours cycle "
   ]
  },
  {
   "cell_type": "markdown",
   "id": "ead1e23d",
   "metadata": {},
   "source": [
    "# Pandas Timestamp and date  Timeindex object"
   ]
  },
  {
   "cell_type": "code",
   "execution_count": 17,
   "id": "21c08e77",
   "metadata": {},
   "outputs": [],
   "source": [
    "import pandas as pd"
   ]
  },
  {
   "cell_type": "code",
   "execution_count": 20,
   "id": "29cfafce",
   "metadata": {},
   "outputs": [],
   "source": [
    "pda=pd.Timestamp('2019-02-02')"
   ]
  },
  {
   "cell_type": "code",
   "execution_count": 21,
   "id": "e2c2c1db",
   "metadata": {},
   "outputs": [
    {
     "data": {
      "text/plain": [
       "Timestamp('2019-02-02 00:00:00')"
      ]
     },
     "execution_count": 21,
     "metadata": {},
     "output_type": "execute_result"
    }
   ],
   "source": [
    "pda"
   ]
  },
  {
   "cell_type": "code",
   "execution_count": 22,
   "id": "83538379",
   "metadata": {},
   "outputs": [],
   "source": [
    "pda1=pd.Timestamp('2019/12/30 11:55:55')"
   ]
  },
  {
   "cell_type": "code",
   "execution_count": 23,
   "id": "f33c01ff",
   "metadata": {},
   "outputs": [
    {
     "data": {
      "text/plain": [
       "Timestamp('2019-12-30 11:55:55')"
      ]
     },
     "execution_count": 23,
     "metadata": {},
     "output_type": "execute_result"
    }
   ],
   "source": [
    "pda1"
   ]
  },
  {
   "cell_type": "code",
   "execution_count": 24,
   "id": "34d62abe",
   "metadata": {},
   "outputs": [
    {
     "data": {
      "text/plain": [
       "Timestamp('2019-02-25 11:34:22')"
      ]
     },
     "execution_count": 24,
     "metadata": {},
     "output_type": "execute_result"
    }
   ],
   "source": [
    "pd.Timestamp(p_datetime)"
   ]
  },
  {
   "cell_type": "code",
   "execution_count": 25,
   "id": "77db0de3",
   "metadata": {},
   "outputs": [],
   "source": [
    "#So we can pass the object as a paramters created in regular python "
   ]
  },
  {
   "cell_type": "code",
   "execution_count": 26,
   "id": "0aced7b6",
   "metadata": {},
   "outputs": [],
   "source": [
    "#Date Timeindex object"
   ]
  },
  {
   "cell_type": "code",
   "execution_count": 28,
   "id": "c1e9d51b",
   "metadata": {},
   "outputs": [],
   "source": [
    "pda1=pd.DatetimeIndex(['2019/12/30 11:55:55'])"
   ]
  },
  {
   "cell_type": "code",
   "execution_count": 29,
   "id": "7bba530c",
   "metadata": {},
   "outputs": [
    {
     "data": {
      "text/plain": [
       "DatetimeIndex(['2019-12-30 11:55:55'], dtype='datetime64[ns]', freq=None)"
      ]
     },
     "execution_count": 29,
     "metadata": {},
     "output_type": "execute_result"
    }
   ],
   "source": [
    "pda1"
   ]
  },
  {
   "cell_type": "code",
   "execution_count": 36,
   "id": "221e669d",
   "metadata": {},
   "outputs": [],
   "source": [
    "pda1=pd.DatetimeIndex(['2019/12/30', '2019-12-31','2019 - jan-1'])"
   ]
  },
  {
   "cell_type": "code",
   "execution_count": 32,
   "id": "e125b921",
   "metadata": {},
   "outputs": [
    {
     "data": {
      "text/plain": [
       "DatetimeIndex(['2019-12-30', '2019-12-31', '2019-01-01'], dtype='datetime64[ns]', freq=None)"
      ]
     },
     "execution_count": 32,
     "metadata": {},
     "output_type": "execute_result"
    }
   ],
   "source": [
    "pda1"
   ]
  },
  {
   "cell_type": "code",
   "execution_count": 33,
   "id": "c6a35c90",
   "metadata": {},
   "outputs": [],
   "source": [
    "#So multiple values can be passed to datetimeindex"
   ]
  },
  {
   "cell_type": "code",
   "execution_count": 37,
   "id": "dbbc72c6",
   "metadata": {},
   "outputs": [],
   "source": [
    "#other method to create datetime index"
   ]
  },
  {
   "cell_type": "code",
   "execution_count": 40,
   "id": "c4fd67cf",
   "metadata": {},
   "outputs": [
    {
     "data": {
      "text/plain": [
       "DatetimeIndex(['2019-12-30', '2019-12-31', '2019-01-01'], dtype='datetime64[ns]', freq=None)"
      ]
     },
     "execution_count": 40,
     "metadata": {},
     "output_type": "execute_result"
    }
   ],
   "source": [
    "pd.to_datetime(['2019-12-30', '2019-12-31', '2019-01-01'])"
   ]
  },
  {
   "cell_type": "code",
   "execution_count": 41,
   "id": "c3167e04",
   "metadata": {},
   "outputs": [
    {
     "data": {
      "text/plain": [
       "DatetimeIndex(['2019-12-30'], dtype='datetime64[ns]', freq=None)"
      ]
     },
     "execution_count": 41,
     "metadata": {},
     "output_type": "execute_result"
    }
   ],
   "source": [
    "pd.to_datetime(['2019-12-30'])"
   ]
  },
  {
   "cell_type": "code",
   "execution_count": 42,
   "id": "f52683d7",
   "metadata": {},
   "outputs": [],
   "source": [
    "#Create a series object"
   ]
  },
  {
   "cell_type": "code",
   "execution_count": 43,
   "id": "7f348caf",
   "metadata": {},
   "outputs": [],
   "source": [
    "dt=pd.to_datetime(['2019-12-30', '2019-12-31', '2019-01-01'])"
   ]
  },
  {
   "cell_type": "code",
   "execution_count": 44,
   "id": "4e58f418",
   "metadata": {},
   "outputs": [],
   "source": [
    "s=pd.Series(dt)"
   ]
  },
  {
   "cell_type": "code",
   "execution_count": 45,
   "id": "05345224",
   "metadata": {},
   "outputs": [
    {
     "data": {
      "text/plain": [
       "0   2019-12-30\n",
       "1   2019-12-31\n",
       "2   2019-01-01\n",
       "dtype: datetime64[ns]"
      ]
     },
     "execution_count": 45,
     "metadata": {},
     "output_type": "execute_result"
    }
   ],
   "source": [
    "s"
   ]
  },
  {
   "cell_type": "code",
   "execution_count": 46,
   "id": "8694de9c",
   "metadata": {},
   "outputs": [
    {
     "data": {
      "text/plain": [
       "<pandas.core.indexes.accessors.DatetimeProperties object at 0x0000009252F31D90>"
      ]
     },
     "execution_count": 46,
     "metadata": {},
     "output_type": "execute_result"
    }
   ],
   "source": [
    "s.dt"
   ]
  },
  {
   "cell_type": "code",
   "execution_count": 47,
   "id": "5593871b",
   "metadata": {},
   "outputs": [
    {
     "data": {
      "text/plain": [
       "0    2019-12-30\n",
       "1    2019-12-31\n",
       "2    2019-01-01\n",
       "dtype: object"
      ]
     },
     "execution_count": 47,
     "metadata": {},
     "output_type": "execute_result"
    }
   ],
   "source": [
    "s.dt.date"
   ]
  },
  {
   "cell_type": "code",
   "execution_count": 49,
   "id": "025d1f0a",
   "metadata": {},
   "outputs": [
    {
     "data": {
      "text/plain": [
       "0    30\n",
       "1    31\n",
       "2     1\n",
       "dtype: int64"
      ]
     },
     "execution_count": 49,
     "metadata": {},
     "output_type": "execute_result"
    }
   ],
   "source": [
    "s.dt.day"
   ]
  },
  {
   "cell_type": "code",
   "execution_count": 53,
   "id": "40a7f80a",
   "metadata": {},
   "outputs": [
    {
     "data": {
      "text/plain": [
       "0     Monday\n",
       "1    Tuesday\n",
       "2    Tuesday\n",
       "dtype: object"
      ]
     },
     "execution_count": 53,
     "metadata": {},
     "output_type": "execute_result"
    }
   ],
   "source": [
    "s.dt.day_name()"
   ]
  },
  {
   "cell_type": "code",
   "execution_count": 55,
   "id": "ea9112cf",
   "metadata": {},
   "outputs": [
    {
     "data": {
      "text/plain": [
       "0    0\n",
       "1    1\n",
       "2    1\n",
       "dtype: int64"
      ]
     },
     "execution_count": 55,
     "metadata": {},
     "output_type": "execute_result"
    }
   ],
   "source": [
    "s.dt.dayofweek"
   ]
  },
  {
   "cell_type": "code",
   "execution_count": 56,
   "id": "e9936ebd",
   "metadata": {},
   "outputs": [
    {
     "data": {
      "text/plain": [
       "0    364\n",
       "1    365\n",
       "2      1\n",
       "dtype: int64"
      ]
     },
     "execution_count": 56,
     "metadata": {},
     "output_type": "execute_result"
    }
   ],
   "source": [
    "s.dt.dayofyear"
   ]
  },
  {
   "cell_type": "code",
   "execution_count": null,
   "id": "66a9caff",
   "metadata": {},
   "outputs": [],
   "source": []
  }
 ],
 "metadata": {
  "kernelspec": {
   "display_name": "Python 3 (ipykernel)",
   "language": "python",
   "name": "python3"
  },
  "language_info": {
   "codemirror_mode": {
    "name": "ipython",
    "version": 3
   },
   "file_extension": ".py",
   "mimetype": "text/x-python",
   "name": "python",
   "nbconvert_exporter": "python",
   "pygments_lexer": "ipython3",
   "version": "3.9.12"
  }
 },
 "nbformat": 4,
 "nbformat_minor": 5
}

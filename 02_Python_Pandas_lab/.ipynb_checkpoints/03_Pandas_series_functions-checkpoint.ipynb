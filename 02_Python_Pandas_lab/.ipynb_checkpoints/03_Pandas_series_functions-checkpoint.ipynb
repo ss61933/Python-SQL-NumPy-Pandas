{
 "cells": [
  {
   "cell_type": "markdown",
   "id": "e19028b2-160d-4a9b-9208-d88599b2b791",
   "metadata": {},
   "source": [
    "# Built in Functions on  Series "
   ]
  },
  {
   "cell_type": "code",
   "execution_count": 1,
   "id": "e95c622b-572d-4add-9e5c-a6a8e7599b67",
   "metadata": {},
   "outputs": [],
   "source": [
    "import pandas as pd\n",
    "months=['Jan','Feb','March','April','May','June','July','Aug']\n",
    "temp=[31,28,31,30,31,30,31,30]"
   ]
  },
  {
   "cell_type": "code",
   "execution_count": 2,
   "id": "eaff002e-4850-4100-b92b-209073bf80ee",
   "metadata": {},
   "outputs": [],
   "source": [
    "s1=pd.Series(temp,months)"
   ]
  },
  {
   "cell_type": "code",
   "execution_count": 3,
   "id": "3f0d5952-b304-4149-b446-3de721f79f44",
   "metadata": {},
   "outputs": [
    {
     "data": {
      "text/plain": [
       "Jan      31\n",
       "Feb      28\n",
       "March    31\n",
       "April    30\n",
       "May      31\n",
       "June     30\n",
       "July     31\n",
       "Aug      30\n",
       "dtype: int64"
      ]
     },
     "execution_count": 3,
     "metadata": {},
     "output_type": "execute_result"
    }
   ],
   "source": [
    "s1"
   ]
  },
  {
   "cell_type": "code",
   "execution_count": 4,
   "id": "191df9f4-55c5-4ac4-b05c-b6ba9bd6dca9",
   "metadata": {},
   "outputs": [
    {
     "data": {
      "text/plain": [
       "8"
      ]
     },
     "execution_count": 4,
     "metadata": {},
     "output_type": "execute_result"
    }
   ],
   "source": [
    "len(s1)"
   ]
  },
  {
   "cell_type": "code",
   "execution_count": 6,
   "id": "aae61169-7630-4795-96e0-5ddf086cf758",
   "metadata": {},
   "outputs": [
    {
     "data": {
      "text/plain": [
       "pandas.core.series.Series"
      ]
     },
     "execution_count": 6,
     "metadata": {},
     "output_type": "execute_result"
    }
   ],
   "source": [
    "type(s1)"
   ]
  },
  {
   "cell_type": "code",
   "execution_count": 7,
   "id": "a660a3a8-9bc6-4f68-b440-b44f3755b942",
   "metadata": {},
   "outputs": [
    {
     "data": {
      "text/plain": [
       "[31, 28, 31, 30, 31, 30, 31, 30]"
      ]
     },
     "execution_count": 7,
     "metadata": {},
     "output_type": "execute_result"
    }
   ],
   "source": [
    "list(s1)"
   ]
  },
  {
   "cell_type": "code",
   "execution_count": 8,
   "id": "2f6d4b7a-f0ea-4d24-ab2a-0ce45c84d037",
   "metadata": {},
   "outputs": [
    {
     "data": {
      "text/plain": [
       "{'Jan': 31,\n",
       " 'Feb': 28,\n",
       " 'March': 31,\n",
       " 'April': 30,\n",
       " 'May': 31,\n",
       " 'June': 30,\n",
       " 'July': 31,\n",
       " 'Aug': 30}"
      ]
     },
     "execution_count": 8,
     "metadata": {},
     "output_type": "execute_result"
    }
   ],
   "source": [
    "dict(s1)"
   ]
  },
  {
   "cell_type": "code",
   "execution_count": 9,
   "id": "772679d2-6e70-46b0-9d4b-84d8bbef7d52",
   "metadata": {},
   "outputs": [
    {
     "data": {
      "text/plain": [
       "31"
      ]
     },
     "execution_count": 9,
     "metadata": {},
     "output_type": "execute_result"
    }
   ],
   "source": [
    "max(s1)"
   ]
  },
  {
   "cell_type": "code",
   "execution_count": 11,
   "id": "c095bda7-1888-490f-9be8-d975f8ced11a",
   "metadata": {},
   "outputs": [
    {
     "data": {
      "text/plain": [
       "242"
      ]
     },
     "execution_count": 11,
     "metadata": {},
     "output_type": "execute_result"
    }
   ],
   "source": [
    "sum(s1)"
   ]
  },
  {
   "cell_type": "code",
   "execution_count": 12,
   "id": "96640981-b49d-499e-acd0-944a3f647e6d",
   "metadata": {},
   "outputs": [
    {
     "data": {
      "text/plain": [
       "[28, 30, 30, 30, 31, 31, 31, 31]"
      ]
     },
     "execution_count": 12,
     "metadata": {},
     "output_type": "execute_result"
    }
   ],
   "source": [
    "sorted(s1)"
   ]
  },
  {
   "cell_type": "code",
   "execution_count": null,
   "id": "783def40-71e6-423c-86fe-f85a2fe5662a",
   "metadata": {},
   "outputs": [],
   "source": []
  }
 ],
 "metadata": {
  "kernelspec": {
   "display_name": "Python 3 (ipykernel)",
   "language": "python",
   "name": "python3"
  },
  "language_info": {
   "codemirror_mode": {
    "name": "ipython",
    "version": 3
   },
   "file_extension": ".py",
   "mimetype": "text/x-python",
   "name": "python",
   "nbconvert_exporter": "python",
   "pygments_lexer": "ipython3",
   "version": "3.9.12"
  }
 },
 "nbformat": 4,
 "nbformat_minor": 5
}

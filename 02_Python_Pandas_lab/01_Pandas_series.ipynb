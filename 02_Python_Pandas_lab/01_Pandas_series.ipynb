{
 "cells": [
  {
   "cell_type": "markdown",
   "id": "82b4af2b-2604-46fe-a208-09aced129629",
   "metadata": {},
   "source": [
    "# Pandas Series"
   ]
  },
  {
   "cell_type": "code",
   "execution_count": 2,
   "id": "6773b7d8-3708-4d26-be43-9dbd51eb227b",
   "metadata": {},
   "outputs": [],
   "source": [
    "#Create a series \n",
    "import pandas as pd"
   ]
  },
  {
   "cell_type": "markdown",
   "id": "de0977c8-bac5-43a6-8273-c9df7fce0d65",
   "metadata": {},
   "source": [
    "# # Create Series - I"
   ]
  },
  {
   "cell_type": "code",
   "execution_count": 3,
   "id": "4215ad45-83ed-40c5-93db-8892cf7ce839",
   "metadata": {},
   "outputs": [
    {
     "data": {
      "text/plain": [
       "0     2\n",
       "1    43\n",
       "2    67\n",
       "3    89\n",
       "dtype: int64"
      ]
     },
     "execution_count": 3,
     "metadata": {},
     "output_type": "execute_result"
    }
   ],
   "source": [
    "list=[2,43,67,89]\n",
    "pd.Series(list)"
   ]
  },
  {
   "cell_type": "code",
   "execution_count": 4,
   "id": "43b96765-c0e7-4ca8-91b4-7a0497c128e1",
   "metadata": {},
   "outputs": [
    {
     "data": {
      "text/plain": [
       "0     True\n",
       "1    False\n",
       "2     True\n",
       "3     True\n",
       "4        2\n",
       "5       aa\n",
       "dtype: object"
      ]
     },
     "execution_count": 4,
     "metadata": {},
     "output_type": "execute_result"
    }
   ],
   "source": [
    "list_b=[True,False,True,True,2,'aa']\n",
    "pd.Series(list_b)"
   ]
  },
  {
   "cell_type": "code",
   "execution_count": 10,
   "id": "8e63534b-20c8-4693-94a6-e91b651fce06",
   "metadata": {},
   "outputs": [
    {
     "data": {
      "text/plain": [
       "1    5\n",
       "2    5\n",
       "3    5\n",
       "dtype: int64"
      ]
     },
     "execution_count": 10,
     "metadata": {},
     "output_type": "execute_result"
    }
   ],
   "source": [
    "pd.Series(5,[1,2,3])  # this generates constant value 5 to mentioned indxes "
   ]
  },
  {
   "cell_type": "code",
   "execution_count": 11,
   "id": "b2a1aa5f-c84e-4295-8df5-a5767289f56d",
   "metadata": {},
   "outputs": [
    {
     "data": {
      "text/plain": [
       "0     0\n",
       "1    10\n",
       "2    20\n",
       "3    30\n",
       "4    40\n",
       "5    50\n",
       "6    60\n",
       "7    70\n",
       "8    80\n",
       "9    90\n",
       "dtype: int64"
      ]
     },
     "execution_count": 11,
     "metadata": {},
     "output_type": "execute_result"
    }
   ],
   "source": [
    "#mulitpe of 10\n",
    "pd.Series([num*10 for num in range(10)])"
   ]
  },
  {
   "cell_type": "code",
   "execution_count": 12,
   "id": "c3423423-e785-49ba-840b-f4abf73ad47a",
   "metadata": {},
   "outputs": [],
   "source": [
    "#Creating dict series\n",
    "dic={\"A\":0,\"B\":0}"
   ]
  },
  {
   "cell_type": "code",
   "execution_count": 13,
   "id": "5d6f80f9-235b-4924-bf29-caed0e91309d",
   "metadata": {},
   "outputs": [
    {
     "data": {
      "text/plain": [
       "A    0\n",
       "B    0\n",
       "dtype: int64"
      ]
     },
     "execution_count": 13,
     "metadata": {},
     "output_type": "execute_result"
    }
   ],
   "source": [
    "pd.Series(dic)"
   ]
  },
  {
   "cell_type": "markdown",
   "id": "898a3377-35b4-4177-9a9d-f90d01ae4293",
   "metadata": {},
   "source": [
    "# Ceate a series from CSV"
   ]
  },
  {
   "cell_type": "code",
   "execution_count": 12,
   "id": "bdf0a22c-54fb-48c9-ba49-db738cd692fd",
   "metadata": {},
   "outputs": [
    {
     "data": {
      "text/html": [
       "<div>\n",
       "<style scoped>\n",
       "    .dataframe tbody tr th:only-of-type {\n",
       "        vertical-align: middle;\n",
       "    }\n",
       "\n",
       "    .dataframe tbody tr th {\n",
       "        vertical-align: top;\n",
       "    }\n",
       "\n",
       "    .dataframe thead th {\n",
       "        text-align: right;\n",
       "    }\n",
       "</style>\n",
       "<table border=\"1\" class=\"dataframe\">\n",
       "  <thead>\n",
       "    <tr style=\"text-align: right;\">\n",
       "      <th></th>\n",
       "      <th>1</th>\n",
       "    </tr>\n",
       "  </thead>\n",
       "  <tbody>\n",
       "    <tr>\n",
       "      <th>0</th>\n",
       "      <td>2</td>\n",
       "    </tr>\n",
       "    <tr>\n",
       "      <th>1</th>\n",
       "      <td>3</td>\n",
       "    </tr>\n",
       "    <tr>\n",
       "      <th>2</th>\n",
       "      <td>4</td>\n",
       "    </tr>\n",
       "  </tbody>\n",
       "</table>\n",
       "</div>"
      ],
      "text/plain": [
       "   1\n",
       "0  2\n",
       "1  3\n",
       "2  4"
      ]
     },
     "execution_count": 12,
     "metadata": {},
     "output_type": "execute_result"
    }
   ],
   "source": [
    "pd.read_csv('Pandas_Series.csv')\n",
    "#here it does not specify type of object and first row is considered as a header"
   ]
  },
  {
   "cell_type": "code",
   "execution_count": 13,
   "id": "20bfaaa3-9ebe-4d96-ba0c-f40daa1a8095",
   "metadata": {},
   "outputs": [
    {
     "data": {
      "text/plain": [
       "pandas.core.frame.DataFrame"
      ]
     },
     "execution_count": 13,
     "metadata": {},
     "output_type": "execute_result"
    }
   ],
   "source": [
    "type(pd.read_csv('Pandas_Series.csv'))"
   ]
  },
  {
   "cell_type": "code",
   "execution_count": 15,
   "id": "ca33ed55-ae13-431d-8504-d6b660965462",
   "metadata": {},
   "outputs": [],
   "source": [
    "s=pd.read_csv('Pandas_series.csv',header= None )"
   ]
  },
  {
   "cell_type": "code",
   "execution_count": 16,
   "id": "a319f33e-290a-4bcd-8ea2-e282f25437a9",
   "metadata": {},
   "outputs": [
    {
     "data": {
      "text/plain": [
       "pandas.core.frame.DataFrame"
      ]
     },
     "execution_count": 16,
     "metadata": {},
     "output_type": "execute_result"
    }
   ],
   "source": [
    "type(s)\n",
    "#So now we have create a series type "
   ]
  },
  {
   "cell_type": "markdown",
   "id": "6054a54e-2502-418c-a764-ec278a9c4cf5",
   "metadata": {},
   "source": [
    "# Reading from a CSV with multiple columns"
   ]
  },
  {
   "cell_type": "code",
   "execution_count": 20,
   "id": "5b01e71c-fada-4b30-aa42-341f92659e6f",
   "metadata": {},
   "outputs": [],
   "source": [
    "s=pd.read_csv('Pandas_series1.csv')"
   ]
  },
  {
   "cell_type": "code",
   "execution_count": 21,
   "id": "6285c392-3ba5-4b9f-861c-5fc1af9cbbe7",
   "metadata": {},
   "outputs": [
    {
     "name": "stdout",
     "output_type": "stream",
     "text": [
      "   ID Name  age\n",
      "0   1    a   12\n",
      "1   2    b   31\n",
      "2   3   bc   23\n",
      "3   4    d   21\n",
      "4   6    s   65\n",
      "5   7    f   67\n",
      "6   8    h   38\n",
      "7   9    h   92\n",
      "8  10   vs   12\n"
     ]
    }
   ],
   "source": [
    "print(s)"
   ]
  },
  {
   "cell_type": "code",
   "execution_count": 22,
   "id": "23d89a07-0189-4668-b1ab-6c9fb42c0d00",
   "metadata": {},
   "outputs": [],
   "source": [
    "s=pd.read_csv('Pandas_series1.csv',usecols=['age'])"
   ]
  },
  {
   "cell_type": "code",
   "execution_count": 32,
   "id": "470bb51e-4363-41fd-8da1-6297a6a1260a",
   "metadata": {},
   "outputs": [
    {
     "name": "stdout",
     "output_type": "stream",
     "text": [
      "0    12\n",
      "1    31\n",
      "2    23\n",
      "3    21\n",
      "Name: age, dtype: int64\n"
     ]
    }
   ],
   "source": [
    "print(s)"
   ]
  },
  {
   "cell_type": "code",
   "execution_count": 23,
   "id": "e337bf89-834b-4eb4-aa36-4708b53d41f8",
   "metadata": {},
   "outputs": [
    {
     "data": {
      "text/plain": [
       "pandas.core.frame.DataFrame"
      ]
     },
     "execution_count": 23,
     "metadata": {},
     "output_type": "execute_result"
    }
   ],
   "source": [
    "type(s)"
   ]
  },
  {
   "cell_type": "code",
   "execution_count": null,
   "id": "cfe6c7e6-ccf0-46d9-a181-2dc57d1697ab",
   "metadata": {},
   "outputs": [],
   "source": []
  }
 ],
 "metadata": {
  "kernelspec": {
   "display_name": "Python 3 (ipykernel)",
   "language": "python",
   "name": "python3"
  },
  "language_info": {
   "codemirror_mode": {
    "name": "ipython",
    "version": 3
   },
   "file_extension": ".py",
   "mimetype": "text/x-python",
   "name": "python",
   "nbconvert_exporter": "python",
   "pygments_lexer": "ipython3",
   "version": "3.9.12"
  }
 },
 "nbformat": 4,
 "nbformat_minor": 5
}

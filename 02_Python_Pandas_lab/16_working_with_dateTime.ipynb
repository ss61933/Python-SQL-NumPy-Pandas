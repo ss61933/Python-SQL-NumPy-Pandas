{
 "cells": [
  {
   "cell_type": "code",
   "execution_count": 2,
   "id": "0468f94b",
   "metadata": {},
   "outputs": [],
   "source": [
    "import datetime as dt"
   ]
  },
  {
   "cell_type": "code",
   "execution_count": 3,
   "id": "4cb5a9be",
   "metadata": {},
   "outputs": [],
   "source": [
    "#Date object"
   ]
  },
  {
   "cell_type": "code",
   "execution_count": 4,
   "id": "913b6787",
   "metadata": {},
   "outputs": [
    {
     "data": {
      "text/plain": [
       "datetime.date(2019, 2, 25)"
      ]
     },
     "execution_count": 4,
     "metadata": {},
     "output_type": "execute_result"
    }
   ],
   "source": [
    "dt.date(2019,2,25)"
   ]
  },
  {
   "cell_type": "code",
   "execution_count": 5,
   "id": "0f3ef94f",
   "metadata": {},
   "outputs": [],
   "source": [
    "purchasedate=dt.date(2019,2,25)"
   ]
  },
  {
   "cell_type": "code",
   "execution_count": 6,
   "id": "f6744800",
   "metadata": {},
   "outputs": [
    {
     "data": {
      "text/plain": [
       "25"
      ]
     },
     "execution_count": 6,
     "metadata": {},
     "output_type": "execute_result"
    }
   ],
   "source": [
    "purchasedate.year\n",
    "purchasedate.month\n",
    "purchasedate.day"
   ]
  },
  {
   "cell_type": "code",
   "execution_count": 7,
   "id": "e83bc936",
   "metadata": {},
   "outputs": [
    {
     "data": {
      "text/plain": [
       "1"
      ]
     },
     "execution_count": 7,
     "metadata": {},
     "output_type": "execute_result"
    }
   ],
   "source": [
    "purchasedate.isoweekday()"
   ]
  },
  {
   "cell_type": "code",
   "execution_count": 8,
   "id": "69b45bf5",
   "metadata": {},
   "outputs": [],
   "source": [
    "#Sunday is considered as a last day ie 7 and monday as 1"
   ]
  },
  {
   "cell_type": "code",
   "execution_count": 9,
   "id": "de87a533",
   "metadata": {},
   "outputs": [
    {
     "data": {
      "text/plain": [
       "'2019-02-25'"
      ]
     },
     "execution_count": 9,
     "metadata": {},
     "output_type": "execute_result"
    }
   ],
   "source": [
    "str(purchasedate)"
   ]
  },
  {
   "cell_type": "code",
   "execution_count": 11,
   "id": "5b55a979",
   "metadata": {},
   "outputs": [],
   "source": [
    "p_datetime=dt.datetime(2019,2,25,11,34,22)"
   ]
  },
  {
   "cell_type": "code",
   "execution_count": 13,
   "id": "8285ae37",
   "metadata": {},
   "outputs": [
    {
     "data": {
      "text/plain": [
       "datetime.datetime(2019, 2, 25, 11, 34, 22)"
      ]
     },
     "execution_count": 13,
     "metadata": {},
     "output_type": "execute_result"
    }
   ],
   "source": [
    "p_datetime"
   ]
  },
  {
   "cell_type": "code",
   "execution_count": 14,
   "id": "f2f6afd6",
   "metadata": {},
   "outputs": [
    {
     "data": {
      "text/plain": [
       "11"
      ]
     },
     "execution_count": 14,
     "metadata": {},
     "output_type": "execute_result"
    }
   ],
   "source": [
    "p_datetime.hour"
   ]
  },
  {
   "cell_type": "code",
   "execution_count": 15,
   "id": "e64ecc84",
   "metadata": {},
   "outputs": [
    {
     "data": {
      "text/plain": [
       "22"
      ]
     },
     "execution_count": 15,
     "metadata": {},
     "output_type": "execute_result"
    }
   ],
   "source": [
    "p_datetime.second"
   ]
  },
  {
   "cell_type": "code",
   "execution_count": 16,
   "id": "a2a1ce44",
   "metadata": {},
   "outputs": [],
   "source": [
    "#it returns a value in 24 hours cycle "
   ]
  },
  {
   "cell_type": "markdown",
   "id": "e67594e7",
   "metadata": {},
   "source": [
    "# Pandas Timestamp and date  Timeindex object"
   ]
  },
  {
   "cell_type": "code",
   "execution_count": 17,
   "id": "46c9aa31",
   "metadata": {},
   "outputs": [],
   "source": [
    "import pandas as pd"
   ]
  },
  {
   "cell_type": "code",
   "execution_count": 20,
   "id": "6aa1330c",
   "metadata": {},
   "outputs": [],
   "source": [
    "pda=pd.Timestamp('2019-02-02')"
   ]
  },
  {
   "cell_type": "code",
   "execution_count": 21,
   "id": "90a6a665",
   "metadata": {},
   "outputs": [
    {
     "data": {
      "text/plain": [
       "Timestamp('2019-02-02 00:00:00')"
      ]
     },
     "execution_count": 21,
     "metadata": {},
     "output_type": "execute_result"
    }
   ],
   "source": [
    "pda"
   ]
  },
  {
   "cell_type": "code",
   "execution_count": 22,
   "id": "aa82a03a",
   "metadata": {},
   "outputs": [],
   "source": [
    "pda1=pd.Timestamp('2019/12/30 11:55:55')"
   ]
  },
  {
   "cell_type": "code",
   "execution_count": 23,
   "id": "d64da982",
   "metadata": {},
   "outputs": [
    {
     "data": {
      "text/plain": [
       "Timestamp('2019-12-30 11:55:55')"
      ]
     },
     "execution_count": 23,
     "metadata": {},
     "output_type": "execute_result"
    }
   ],
   "source": [
    "pda1"
   ]
  },
  {
   "cell_type": "code",
   "execution_count": 24,
   "id": "a2b0d57b",
   "metadata": {},
   "outputs": [
    {
     "data": {
      "text/plain": [
       "Timestamp('2019-02-25 11:34:22')"
      ]
     },
     "execution_count": 24,
     "metadata": {},
     "output_type": "execute_result"
    }
   ],
   "source": [
    "pd.Timestamp(p_datetime)"
   ]
  },
  {
   "cell_type": "code",
   "execution_count": 25,
   "id": "1811b8e9",
   "metadata": {},
   "outputs": [],
   "source": [
    "#So we can pass the object as a paramters created in regular python "
   ]
  },
  {
   "cell_type": "code",
   "execution_count": 26,
   "id": "bbd640b5",
   "metadata": {},
   "outputs": [],
   "source": [
    "#Date Timeindex object"
   ]
  },
  {
   "cell_type": "code",
   "execution_count": 28,
   "id": "d54c4bb6",
   "metadata": {},
   "outputs": [],
   "source": [
    "pda1=pd.DatetimeIndex(['2019/12/30 11:55:55'])"
   ]
  },
  {
   "cell_type": "code",
   "execution_count": 29,
   "id": "7897ad4e",
   "metadata": {},
   "outputs": [
    {
     "data": {
      "text/plain": [
       "DatetimeIndex(['2019-12-30 11:55:55'], dtype='datetime64[ns]', freq=None)"
      ]
     },
     "execution_count": 29,
     "metadata": {},
     "output_type": "execute_result"
    }
   ],
   "source": [
    "pda1"
   ]
  },
  {
   "cell_type": "code",
   "execution_count": 36,
   "id": "46afa61b",
   "metadata": {},
   "outputs": [],
   "source": [
    "pda1=pd.DatetimeIndex(['2019/12/30', '2019-12-31','2019 - jan-1'])"
   ]
  },
  {
   "cell_type": "code",
   "execution_count": 32,
   "id": "f8225397",
   "metadata": {},
   "outputs": [
    {
     "data": {
      "text/plain": [
       "DatetimeIndex(['2019-12-30', '2019-12-31', '2019-01-01'], dtype='datetime64[ns]', freq=None)"
      ]
     },
     "execution_count": 32,
     "metadata": {},
     "output_type": "execute_result"
    }
   ],
   "source": [
    "pda1"
   ]
  },
  {
   "cell_type": "code",
   "execution_count": 33,
   "id": "260570bb",
   "metadata": {},
   "outputs": [],
   "source": [
    "#So multiple values can be passed to datetimeindex"
   ]
  },
  {
   "cell_type": "code",
   "execution_count": 37,
   "id": "d02c62c1",
   "metadata": {},
   "outputs": [],
   "source": [
    "#other method to create datetime index"
   ]
  },
  {
   "cell_type": "code",
   "execution_count": 40,
   "id": "3358d67e",
   "metadata": {},
   "outputs": [
    {
     "data": {
      "text/plain": [
       "DatetimeIndex(['2019-12-30', '2019-12-31', '2019-01-01'], dtype='datetime64[ns]', freq=None)"
      ]
     },
     "execution_count": 40,
     "metadata": {},
     "output_type": "execute_result"
    }
   ],
   "source": [
    "pd.to_datetime(['2019-12-30', '2019-12-31', '2019-01-01'])"
   ]
  },
  {
   "cell_type": "code",
   "execution_count": 41,
   "id": "e68ddac9",
   "metadata": {},
   "outputs": [
    {
     "data": {
      "text/plain": [
       "DatetimeIndex(['2019-12-30'], dtype='datetime64[ns]', freq=None)"
      ]
     },
     "execution_count": 41,
     "metadata": {},
     "output_type": "execute_result"
    }
   ],
   "source": [
    "pd.to_datetime(['2019-12-30'])"
   ]
  },
  {
   "cell_type": "code",
   "execution_count": 59,
   "id": "7da4690d",
   "metadata": {},
   "outputs": [],
   "source": [
    "#Create a series object , wtih series object we have methods "
   ]
  },
  {
   "cell_type": "code",
   "execution_count": 43,
   "id": "5bf662b6",
   "metadata": {},
   "outputs": [],
   "source": [
    "dt=pd.to_datetime(['2019-12-30', '2019-12-31', '2019-01-01'])"
   ]
  },
  {
   "cell_type": "code",
   "execution_count": 44,
   "id": "3374739f",
   "metadata": {},
   "outputs": [],
   "source": [
    "s=pd.Series(dt)"
   ]
  },
  {
   "cell_type": "code",
   "execution_count": 45,
   "id": "817fc283",
   "metadata": {},
   "outputs": [
    {
     "data": {
      "text/plain": [
       "0   2019-12-30\n",
       "1   2019-12-31\n",
       "2   2019-01-01\n",
       "dtype: datetime64[ns]"
      ]
     },
     "execution_count": 45,
     "metadata": {},
     "output_type": "execute_result"
    }
   ],
   "source": [
    "s"
   ]
  },
  {
   "cell_type": "code",
   "execution_count": 46,
   "id": "41da7cce",
   "metadata": {},
   "outputs": [
    {
     "data": {
      "text/plain": [
       "<pandas.core.indexes.accessors.DatetimeProperties object at 0x0000009252F31D90>"
      ]
     },
     "execution_count": 46,
     "metadata": {},
     "output_type": "execute_result"
    }
   ],
   "source": [
    "s.dt"
   ]
  },
  {
   "cell_type": "code",
   "execution_count": 47,
   "id": "7c8e0ac9",
   "metadata": {},
   "outputs": [
    {
     "data": {
      "text/plain": [
       "0    2019-12-30\n",
       "1    2019-12-31\n",
       "2    2019-01-01\n",
       "dtype: object"
      ]
     },
     "execution_count": 47,
     "metadata": {},
     "output_type": "execute_result"
    }
   ],
   "source": [
    "s.dt.date"
   ]
  },
  {
   "cell_type": "code",
   "execution_count": 49,
   "id": "4d813549",
   "metadata": {},
   "outputs": [
    {
     "data": {
      "text/plain": [
       "0    30\n",
       "1    31\n",
       "2     1\n",
       "dtype: int64"
      ]
     },
     "execution_count": 49,
     "metadata": {},
     "output_type": "execute_result"
    }
   ],
   "source": [
    "s.dt.day"
   ]
  },
  {
   "cell_type": "code",
   "execution_count": 53,
   "id": "d20783af",
   "metadata": {},
   "outputs": [
    {
     "data": {
      "text/plain": [
       "0     Monday\n",
       "1    Tuesday\n",
       "2    Tuesday\n",
       "dtype: object"
      ]
     },
     "execution_count": 53,
     "metadata": {},
     "output_type": "execute_result"
    }
   ],
   "source": [
    "s.dt.day_name()"
   ]
  },
  {
   "cell_type": "code",
   "execution_count": 55,
   "id": "1f69c3ab",
   "metadata": {},
   "outputs": [
    {
     "data": {
      "text/plain": [
       "0    0\n",
       "1    1\n",
       "2    1\n",
       "dtype: int64"
      ]
     },
     "execution_count": 55,
     "metadata": {},
     "output_type": "execute_result"
    }
   ],
   "source": [
    "s.dt.dayofweek"
   ]
  },
  {
   "cell_type": "code",
   "execution_count": 56,
   "id": "32192fb3",
   "metadata": {},
   "outputs": [
    {
     "data": {
      "text/plain": [
       "0    364\n",
       "1    365\n",
       "2      1\n",
       "dtype: int64"
      ]
     },
     "execution_count": 56,
     "metadata": {},
     "output_type": "execute_result"
    }
   ],
   "source": [
    "s.dt.dayofyear"
   ]
  },
  {
   "cell_type": "code",
   "execution_count": 58,
   "id": "cb7d01b6",
   "metadata": {},
   "outputs": [
    {
     "data": {
      "text/plain": [
       "0    31\n",
       "1    31\n",
       "2    31\n",
       "dtype: int64"
      ]
     },
     "execution_count": 58,
     "metadata": {},
     "output_type": "execute_result"
    }
   ],
   "source": [
    "s.dt.days_in_month"
   ]
  },
  {
   "cell_type": "markdown",
   "id": "e0330c5e",
   "metadata": {},
   "source": [
    "# Time Span"
   ]
  },
  {
   "cell_type": "code",
   "execution_count": 60,
   "id": "ec54d55e",
   "metadata": {},
   "outputs": [
    {
     "data": {
      "text/plain": [
       "Period('2019-01-01', 'D')"
      ]
     },
     "execution_count": 60,
     "metadata": {},
     "output_type": "execute_result"
    }
   ],
   "source": [
    "pd.Period('2019-01-01')"
   ]
  },
  {
   "cell_type": "code",
   "execution_count": 61,
   "id": "cb5d60e5",
   "metadata": {},
   "outputs": [],
   "source": [
    "#So it returns period object , its pointing to span of time for gievn day, here it represent ful lday"
   ]
  },
  {
   "cell_type": "code",
   "execution_count": 63,
   "id": "7745393a",
   "metadata": {},
   "outputs": [
    {
     "data": {
      "text/plain": [
       "Period('2019-01', 'M')"
      ]
     },
     "execution_count": 63,
     "metadata": {},
     "output_type": "execute_result"
    }
   ],
   "source": [
    "pd.Period('2019-01') # this is span of january month"
   ]
  },
  {
   "cell_type": "code",
   "execution_count": 65,
   "id": "d7b88aec",
   "metadata": {},
   "outputs": [
    {
     "data": {
      "text/plain": [
       "Period('2019', 'A-DEC')"
      ]
     },
     "execution_count": 65,
     "metadata": {},
     "output_type": "execute_result"
    }
   ],
   "source": [
    "pd.Period('2019') # This is span of one year "
   ]
  },
  {
   "cell_type": "code",
   "execution_count": 68,
   "id": "2e7eeca3",
   "metadata": {},
   "outputs": [
    {
     "data": {
      "text/plain": [
       "Period('2019-01-01 08:30:30', 'S')"
      ]
     },
     "execution_count": 68,
     "metadata": {},
     "output_type": "execute_result"
    }
   ],
   "source": [
    "pd.Period('2019-01-01 08:30:30') # This is span of seconds which is smallest unit"
   ]
  },
  {
   "cell_type": "code",
   "execution_count": 70,
   "id": "65902b79",
   "metadata": {},
   "outputs": [
    {
     "data": {
      "text/plain": [
       "Period('2019-01', 'M')"
      ]
     },
     "execution_count": 70,
     "metadata": {},
     "output_type": "execute_result"
    }
   ],
   "source": [
    "pd.Period('2019-01-01', freq=\"M\") # So we are forcing to provide period as month span"
   ]
  },
  {
   "cell_type": "code",
   "execution_count": 71,
   "id": "83d45252",
   "metadata": {},
   "outputs": [],
   "source": [
    "p=pd.Period('2019-01-01 01:30:30', freq='H') # So here it represent span of hour "
   ]
  },
  {
   "cell_type": "code",
   "execution_count": 73,
   "id": "613ecc5a",
   "metadata": {},
   "outputs": [
    {
     "data": {
      "text/plain": [
       "Period('2019-01-01 02:00', 'H')"
      ]
     },
     "execution_count": 73,
     "metadata": {},
     "output_type": "execute_result"
    }
   ],
   "source": [
    "p+1 # SO lets add one hour to given hour so to period 1 , 1 hour is added"
   ]
  },
  {
   "cell_type": "code",
   "execution_count": 74,
   "id": "fd5d862f",
   "metadata": {},
   "outputs": [],
   "source": [
    "p=pd.Period('2019-01-01 01:30:30', freq='4H')  # Here frequency is span of 4 hours "
   ]
  },
  {
   "cell_type": "code",
   "execution_count": 76,
   "id": "c30eda52",
   "metadata": {},
   "outputs": [
    {
     "data": {
      "text/plain": [
       "Period('2019-01-01 05:00', '4H')"
      ]
     },
     "execution_count": 76,
     "metadata": {},
     "output_type": "execute_result"
    }
   ],
   "source": [
    "p+1 #So here 4 hours are added "
   ]
  },
  {
   "cell_type": "code",
   "execution_count": 78,
   "id": "7f4cfc74",
   "metadata": {},
   "outputs": [
    {
     "data": {
      "text/plain": [
       "Period('2018-12-31 13:00', '4H')"
      ]
     },
     "execution_count": 78,
     "metadata": {},
     "output_type": "execute_result"
    }
   ],
   "source": [
    "p-3 # go back 3 hours "
   ]
  },
  {
   "cell_type": "code",
   "execution_count": 79,
   "id": "8027703e",
   "metadata": {},
   "outputs": [],
   "source": [
    "# we can override default freq  using offset "
   ]
  },
  {
   "cell_type": "code",
   "execution_count": 80,
   "id": "c5bd91b8",
   "metadata": {},
   "outputs": [
    {
     "data": {
      "text/plain": [
       "Period('2019-01-01 04:00', '4H')"
      ]
     },
     "execution_count": 80,
     "metadata": {},
     "output_type": "execute_result"
    }
   ],
   "source": [
    "p+pd.offsets.Hour(3)"
   ]
  },
  {
   "cell_type": "code",
   "execution_count": 81,
   "id": "d720ac19",
   "metadata": {},
   "outputs": [
    {
     "data": {
      "text/plain": [
       "Period('2019-01-01 03:00', '4H')"
      ]
     },
     "execution_count": 81,
     "metadata": {},
     "output_type": "execute_result"
    }
   ],
   "source": [
    "p+pd.offsets.Minute(120) # her ewe can add i ndifferent unit but i should be compatible"
   ]
  },
  {
   "cell_type": "code",
   "execution_count": 82,
   "id": "5a86195a",
   "metadata": {},
   "outputs": [],
   "source": [
    "#So freq here is hour so if we try to add 10 mins it will not be possible "
   ]
  },
  {
   "cell_type": "code",
   "execution_count": 83,
   "id": "a4e748a7",
   "metadata": {},
   "outputs": [],
   "source": [
    "#Manipulating dates using datetime lib"
   ]
  },
  {
   "cell_type": "code",
   "execution_count": 84,
   "id": "3bfeab8b",
   "metadata": {},
   "outputs": [],
   "source": [
    "import datetime as dt"
   ]
  },
  {
   "cell_type": "code",
   "execution_count": 85,
   "id": "9fdf23f8",
   "metadata": {},
   "outputs": [
    {
     "data": {
      "text/plain": [
       "Period('2019-01-01 04:00', '4H')"
      ]
     },
     "execution_count": 85,
     "metadata": {},
     "output_type": "execute_result"
    }
   ],
   "source": [
    "p+dt.timedelta(minutes=180)"
   ]
  },
  {
   "cell_type": "code",
   "execution_count": 86,
   "id": "88226611",
   "metadata": {},
   "outputs": [
    {
     "data": {
      "text/plain": [
       "Period('2019-01-01 02:00', '4H')"
      ]
     },
     "execution_count": 86,
     "metadata": {},
     "output_type": "execute_result"
    }
   ],
   "source": [
    "p+dt.timedelta(seconds=3600)"
   ]
  },
  {
   "cell_type": "markdown",
   "id": "8f27afb3",
   "metadata": {},
   "source": [
    "# Generate time sequence"
   ]
  },
  {
   "cell_type": "code",
   "execution_count": 87,
   "id": "c72bb71c",
   "metadata": {},
   "outputs": [],
   "source": [
    "#Generatig timeseries "
   ]
  },
  {
   "cell_type": "code",
   "execution_count": 92,
   "id": "fcd5cac3",
   "metadata": {},
   "outputs": [],
   "source": [
    "import pandas as pd"
   ]
  },
  {
   "cell_type": "code",
   "execution_count": 93,
   "id": "a111028b",
   "metadata": {},
   "outputs": [
    {
     "data": {
      "text/plain": [
       "DatetimeIndex(['2019-01-01', '2019-01-02', '2019-01-03', '2019-01-04',\n",
       "               '2019-01-05'],\n",
       "              dtype='datetime64[ns]', freq='D')"
      ]
     },
     "execution_count": 93,
     "metadata": {},
     "output_type": "execute_result"
    }
   ],
   "source": [
    "pd.date_range(start='2019-01-01',end='2019-01-05')"
   ]
  },
  {
   "cell_type": "code",
   "execution_count": 106,
   "id": "767fb58f",
   "metadata": {},
   "outputs": [
    {
     "data": {
      "text/plain": [
       "DatetimeIndex(['2019-12-31', '2020-12-31', '2021-12-31'], dtype='datetime64[ns]', freq='A-DEC')"
      ]
     },
     "execution_count": 106,
     "metadata": {},
     "output_type": "execute_result"
    }
   ],
   "source": [
    " pd.date_range(start='2019-01-01',end='2022-01-05' , freq='Y') #Year end "
   ]
  },
  {
   "cell_type": "code",
   "execution_count": 96,
   "id": "ff85b53b",
   "metadata": {},
   "outputs": [
    {
     "data": {
      "text/plain": [
       "DatetimeIndex(['2019-01-06', '2019-01-13', '2019-01-20', '2019-01-27'], dtype='datetime64[ns]', freq='W-SUN')"
      ]
     },
     "execution_count": 96,
     "metadata": {},
     "output_type": "execute_result"
    }
   ],
   "source": [
    "pd.date_range(start='2019-01-01',end='2019-02-01', freq='W') # it assumes week starts on sunday "
   ]
  },
  {
   "cell_type": "code",
   "execution_count": 97,
   "id": "87e2a864",
   "metadata": {},
   "outputs": [
    {
     "data": {
      "text/plain": [
       "DatetimeIndex(['2019-01-07', '2019-01-14', '2019-01-21', '2019-01-28'], dtype='datetime64[ns]', freq='W-MON')"
      ]
     },
     "execution_count": 97,
     "metadata": {},
     "output_type": "execute_result"
    }
   ],
   "source": [
    " pd.date_range(start='2019-01-01',end='2019-02-01', freq='W-MON') # force to start week on monday "
   ]
  },
  {
   "cell_type": "code",
   "execution_count": 102,
   "id": "936f457d",
   "metadata": {},
   "outputs": [],
   "source": [
    "pd1= pd.date_range(start='2019-01-01',end='2019-02-01', freq='W-MON') # force to start week on monday "
   ]
  },
  {
   "cell_type": "code",
   "execution_count": 103,
   "id": "e73c9112",
   "metadata": {},
   "outputs": [
    {
     "data": {
      "text/plain": [
       "Timestamp('2019-01-07 00:00:00', freq='W-MON')"
      ]
     },
     "execution_count": 103,
     "metadata": {},
     "output_type": "execute_result"
    }
   ],
   "source": [
    "pd1[0]"
   ]
  },
  {
   "cell_type": "code",
   "execution_count": 104,
   "id": "b99d7b05",
   "metadata": {},
   "outputs": [
    {
     "data": {
      "text/plain": [
       "pandas.core.indexes.datetimes.DatetimeIndex"
      ]
     },
     "execution_count": 104,
     "metadata": {},
     "output_type": "execute_result"
    }
   ],
   "source": [
    "type(pd1)"
   ]
  },
  {
   "cell_type": "code",
   "execution_count": 105,
   "id": "db563f72",
   "metadata": {},
   "outputs": [],
   "source": [
    "#Refer to https://pandas.pydata.org/docs/user_guide/timeseries.html for all functions and methods "
   ]
  },
  {
   "cell_type": "code",
   "execution_count": 107,
   "id": "ecaa5576",
   "metadata": {},
   "outputs": [],
   "source": [
    "pd1= pd.date_range(start='2019-01-01',end='2019-02-01', freq='H') "
   ]
  },
  {
   "cell_type": "code",
   "execution_count": 108,
   "id": "4953ca30",
   "metadata": {},
   "outputs": [
    {
     "data": {
      "text/plain": [
       "DatetimeIndex(['2019-01-01 00:00:00', '2019-01-01 01:00:00',\n",
       "               '2019-01-01 02:00:00', '2019-01-01 03:00:00',\n",
       "               '2019-01-01 04:00:00', '2019-01-01 05:00:00',\n",
       "               '2019-01-01 06:00:00', '2019-01-01 07:00:00',\n",
       "               '2019-01-01 08:00:00', '2019-01-01 09:00:00',\n",
       "               ...\n",
       "               '2019-01-31 15:00:00', '2019-01-31 16:00:00',\n",
       "               '2019-01-31 17:00:00', '2019-01-31 18:00:00',\n",
       "               '2019-01-31 19:00:00', '2019-01-31 20:00:00',\n",
       "               '2019-01-31 21:00:00', '2019-01-31 22:00:00',\n",
       "               '2019-01-31 23:00:00', '2019-02-01 00:00:00'],\n",
       "              dtype='datetime64[ns]', length=745, freq='H')"
      ]
     },
     "execution_count": 108,
     "metadata": {},
     "output_type": "execute_result"
    }
   ],
   "source": [
    "pd1"
   ]
  },
  {
   "cell_type": "code",
   "execution_count": 109,
   "id": "c45b36a3",
   "metadata": {},
   "outputs": [
    {
     "data": {
      "text/plain": [
       "DatetimeIndex(['2019-01-01 00:00:00', '2019-01-01 06:00:00',\n",
       "               '2019-01-01 12:00:00', '2019-01-01 18:00:00',\n",
       "               '2019-01-02 00:00:00', '2019-01-02 06:00:00',\n",
       "               '2019-01-02 12:00:00', '2019-01-02 18:00:00',\n",
       "               '2019-01-03 00:00:00', '2019-01-03 06:00:00',\n",
       "               ...\n",
       "               '2019-01-29 18:00:00', '2019-01-30 00:00:00',\n",
       "               '2019-01-30 06:00:00', '2019-01-30 12:00:00',\n",
       "               '2019-01-30 18:00:00', '2019-01-31 00:00:00',\n",
       "               '2019-01-31 06:00:00', '2019-01-31 12:00:00',\n",
       "               '2019-01-31 18:00:00', '2019-02-01 00:00:00'],\n",
       "              dtype='datetime64[ns]', length=125, freq='6H')"
      ]
     },
     "execution_count": 109,
     "metadata": {},
     "output_type": "execute_result"
    }
   ],
   "source": [
    "pd.date_range(start='2019-01-01',end='2019-02-01', freq='6H') # add 6 hours"
   ]
  },
  {
   "cell_type": "code",
   "execution_count": 113,
   "id": "b61410db",
   "metadata": {},
   "outputs": [
    {
     "data": {
      "text/plain": [
       "DatetimeIndex(['2019-01-01 00:00:00', '2019-01-01 06:00:00',\n",
       "               '2019-01-01 12:00:00', '2019-01-01 18:00:00',\n",
       "               '2019-01-02 00:00:00'],\n",
       "              dtype='datetime64[ns]', freq='6H')"
      ]
     },
     "execution_count": 113,
     "metadata": {},
     "output_type": "execute_result"
    }
   ],
   "source": [
    "pd.date_range(start='2019-01-01',periods=5, freq='6H') # add 6 hours , generate only 5 values"
   ]
  },
  {
   "cell_type": "markdown",
   "id": "c763c20e",
   "metadata": {},
   "source": [
    "# Other variance "
   ]
  },
  {
   "cell_type": "code",
   "execution_count": 115,
   "id": "5614af0c",
   "metadata": {},
   "outputs": [
    {
     "data": {
      "text/plain": [
       "DatetimeIndex(['2019-01-01', '2019-03-01', '2019-05-01', '2019-07-01',\n",
       "               '2019-09-01'],\n",
       "              dtype='datetime64[ns]', freq='<DateOffset: months=2>')"
      ]
     },
     "execution_count": 115,
     "metadata": {},
     "output_type": "execute_result"
    }
   ],
   "source": [
    "pd.date_range(start='2019-01-01',periods=5, freq=pd.DateOffset(months=2)) # add 2 months , generate only 5 values"
   ]
  },
  {
   "cell_type": "code",
   "execution_count": 116,
   "id": "00216966",
   "metadata": {},
   "outputs": [
    {
     "data": {
      "text/plain": [
       "DatetimeIndex(['2019-01-01', '2019-01-15', '2019-01-29', '2019-02-12',\n",
       "               '2019-02-26'],\n",
       "              dtype='datetime64[ns]', freq='<DateOffset: weeks=2>')"
      ]
     },
     "execution_count": 116,
     "metadata": {},
     "output_type": "execute_result"
    }
   ],
   "source": [
    "pd.date_range(start='2019-01-01',periods=5, freq=pd.DateOffset(weeks=2)) # add 2 months , generate only 5 values"
   ]
  },
  {
   "cell_type": "code",
   "execution_count": 117,
   "id": "39c71c39",
   "metadata": {},
   "outputs": [
    {
     "data": {
      "text/plain": [
       "DatetimeIndex(['2019-01-01 00:00:00', '2019-01-01 00:00:20',\n",
       "               '2019-01-01 00:00:40', '2019-01-01 00:01:00',\n",
       "               '2019-01-01 00:01:20'],\n",
       "              dtype='datetime64[ns]', freq='<DateOffset: seconds=20>')"
      ]
     },
     "execution_count": 117,
     "metadata": {},
     "output_type": "execute_result"
    }
   ],
   "source": [
    "pd.date_range(start='2019-01-01',periods=5, freq=pd.DateOffset(seconds=20)) # add 2 months , generate only 5 values"
   ]
  },
  {
   "cell_type": "code",
   "execution_count": 119,
   "id": "f65ffbe1",
   "metadata": {},
   "outputs": [],
   "source": [
    "# we can implement same concept with period_range "
   ]
  },
  {
   "cell_type": "code",
   "execution_count": 120,
   "id": "a6f91c3d",
   "metadata": {},
   "outputs": [
    {
     "data": {
      "text/plain": [
       "PeriodIndex(['2019-01-01', '2019-01-02', '2019-01-03', '2019-01-04',\n",
       "             '2019-01-05', '2019-01-06', '2019-01-07', '2019-01-08',\n",
       "             '2019-01-09', '2019-01-10', '2019-01-11', '2019-01-12',\n",
       "             '2019-01-13', '2019-01-14', '2019-01-15', '2019-01-16',\n",
       "             '2019-01-17', '2019-01-18', '2019-01-19', '2019-01-20',\n",
       "             '2019-01-21', '2019-01-22', '2019-01-23', '2019-01-24',\n",
       "             '2019-01-25', '2019-01-26', '2019-01-27', '2019-01-28',\n",
       "             '2019-01-29', '2019-01-30', '2019-01-31', '2019-02-01'],\n",
       "            dtype='period[D]')"
      ]
     },
     "execution_count": 120,
     "metadata": {},
     "output_type": "execute_result"
    }
   ],
   "source": [
    "pd.period_range(start='2019-01-01',end='2019-02-01',freq='D')"
   ]
  },
  {
   "cell_type": "code",
   "execution_count": null,
   "id": "57eb25f0",
   "metadata": {},
   "outputs": [],
   "source": []
  }
 ],
 "metadata": {
  "kernelspec": {
   "display_name": "Python 3 (ipykernel)",
   "language": "python",
   "name": "python3"
  },
  "language_info": {
   "codemirror_mode": {
    "name": "ipython",
    "version": 3
   },
   "file_extension": ".py",
   "mimetype": "text/x-python",
   "name": "python",
   "nbconvert_exporter": "python",
   "pygments_lexer": "ipython3",
   "version": "3.9.12"
  }
 },
 "nbformat": 4,
 "nbformat_minor": 5
}

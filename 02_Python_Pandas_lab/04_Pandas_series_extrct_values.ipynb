{
 "cells": [
  {
   "cell_type": "markdown",
   "id": "e19028b2-160d-4a9b-9208-d88599b2b791",
   "metadata": {},
   "source": [
    "# Extract values in series"
   ]
  },
  {
   "cell_type": "code",
   "execution_count": 21,
   "id": "30fedf31-fd55-4172-98b9-fafa139e3449",
   "metadata": {},
   "outputs": [],
   "source": [
    "#WE CAN EITHER PASS INDEX VALUES OR INTEGER VALUES"
   ]
  },
  {
   "cell_type": "code",
   "execution_count": 22,
   "id": "e95c622b-572d-4add-9e5c-a6a8e7599b67",
   "metadata": {},
   "outputs": [],
   "source": [
    "import pandas as pd\n",
    "months=['Jan','Feb','March','April','May','June','July','Aug']\n",
    "temp=[31,28,31,30,31,30,31,30]"
   ]
  },
  {
   "cell_type": "code",
   "execution_count": 23,
   "id": "eaff002e-4850-4100-b92b-209073bf80ee",
   "metadata": {},
   "outputs": [],
   "source": [
    "s1=pd.Series(temp,months)"
   ]
  },
  {
   "cell_type": "code",
   "execution_count": 24,
   "id": "3f0d5952-b304-4149-b446-3de721f79f44",
   "metadata": {},
   "outputs": [
    {
     "data": {
      "text/plain": [
       "Jan      31\n",
       "Feb      28\n",
       "March    31\n",
       "April    30\n",
       "May      31\n",
       "June     30\n",
       "July     31\n",
       "Aug      30\n",
       "dtype: int64"
      ]
     },
     "execution_count": 24,
     "metadata": {},
     "output_type": "execute_result"
    }
   ],
   "source": [
    "s1"
   ]
  },
  {
   "cell_type": "code",
   "execution_count": 25,
   "id": "783def40-71e6-423c-86fe-f85a2fe5662a",
   "metadata": {},
   "outputs": [
    {
     "data": {
      "text/plain": [
       "31"
      ]
     },
     "execution_count": 25,
     "metadata": {},
     "output_type": "execute_result"
    }
   ],
   "source": [
    "s1[0]"
   ]
  },
  {
   "cell_type": "code",
   "execution_count": 26,
   "id": "22c431d2-6e5f-4ec4-92b5-02ee73e22e6b",
   "metadata": {},
   "outputs": [
    {
     "data": {
      "text/plain": [
       "31"
      ]
     },
     "execution_count": 26,
     "metadata": {},
     "output_type": "execute_result"
    }
   ],
   "source": [
    "s1['March']"
   ]
  },
  {
   "cell_type": "code",
   "execution_count": 27,
   "id": "8e6cc9d6-7aab-4cf6-81e9-512a96e65903",
   "metadata": {},
   "outputs": [
    {
     "data": {
      "text/plain": [
       "28"
      ]
     },
     "execution_count": 27,
     "metadata": {},
     "output_type": "execute_result"
    }
   ],
   "source": [
    "s1['Feb']"
   ]
  },
  {
   "cell_type": "code",
   "execution_count": 28,
   "id": "354c332b-f80b-4ea7-a5a7-dd9316556494",
   "metadata": {},
   "outputs": [
    {
     "data": {
      "text/plain": [
       "Feb      28\n",
       "March    31\n",
       "April    30\n",
       "May      31\n",
       "dtype: int64"
      ]
     },
     "execution_count": 28,
     "metadata": {},
     "output_type": "execute_result"
    }
   ],
   "source": [
    "s1[1:5]"
   ]
  },
  {
   "cell_type": "code",
   "execution_count": 29,
   "id": "c99cd066-0b68-458c-82bb-04ce8ad6626e",
   "metadata": {},
   "outputs": [
    {
     "data": {
      "text/plain": [
       "Feb      28\n",
       "March    31\n",
       "April    30\n",
       "May      31\n",
       "June     30\n",
       "July     31\n",
       "dtype: int64"
      ]
     },
     "execution_count": 29,
     "metadata": {},
     "output_type": "execute_result"
    }
   ],
   "source": [
    "s1['Feb':'July']"
   ]
  },
  {
   "cell_type": "code",
   "execution_count": 30,
   "id": "3ea9a548-9a2d-46c3-a00e-292f7858a920",
   "metadata": {},
   "outputs": [
    {
     "data": {
      "text/plain": [
       "Jan      31\n",
       "Feb      28\n",
       "March    31\n",
       "April    30\n",
       "dtype: int64"
      ]
     },
     "execution_count": 30,
     "metadata": {},
     "output_type": "execute_result"
    }
   ],
   "source": [
    "s1[:'April']"
   ]
  },
  {
   "cell_type": "code",
   "execution_count": 31,
   "id": "b2ffc560-c787-418a-ad74-e986187607b7",
   "metadata": {},
   "outputs": [
    {
     "data": {
      "text/plain": [
       "April    30\n",
       "June     30\n",
       "dtype: int64"
      ]
     },
     "execution_count": 31,
     "metadata": {},
     "output_type": "execute_result"
    }
   ],
   "source": [
    "s1[[3,5]]"
   ]
  },
  {
   "cell_type": "code",
   "execution_count": 32,
   "id": "664f05dc-906d-438f-8cef-a63df5211cc5",
   "metadata": {},
   "outputs": [
    {
     "data": {
      "text/plain": [
       "July    31\n",
       "May     31\n",
       "dtype: int64"
      ]
     },
     "execution_count": 32,
     "metadata": {},
     "output_type": "execute_result"
    }
   ],
   "source": [
    "s1[[-2,-4]]"
   ]
  },
  {
   "cell_type": "code",
   "execution_count": 33,
   "id": "d982a17a-3817-4542-996e-922838a872da",
   "metadata": {},
   "outputs": [
    {
     "data": {
      "text/plain": [
       "July    31\n",
       "Aug     30\n",
       "dtype: int64"
      ]
     },
     "execution_count": 33,
     "metadata": {},
     "output_type": "execute_result"
    }
   ],
   "source": [
    "s1['July':]"
   ]
  },
  {
   "cell_type": "code",
   "execution_count": null,
   "id": "a190bae9-08bb-4e34-9b0c-e144d6e5ee41",
   "metadata": {},
   "outputs": [],
   "source": []
  },
  {
   "cell_type": "code",
   "execution_count": null,
   "id": "0cdbd8ba-a1f7-4766-bb3c-6d88adb23e59",
   "metadata": {},
   "outputs": [],
   "source": []
  }
 ],
 "metadata": {
  "kernelspec": {
   "display_name": "Python 3 (ipykernel)",
   "language": "python",
   "name": "python3"
  },
  "language_info": {
   "codemirror_mode": {
    "name": "ipython",
    "version": 3
   },
   "file_extension": ".py",
   "mimetype": "text/x-python",
   "name": "python",
   "nbconvert_exporter": "python",
   "pygments_lexer": "ipython3",
   "version": "3.9.12"
  }
 },
 "nbformat": 4,
 "nbformat_minor": 5
}

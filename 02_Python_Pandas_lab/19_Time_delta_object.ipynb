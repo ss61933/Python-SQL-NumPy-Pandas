{
 "cells": [
  {
   "cell_type": "code",
   "execution_count": 1,
   "id": "f54b02b8",
   "metadata": {},
   "outputs": [],
   "source": [
    "import pandas as pd"
   ]
  },
  {
   "cell_type": "code",
   "execution_count": 2,
   "id": "e1a06d47",
   "metadata": {},
   "outputs": [],
   "source": [
    " timeA=pd.Timestamp(\"2017-01-01 01:30:30\")\n",
    " timeB=pd.Timestamp(\"2017-01-02 02:30:30\")"
   ]
  },
  {
   "cell_type": "code",
   "execution_count": 4,
   "id": "d6db5aa4",
   "metadata": {},
   "outputs": [
    {
     "data": {
      "text/plain": [
       "Timedelta('1 days 01:00:00')"
      ]
     },
     "execution_count": 4,
     "metadata": {},
     "output_type": "execute_result"
    }
   ],
   "source": [
    "timeB-timeA # return typs is timedelta object"
   ]
  },
  {
   "cell_type": "code",
   "execution_count": 8,
   "id": "f30d37de",
   "metadata": {},
   "outputs": [
    {
     "data": {
      "text/plain": [
       "Timedelta('16 days 00:23:00')"
      ]
     },
     "execution_count": 8,
     "metadata": {},
     "output_type": "execute_result"
    }
   ],
   "source": [
    "pd.Timedelta(weeks=2, days=2, minutes=23) # So we created data for 16 days and 23 seconds"
   ]
  },
  {
   "cell_type": "code",
   "execution_count": 9,
   "id": "8883705c",
   "metadata": {},
   "outputs": [],
   "source": [
    "pd1=pd.Timedelta(weeks=2, days=2, minutes=23) # So we created data for 16 days and 23 seconds"
   ]
  },
  {
   "cell_type": "code",
   "execution_count": 10,
   "id": "f13eed4f",
   "metadata": {},
   "outputs": [
    {
     "data": {
      "text/plain": [
       "Timedelta('16 days 00:23:00')"
      ]
     },
     "execution_count": 10,
     "metadata": {},
     "output_type": "execute_result"
    }
   ],
   "source": [
    "pd1"
   ]
  },
  {
   "cell_type": "code",
   "execution_count": null,
   "id": "dc0f4813",
   "metadata": {},
   "outputs": [],
   "source": []
  }
 ],
 "metadata": {
  "kernelspec": {
   "display_name": "Python 3 (ipykernel)",
   "language": "python",
   "name": "python3"
  },
  "language_info": {
   "codemirror_mode": {
    "name": "ipython",
    "version": 3
   },
   "file_extension": ".py",
   "mimetype": "text/x-python",
   "name": "python",
   "nbconvert_exporter": "python",
   "pygments_lexer": "ipython3",
   "version": "3.9.12"
  }
 },
 "nbformat": 4,
 "nbformat_minor": 5
}

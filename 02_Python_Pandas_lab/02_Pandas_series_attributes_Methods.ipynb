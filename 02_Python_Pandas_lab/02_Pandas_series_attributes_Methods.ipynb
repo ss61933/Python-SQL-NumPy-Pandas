{
 "cells": [
  {
   "cell_type": "markdown",
   "id": "7c37c517-8143-4eee-b25d-ca238fe24483",
   "metadata": {},
   "source": [
    "# Attributes and Methods"
   ]
  },
  {
   "cell_type": "code",
   "execution_count": 3,
   "id": "5b0e8c40-c34f-42ed-aa15-0df7c51c4a92",
   "metadata": {},
   "outputs": [],
   "source": [
    "import pandas as pd"
   ]
  },
  {
   "cell_type": "code",
   "execution_count": 40,
   "id": "61806c0f-ddbc-4e34-8ff2-d9cff630da13",
   "metadata": {},
   "outputs": [],
   "source": [
    "s=pd.read_csv('Pandas_Series1.csv',usecols=['age'])"
   ]
  },
  {
   "cell_type": "code",
   "execution_count": 21,
   "id": "399b6682-14fe-4f49-a819-ac76679c6123",
   "metadata": {},
   "outputs": [
    {
     "name": "stdout",
     "output_type": "stream",
     "text": [
      "   age\n",
      "0   12\n",
      "1   31\n",
      "2   23\n",
      "3   21\n",
      "4   65\n",
      "5   67\n",
      "6   38\n",
      "7   92\n",
      "8   12\n"
     ]
    }
   ],
   "source": [
    "print(s)\n",
    "#Below are few attributes"
   ]
  },
  {
   "cell_type": "code",
   "execution_count": 41,
   "id": "e8714f71-8196-4578-8835-674778f1f3c5",
   "metadata": {},
   "outputs": [
    {
     "data": {
      "text/plain": [
       "RangeIndex(start=0, stop=9, step=1)"
      ]
     },
     "execution_count": 41,
     "metadata": {},
     "output_type": "execute_result"
    }
   ],
   "source": [
    "s.index"
   ]
  },
  {
   "cell_type": "code",
   "execution_count": 8,
   "id": "126d552c-b81f-4cbc-b36c-4db44509031f",
   "metadata": {},
   "outputs": [
    {
     "data": {
      "text/plain": [
       "array([[12],\n",
       "       [31],\n",
       "       [23],\n",
       "       [21],\n",
       "       [65],\n",
       "       [67],\n",
       "       [38],\n",
       "       [92],\n",
       "       [12]], dtype=int64)"
      ]
     },
     "execution_count": 8,
     "metadata": {},
     "output_type": "execute_result"
    }
   ],
   "source": [
    "s.values"
   ]
  },
  {
   "cell_type": "code",
   "execution_count": 9,
   "id": "6739aad1-4b58-4571-9aaa-21087cbbffb5",
   "metadata": {},
   "outputs": [
    {
     "ename": "AttributeError",
     "evalue": "'DataFrame' object has no attribute 'dtype'",
     "output_type": "error",
     "traceback": [
      "\u001b[1;31m---------------------------------------------------------------------------\u001b[0m",
      "\u001b[1;31mAttributeError\u001b[0m                            Traceback (most recent call last)",
      "Input \u001b[1;32mIn [9]\u001b[0m, in \u001b[0;36m<cell line: 1>\u001b[1;34m()\u001b[0m\n\u001b[1;32m----> 1\u001b[0m \u001b[43ms\u001b[49m\u001b[38;5;241;43m.\u001b[39;49m\u001b[43mdtype\u001b[49m\n",
      "File \u001b[1;32m~\\anaconda3\\lib\\site-packages\\pandas\\core\\generic.py:5575\u001b[0m, in \u001b[0;36mNDFrame.__getattr__\u001b[1;34m(self, name)\u001b[0m\n\u001b[0;32m   5568\u001b[0m \u001b[38;5;28;01mif\u001b[39;00m (\n\u001b[0;32m   5569\u001b[0m     name \u001b[38;5;129;01mnot\u001b[39;00m \u001b[38;5;129;01min\u001b[39;00m \u001b[38;5;28mself\u001b[39m\u001b[38;5;241m.\u001b[39m_internal_names_set\n\u001b[0;32m   5570\u001b[0m     \u001b[38;5;129;01mand\u001b[39;00m name \u001b[38;5;129;01mnot\u001b[39;00m \u001b[38;5;129;01min\u001b[39;00m \u001b[38;5;28mself\u001b[39m\u001b[38;5;241m.\u001b[39m_metadata\n\u001b[0;32m   5571\u001b[0m     \u001b[38;5;129;01mand\u001b[39;00m name \u001b[38;5;129;01mnot\u001b[39;00m \u001b[38;5;129;01min\u001b[39;00m \u001b[38;5;28mself\u001b[39m\u001b[38;5;241m.\u001b[39m_accessors\n\u001b[0;32m   5572\u001b[0m     \u001b[38;5;129;01mand\u001b[39;00m \u001b[38;5;28mself\u001b[39m\u001b[38;5;241m.\u001b[39m_info_axis\u001b[38;5;241m.\u001b[39m_can_hold_identifiers_and_holds_name(name)\n\u001b[0;32m   5573\u001b[0m ):\n\u001b[0;32m   5574\u001b[0m     \u001b[38;5;28;01mreturn\u001b[39;00m \u001b[38;5;28mself\u001b[39m[name]\n\u001b[1;32m-> 5575\u001b[0m \u001b[38;5;28;01mreturn\u001b[39;00m \u001b[38;5;28;43mobject\u001b[39;49m\u001b[38;5;241;43m.\u001b[39;49m\u001b[38;5;21;43m__getattribute__\u001b[39;49m\u001b[43m(\u001b[49m\u001b[38;5;28;43mself\u001b[39;49m\u001b[43m,\u001b[49m\u001b[43m \u001b[49m\u001b[43mname\u001b[49m\u001b[43m)\u001b[49m\n",
      "\u001b[1;31mAttributeError\u001b[0m: 'DataFrame' object has no attribute 'dtype'"
     ]
    }
   ],
   "source": [
    "s.dtype"
   ]
  },
  {
   "cell_type": "code",
   "execution_count": null,
   "id": "7c7495c8-cb7a-4cc5-a4ce-9e76aacfb32a",
   "metadata": {},
   "outputs": [],
   "source": [
    "s.ndim"
   ]
  },
  {
   "cell_type": "code",
   "execution_count": 42,
   "id": "9079b198-7dd8-4cb1-86b3-b7de11bd1e5a",
   "metadata": {},
   "outputs": [
    {
     "data": {
      "text/plain": [
       "9"
      ]
     },
     "execution_count": 42,
     "metadata": {},
     "output_type": "execute_result"
    }
   ],
   "source": [
    "s.size"
   ]
  },
  {
   "cell_type": "code",
   "execution_count": 12,
   "id": "5bdf78aa-0674-4b8e-992d-d57f9863b025",
   "metadata": {},
   "outputs": [
    {
     "ename": "AttributeError",
     "evalue": "'DataFrame' object has no attribute 'is_unique'",
     "output_type": "error",
     "traceback": [
      "\u001b[1;31m---------------------------------------------------------------------------\u001b[0m",
      "\u001b[1;31mAttributeError\u001b[0m                            Traceback (most recent call last)",
      "Input \u001b[1;32mIn [12]\u001b[0m, in \u001b[0;36m<cell line: 1>\u001b[1;34m()\u001b[0m\n\u001b[1;32m----> 1\u001b[0m \u001b[43ms\u001b[49m\u001b[38;5;241;43m.\u001b[39;49m\u001b[43mis_unique\u001b[49m\n",
      "File \u001b[1;32m~\\anaconda3\\lib\\site-packages\\pandas\\core\\generic.py:5575\u001b[0m, in \u001b[0;36mNDFrame.__getattr__\u001b[1;34m(self, name)\u001b[0m\n\u001b[0;32m   5568\u001b[0m \u001b[38;5;28;01mif\u001b[39;00m (\n\u001b[0;32m   5569\u001b[0m     name \u001b[38;5;129;01mnot\u001b[39;00m \u001b[38;5;129;01min\u001b[39;00m \u001b[38;5;28mself\u001b[39m\u001b[38;5;241m.\u001b[39m_internal_names_set\n\u001b[0;32m   5570\u001b[0m     \u001b[38;5;129;01mand\u001b[39;00m name \u001b[38;5;129;01mnot\u001b[39;00m \u001b[38;5;129;01min\u001b[39;00m \u001b[38;5;28mself\u001b[39m\u001b[38;5;241m.\u001b[39m_metadata\n\u001b[0;32m   5571\u001b[0m     \u001b[38;5;129;01mand\u001b[39;00m name \u001b[38;5;129;01mnot\u001b[39;00m \u001b[38;5;129;01min\u001b[39;00m \u001b[38;5;28mself\u001b[39m\u001b[38;5;241m.\u001b[39m_accessors\n\u001b[0;32m   5572\u001b[0m     \u001b[38;5;129;01mand\u001b[39;00m \u001b[38;5;28mself\u001b[39m\u001b[38;5;241m.\u001b[39m_info_axis\u001b[38;5;241m.\u001b[39m_can_hold_identifiers_and_holds_name(name)\n\u001b[0;32m   5573\u001b[0m ):\n\u001b[0;32m   5574\u001b[0m     \u001b[38;5;28;01mreturn\u001b[39;00m \u001b[38;5;28mself\u001b[39m[name]\n\u001b[1;32m-> 5575\u001b[0m \u001b[38;5;28;01mreturn\u001b[39;00m \u001b[38;5;28;43mobject\u001b[39;49m\u001b[38;5;241;43m.\u001b[39;49m\u001b[38;5;21;43m__getattribute__\u001b[39;49m\u001b[43m(\u001b[49m\u001b[38;5;28;43mself\u001b[39;49m\u001b[43m,\u001b[49m\u001b[43m \u001b[49m\u001b[43mname\u001b[49m\u001b[43m)\u001b[49m\n",
      "\u001b[1;31mAttributeError\u001b[0m: 'DataFrame' object has no attribute 'is_unique'"
     ]
    }
   ],
   "source": [
    "s.is_unique"
   ]
  },
  {
   "cell_type": "code",
   "execution_count": 14,
   "id": "424cee6c-cab8-4998-9966-7109421051e9",
   "metadata": {},
   "outputs": [
    {
     "data": {
      "text/plain": [
       "<bound method DataFrame.isnull of    age\n",
       "0   12\n",
       "1   31\n",
       "2   23\n",
       "3   21\n",
       "4   65\n",
       "5   67\n",
       "6   38\n",
       "7   92\n",
       "8   12>"
      ]
     },
     "execution_count": 14,
     "metadata": {},
     "output_type": "execute_result"
    }
   ],
   "source": [
    "s.isnull"
   ]
  },
  {
   "cell_type": "markdown",
   "id": "b458e2f9-6abe-41cb-909a-4c61c658c44d",
   "metadata": {},
   "source": [
    "# Methods"
   ]
  },
  {
   "cell_type": "code",
   "execution_count": 43,
   "id": "ab6a196f-5b0c-4b38-9499-6d20f1f344f1",
   "metadata": {},
   "outputs": [],
   "source": [
    "s=s.add_suffix('x')"
   ]
  },
  {
   "cell_type": "code",
   "execution_count": 24,
   "id": "3c50c24e",
   "metadata": {},
   "outputs": [
    {
     "name": "stdout",
     "output_type": "stream",
     "text": [
      "   agex\n",
      "0    12\n",
      "1    31\n",
      "2    23\n",
      "3    21\n",
      "4    65\n",
      "5    67\n",
      "6    38\n",
      "7    92\n",
      "8    12\n"
     ]
    }
   ],
   "source": [
    "print(s)"
   ]
  },
  {
   "cell_type": "code",
   "execution_count": 25,
   "id": "73f1d867-c8e4-43c4-90d3-0c365b42a89f",
   "metadata": {},
   "outputs": [
    {
     "data": {
      "text/html": [
       "<div>\n",
       "<style scoped>\n",
       "    .dataframe tbody tr th:only-of-type {\n",
       "        vertical-align: middle;\n",
       "    }\n",
       "\n",
       "    .dataframe tbody tr th {\n",
       "        vertical-align: top;\n",
       "    }\n",
       "\n",
       "    .dataframe thead th {\n",
       "        text-align: right;\n",
       "    }\n",
       "</style>\n",
       "<table border=\"1\" class=\"dataframe\">\n",
       "  <thead>\n",
       "    <tr style=\"text-align: right;\">\n",
       "      <th></th>\n",
       "      <th>agexPanda</th>\n",
       "    </tr>\n",
       "  </thead>\n",
       "  <tbody>\n",
       "    <tr>\n",
       "      <th>0</th>\n",
       "      <td>12</td>\n",
       "    </tr>\n",
       "    <tr>\n",
       "      <th>1</th>\n",
       "      <td>31</td>\n",
       "    </tr>\n",
       "    <tr>\n",
       "      <th>2</th>\n",
       "      <td>23</td>\n",
       "    </tr>\n",
       "    <tr>\n",
       "      <th>3</th>\n",
       "      <td>21</td>\n",
       "    </tr>\n",
       "    <tr>\n",
       "      <th>4</th>\n",
       "      <td>65</td>\n",
       "    </tr>\n",
       "    <tr>\n",
       "      <th>5</th>\n",
       "      <td>67</td>\n",
       "    </tr>\n",
       "    <tr>\n",
       "      <th>6</th>\n",
       "      <td>38</td>\n",
       "    </tr>\n",
       "    <tr>\n",
       "      <th>7</th>\n",
       "      <td>92</td>\n",
       "    </tr>\n",
       "    <tr>\n",
       "      <th>8</th>\n",
       "      <td>12</td>\n",
       "    </tr>\n",
       "  </tbody>\n",
       "</table>\n",
       "</div>"
      ],
      "text/plain": [
       "   agexPanda\n",
       "0         12\n",
       "1         31\n",
       "2         23\n",
       "3         21\n",
       "4         65\n",
       "5         67\n",
       "6         38\n",
       "7         92\n",
       "8         12"
      ]
     },
     "execution_count": 25,
     "metadata": {},
     "output_type": "execute_result"
    }
   ],
   "source": [
    "s.add_suffix('Panda')"
   ]
  },
  {
   "cell_type": "code",
   "execution_count": null,
   "id": "31ad77c0",
   "metadata": {},
   "outputs": [],
   "source": []
  },
  {
   "cell_type": "code",
   "execution_count": 26,
   "id": "06ac0255-34d8-4dab-a7e9-cad392ff65cf",
   "metadata": {},
   "outputs": [
    {
     "data": {
      "text/plain": [
       "agex    361\n",
       "dtype: int64"
      ]
     },
     "execution_count": 26,
     "metadata": {},
     "output_type": "execute_result"
    }
   ],
   "source": [
    "s.sum()"
   ]
  },
  {
   "cell_type": "code",
   "execution_count": 27,
   "id": "18f261cc-ec86-4cfd-a6ab-8e9d4b1ede1b",
   "metadata": {},
   "outputs": [
    {
     "data": {
      "text/plain": [
       "agex    7\n",
       "dtype: int64"
      ]
     },
     "execution_count": 27,
     "metadata": {},
     "output_type": "execute_result"
    }
   ],
   "source": [
    "s.idxmax()"
   ]
  },
  {
   "cell_type": "code",
   "execution_count": 39,
   "id": "e3e83153",
   "metadata": {},
   "outputs": [
    {
     "data": {
      "text/plain": [
       "'agex'"
      ]
     },
     "execution_count": 39,
     "metadata": {},
     "output_type": "execute_result"
    }
   ],
   "source": [
    "max(s)"
   ]
  },
  {
   "cell_type": "code",
   "execution_count": 28,
   "id": "4ad549cb-bcc3-4be5-bbcf-75b70fab1406",
   "metadata": {},
   "outputs": [
    {
     "data": {
      "text/plain": [
       "agex    0\n",
       "dtype: int64"
      ]
     },
     "execution_count": 28,
     "metadata": {},
     "output_type": "execute_result"
    }
   ],
   "source": [
    "s.idxmin()"
   ]
  },
  {
   "cell_type": "code",
   "execution_count": 30,
   "id": "f0b12ecd-3e0e-4428-ace8-b98e9a7ce714",
   "metadata": {},
   "outputs": [],
   "source": [
    "top_rows=s.head()"
   ]
  },
  {
   "cell_type": "code",
   "execution_count": 45,
   "id": "409ed8f7-9ae8-446d-a180-cc133b1339f1",
   "metadata": {},
   "outputs": [
    {
     "data": {
      "text/plain": [
       "0    12\n",
       "1    31\n",
       "2    23\n",
       "3    21\n",
       "4    65\n",
       "Name: age, dtype: int64"
      ]
     },
     "execution_count": 45,
     "metadata": {},
     "output_type": "execute_result"
    }
   ],
   "source": [
    "top_rows"
   ]
  },
  {
   "cell_type": "code",
   "execution_count": 31,
   "id": "28613ce8-3a07-4f7d-9c8b-4060f97979bd",
   "metadata": {},
   "outputs": [
    {
     "data": {
      "text/html": [
       "<div>\n",
       "<style scoped>\n",
       "    .dataframe tbody tr th:only-of-type {\n",
       "        vertical-align: middle;\n",
       "    }\n",
       "\n",
       "    .dataframe tbody tr th {\n",
       "        vertical-align: top;\n",
       "    }\n",
       "\n",
       "    .dataframe thead th {\n",
       "        text-align: right;\n",
       "    }\n",
       "</style>\n",
       "<table border=\"1\" class=\"dataframe\">\n",
       "  <thead>\n",
       "    <tr style=\"text-align: right;\">\n",
       "      <th></th>\n",
       "      <th>agex</th>\n",
       "    </tr>\n",
       "  </thead>\n",
       "  <tbody>\n",
       "    <tr>\n",
       "      <th>3</th>\n",
       "      <td>21</td>\n",
       "    </tr>\n",
       "    <tr>\n",
       "      <th>4</th>\n",
       "      <td>65</td>\n",
       "    </tr>\n",
       "  </tbody>\n",
       "</table>\n",
       "</div>"
      ],
      "text/plain": [
       "   agex\n",
       "3    21\n",
       "4    65"
      ]
     },
     "execution_count": 31,
     "metadata": {},
     "output_type": "execute_result"
    }
   ],
   "source": [
    "top_rows.tail(2)"
   ]
  },
  {
   "cell_type": "code",
   "execution_count": 32,
   "id": "3ed1ffcc-e65e-4e25-8b86-524ab8ad4e7c",
   "metadata": {},
   "outputs": [
    {
     "data": {
      "text/plain": [
       "agex    40.111111\n",
       "dtype: float64"
      ]
     },
     "execution_count": 32,
     "metadata": {},
     "output_type": "execute_result"
    }
   ],
   "source": [
    "s.mean()"
   ]
  },
  {
   "cell_type": "code",
   "execution_count": 33,
   "id": "ee0585b8-000b-4df2-bd12-2582de05155b",
   "metadata": {},
   "outputs": [
    {
     "data": {
      "text/plain": [
       "agex    32826977688960\n",
       "dtype: int64"
      ]
     },
     "execution_count": 33,
     "metadata": {},
     "output_type": "execute_result"
    }
   ],
   "source": [
    "s.product()"
   ]
  },
  {
   "cell_type": "code",
   "execution_count": 34,
   "id": "71eeb3cb-7126-484d-bfe7-3e45c22780b3",
   "metadata": {},
   "outputs": [
    {
     "data": {
      "text/plain": [
       "agex    28.197715\n",
       "dtype: float64"
      ]
     },
     "execution_count": 34,
     "metadata": {},
     "output_type": "execute_result"
    }
   ],
   "source": [
    "s.std()\n",
    "#Standard devidation"
   ]
  },
  {
   "cell_type": "code",
   "execution_count": 36,
   "id": "72cc5ef4-fb63-4ffb-9352-b8f65fb2b8bc",
   "metadata": {},
   "outputs": [
    {
     "data": {
      "text/plain": [
       "(9, 1)"
      ]
     },
     "execution_count": 36,
     "metadata": {},
     "output_type": "execute_result"
    }
   ],
   "source": [
    "#attribute\n",
    "s.shape"
   ]
  },
  {
   "cell_type": "code",
   "execution_count": 37,
   "id": "942adc2e-ad4e-449e-be38-3bd55f035904",
   "metadata": {},
   "outputs": [
    {
     "data": {
      "text/html": [
       "<div>\n",
       "<style scoped>\n",
       "    .dataframe tbody tr th:only-of-type {\n",
       "        vertical-align: middle;\n",
       "    }\n",
       "\n",
       "    .dataframe tbody tr th {\n",
       "        vertical-align: top;\n",
       "    }\n",
       "\n",
       "    .dataframe thead th {\n",
       "        text-align: right;\n",
       "    }\n",
       "</style>\n",
       "<table border=\"1\" class=\"dataframe\">\n",
       "  <thead>\n",
       "    <tr style=\"text-align: right;\">\n",
       "      <th></th>\n",
       "      <th>agex</th>\n",
       "    </tr>\n",
       "  </thead>\n",
       "  <tbody>\n",
       "    <tr>\n",
       "      <th>count</th>\n",
       "      <td>9.000000</td>\n",
       "    </tr>\n",
       "    <tr>\n",
       "      <th>mean</th>\n",
       "      <td>40.111111</td>\n",
       "    </tr>\n",
       "    <tr>\n",
       "      <th>std</th>\n",
       "      <td>28.197715</td>\n",
       "    </tr>\n",
       "    <tr>\n",
       "      <th>min</th>\n",
       "      <td>12.000000</td>\n",
       "    </tr>\n",
       "    <tr>\n",
       "      <th>25%</th>\n",
       "      <td>21.000000</td>\n",
       "    </tr>\n",
       "    <tr>\n",
       "      <th>50%</th>\n",
       "      <td>31.000000</td>\n",
       "    </tr>\n",
       "    <tr>\n",
       "      <th>75%</th>\n",
       "      <td>65.000000</td>\n",
       "    </tr>\n",
       "    <tr>\n",
       "      <th>max</th>\n",
       "      <td>92.000000</td>\n",
       "    </tr>\n",
       "  </tbody>\n",
       "</table>\n",
       "</div>"
      ],
      "text/plain": [
       "            agex\n",
       "count   9.000000\n",
       "mean   40.111111\n",
       "std    28.197715\n",
       "min    12.000000\n",
       "25%    21.000000\n",
       "50%    31.000000\n",
       "75%    65.000000\n",
       "max    92.000000"
      ]
     },
     "execution_count": 37,
     "metadata": {},
     "output_type": "execute_result"
    }
   ],
   "source": [
    "s.describe()"
   ]
  },
  {
   "cell_type": "markdown",
   "id": "482658cb-be25-43e4-973e-14a5c6dd99e0",
   "metadata": {},
   "source": [
    "# label Indexing"
   ]
  },
  {
   "cell_type": "code",
   "execution_count": 46,
   "id": "e33a21b0-8dcf-4fc1-a483-1bd6eae743d0",
   "metadata": {},
   "outputs": [],
   "source": [
    "import pandas as pd"
   ]
  },
  {
   "cell_type": "code",
   "execution_count": 47,
   "id": "82088360-3ced-4864-b1cb-f9bf33155a6b",
   "metadata": {},
   "outputs": [],
   "source": [
    "colorcode=[1,2,3,4]\n",
    "colors=['Red','Yellow','Green','Black']\n"
   ]
  },
  {
   "cell_type": "code",
   "execution_count": 48,
   "id": "9066954e-6efe-4c2f-83d0-a556a506a53e",
   "metadata": {},
   "outputs": [],
   "source": [
    "ps=pd.Series(colorcode,colors) # so here colors work as a index "
   ]
  },
  {
   "cell_type": "code",
   "execution_count": 49,
   "id": "ec5a5920-24c8-4638-aa76-1a099e809a3e",
   "metadata": {},
   "outputs": [
    {
     "data": {
      "text/plain": [
       "Red       1\n",
       "Yellow    2\n",
       "Green     3\n",
       "Black     4\n",
       "dtype: int64"
      ]
     },
     "execution_count": 49,
     "metadata": {},
     "output_type": "execute_result"
    }
   ],
   "source": [
    "ps"
   ]
  },
  {
   "cell_type": "code",
   "execution_count": 55,
   "id": "804315ce-a3cd-45ef-8e79-419d059e7138",
   "metadata": {},
   "outputs": [],
   "source": [
    "ps1=pd.Series(data=colors,index=colorcode)"
   ]
  },
  {
   "cell_type": "code",
   "execution_count": 56,
   "id": "b8ca640e-39de-4618-8b64-864213dfe8f1",
   "metadata": {},
   "outputs": [
    {
     "data": {
      "text/plain": [
       "1       Red\n",
       "2    Yellow\n",
       "3     Green\n",
       "4     Black\n",
       "dtype: object"
      ]
     },
     "execution_count": 56,
     "metadata": {},
     "output_type": "execute_result"
    }
   ],
   "source": [
    "ps1"
   ]
  },
  {
   "cell_type": "code",
   "execution_count": 57,
   "id": "c7f72ce5",
   "metadata": {},
   "outputs": [
    {
     "data": {
      "text/plain": [
       "pandas.core.series.Series"
      ]
     },
     "execution_count": 57,
     "metadata": {},
     "output_type": "execute_result"
    }
   ],
   "source": [
    "type(ps1)"
   ]
  },
  {
   "cell_type": "code",
   "execution_count": 66,
   "id": "ddb2bad0-cf19-4df4-a5b9-97fb0ea55e23",
   "metadata": {},
   "outputs": [
    {
     "data": {
      "text/plain": [
       "Int64Index([1, 2, 3, 4], dtype='int64')"
      ]
     },
     "execution_count": 66,
     "metadata": {},
     "output_type": "execute_result"
    }
   ],
   "source": [
    "ps1.index"
   ]
  },
  {
   "cell_type": "code",
   "execution_count": 68,
   "id": "7156db9d-ac87-4798-9bad-d337bb32bafc",
   "metadata": {},
   "outputs": [
    {
     "data": {
      "text/plain": [
       "array(['Red', 'Yellow', 'Green', 'Black'], dtype=object)"
      ]
     },
     "execution_count": 68,
     "metadata": {},
     "output_type": "execute_result"
    }
   ],
   "source": [
    "ps1.values"
   ]
  },
  {
   "cell_type": "markdown",
   "id": "6e53c761-7c80-47ce-bb3e-0e0fd1a69e8e",
   "metadata": {},
   "source": [
    "# In place parameter , sort value sort index"
   ]
  },
  {
   "cell_type": "code",
   "execution_count": 58,
   "id": "01c93c97-6b07-4121-a22e-f6300ddba866",
   "metadata": {},
   "outputs": [],
   "source": [
    "colorcode=[1,2,3,4]\n",
    "colors=['Red','Yellow','Green','Black']"
   ]
  },
  {
   "cell_type": "code",
   "execution_count": 59,
   "id": "d263eb47-3364-4ed6-8d47-8ed4d2a6b431",
   "metadata": {},
   "outputs": [],
   "source": [
    "ps=pd.Series(colors,colorcode)"
   ]
  },
  {
   "cell_type": "code",
   "execution_count": 60,
   "id": "e68e6155-feca-4ec4-b250-87cf5f1294a9",
   "metadata": {},
   "outputs": [
    {
     "data": {
      "text/plain": [
       "1       Red\n",
       "2    Yellow\n",
       "3     Green\n",
       "4     Black\n",
       "dtype: object"
      ]
     },
     "execution_count": 60,
     "metadata": {},
     "output_type": "execute_result"
    }
   ],
   "source": [
    "ps"
   ]
  },
  {
   "cell_type": "code",
   "execution_count": 61,
   "id": "d24af82a",
   "metadata": {},
   "outputs": [
    {
     "data": {
      "text/plain": [
       "pandas.core.frame.DataFrame"
      ]
     },
     "execution_count": 61,
     "metadata": {},
     "output_type": "execute_result"
    }
   ],
   "source": [
    "type(s)"
   ]
  },
  {
   "cell_type": "code",
   "execution_count": 62,
   "id": "996bf4cc-4dcc-4be9-a28d-36d3db676b1e",
   "metadata": {},
   "outputs": [
    {
     "data": {
      "text/plain": [
       "4     Black\n",
       "3     Green\n",
       "1       Red\n",
       "2    Yellow\n",
       "dtype: object"
      ]
     },
     "execution_count": 62,
     "metadata": {},
     "output_type": "execute_result"
    }
   ],
   "source": [
    "ps1.sort_values()"
   ]
  },
  {
   "cell_type": "code",
   "execution_count": 63,
   "id": "1135ef70-e1dd-42a7-b2a1-5d5b5eca8d9e",
   "metadata": {},
   "outputs": [
    {
     "data": {
      "text/plain": [
       "4     Black\n",
       "3     Green\n",
       "1       Red\n",
       "2    Yellow\n",
       "dtype: object"
      ]
     },
     "execution_count": 63,
     "metadata": {},
     "output_type": "execute_result"
    }
   ],
   "source": [
    "ps1.sort_values(ascending=True)"
   ]
  },
  {
   "cell_type": "code",
   "execution_count": 64,
   "id": "8a496a5c-d2ea-4011-a322-13033c84da08",
   "metadata": {},
   "outputs": [
    {
     "data": {
      "text/plain": [
       "2    Yellow\n",
       "1       Red\n",
       "3     Green\n",
       "4     Black\n",
       "dtype: object"
      ]
     },
     "execution_count": 64,
     "metadata": {},
     "output_type": "execute_result"
    }
   ],
   "source": [
    "ps1.sort_values(ascending=False)"
   ]
  },
  {
   "cell_type": "code",
   "execution_count": 65,
   "id": "290675e4-3843-4c24-a085-009305ef674b",
   "metadata": {},
   "outputs": [
    {
     "data": {
      "text/plain": [
       "1       Red\n",
       "2    Yellow\n",
       "3     Green\n",
       "4     Black\n",
       "dtype: object"
      ]
     },
     "execution_count": 65,
     "metadata": {},
     "output_type": "execute_result"
    }
   ],
   "source": [
    "ps1.sort_index()"
   ]
  },
  {
   "cell_type": "code",
   "execution_count": 66,
   "id": "cbe2604f-55d1-4d05-95ef-61576ce04108",
   "metadata": {},
   "outputs": [
    {
     "data": {
      "text/plain": [
       "4     Black\n",
       "3     Green\n",
       "2    Yellow\n",
       "1       Red\n",
       "dtype: object"
      ]
     },
     "execution_count": 66,
     "metadata": {},
     "output_type": "execute_result"
    }
   ],
   "source": [
    "ps1.sort_index(ascending=False)"
   ]
  },
  {
   "cell_type": "code",
   "execution_count": 67,
   "id": "f80f47c4-79de-4084-afc1-15dc18c1c131",
   "metadata": {},
   "outputs": [],
   "source": [
    "#make changes permanent\n",
    "ps1.sort_values(inplace=True)"
   ]
  },
  {
   "cell_type": "code",
   "execution_count": 68,
   "id": "61177cd6-8a7f-4f72-bbd2-81ccfbbf9c7c",
   "metadata": {},
   "outputs": [
    {
     "data": {
      "text/plain": [
       "4     Black\n",
       "3     Green\n",
       "1       Red\n",
       "2    Yellow\n",
       "dtype: object"
      ]
     },
     "execution_count": 68,
     "metadata": {},
     "output_type": "execute_result"
    }
   ],
   "source": [
    "ps1"
   ]
  },
  {
   "cell_type": "code",
   "execution_count": 69,
   "id": "f1848358-3f79-4a9b-8c81-82c8c9db9059",
   "metadata": {},
   "outputs": [
    {
     "data": {
      "text/plain": [
       "4     Black\n",
       "3     Green\n",
       "1       Red\n",
       "2    Yellow\n",
       "dtype: object"
      ]
     },
     "execution_count": 69,
     "metadata": {},
     "output_type": "execute_result"
    }
   ],
   "source": [
    "ps1"
   ]
  },
  {
   "cell_type": "code",
   "execution_count": 70,
   "id": "d18571da-1345-4640-9e1e-e69feb11dadf",
   "metadata": {},
   "outputs": [
    {
     "data": {
      "text/plain": [
       "1       Red\n",
       "2    Yellow\n",
       "3     Green\n",
       "4     Black\n",
       "dtype: object"
      ]
     },
     "execution_count": 70,
     "metadata": {},
     "output_type": "execute_result"
    }
   ],
   "source": [
    "ps1.sort_index()"
   ]
  },
  {
   "cell_type": "code",
   "execution_count": 71,
   "id": "74b1926b-cc5d-4089-b317-e3a3abf86491",
   "metadata": {},
   "outputs": [],
   "source": [
    "ps1.sort_index(inplace=True)"
   ]
  },
  {
   "cell_type": "code",
   "execution_count": 72,
   "id": "67a79e62-b0f6-4a1a-8324-721a5d04c8a3",
   "metadata": {},
   "outputs": [
    {
     "data": {
      "text/plain": [
       "1       Red\n",
       "2    Yellow\n",
       "3     Green\n",
       "4     Black\n",
       "dtype: object"
      ]
     },
     "execution_count": 72,
     "metadata": {},
     "output_type": "execute_result"
    }
   ],
   "source": [
    "ps1"
   ]
  },
  {
   "cell_type": "code",
   "execution_count": 74,
   "id": "42aa709a-8b48-48f1-b1d7-4a2eb570b4cf",
   "metadata": {},
   "outputs": [],
   "source": [
    "# .VALUES_COUNTS() METHOD\n",
    "import pandas as pd"
   ]
  },
  {
   "cell_type": "code",
   "execution_count": 75,
   "id": "3a106f1c-b66d-46d1-94aa-fc938fd9ec64",
   "metadata": {},
   "outputs": [],
   "source": [
    "s1=pd.Series(['a','b','c','a','a','b','b','b','a'])"
   ]
  },
  {
   "cell_type": "markdown",
   "id": "ebff8db6-a320-44aa-b67e-721a42c1363e",
   "metadata": {},
   "source": [
    "s1"
   ]
  },
  {
   "cell_type": "code",
   "execution_count": 77,
   "id": "d40e9735-0ac0-4474-809b-9f88aceac48f",
   "metadata": {},
   "outputs": [
    {
     "data": {
      "text/plain": [
       "0    a\n",
       "1    b\n",
       "2    c\n",
       "3    a\n",
       "4    a\n",
       "5    b\n",
       "6    b\n",
       "7    b\n",
       "8    a\n",
       "dtype: object"
      ]
     },
     "execution_count": 77,
     "metadata": {},
     "output_type": "execute_result"
    }
   ],
   "source": [
    "s1  ##it created list structure as shown below with inexing"
   ]
  },
  {
   "cell_type": "code",
   "execution_count": 79,
   "id": "5e394b7a-1bfc-4f3f-9ecc-68a66769199d",
   "metadata": {},
   "outputs": [
    {
     "data": {
      "text/plain": [
       "a    4\n",
       "b    4\n",
       "c    1\n",
       "dtype: int64"
      ]
     },
     "execution_count": 79,
     "metadata": {},
     "output_type": "execute_result"
    }
   ],
   "source": [
    "s1.value_counts()\n",
    "# returns count of occurence for each value , this is kind of histogram "
   ]
  },
  {
   "cell_type": "code",
   "execution_count": 80,
   "id": "d4ade1bd-82fd-4ea9-b356-356fd954d850",
   "metadata": {},
   "outputs": [
    {
     "data": {
      "text/plain": [
       "array(['a', 'b', 'c'], dtype=object)"
      ]
     },
     "execution_count": 80,
     "metadata": {},
     "output_type": "execute_result"
    }
   ],
   "source": [
    "s1.unique()"
   ]
  },
  {
   "cell_type": "code",
   "execution_count": 97,
   "id": "32ffa002-720d-449b-a293-60dfa1292beb",
   "metadata": {},
   "outputs": [
    {
     "data": {
      "text/plain": [
       "3"
      ]
     },
     "execution_count": 97,
     "metadata": {},
     "output_type": "execute_result"
    }
   ],
   "source": [
    "s1.nunique()"
   ]
  },
  {
   "cell_type": "code",
   "execution_count": 111,
   "id": "cd8ac410-5a06-4755-ab30-b618a36b9c2b",
   "metadata": {},
   "outputs": [],
   "source": [
    "#Apply methods -- it callsthefunction and passes series elelemnts as a input "
   ]
  },
  {
   "cell_type": "code",
   "execution_count": 112,
   "id": "da7c3d96-0685-4731-99e8-bdcc6977892d",
   "metadata": {},
   "outputs": [
    {
     "data": {
      "text/plain": [
       "0    a\n",
       "1    b\n",
       "2    c\n",
       "3    a\n",
       "4    a\n",
       "5    b\n",
       "6    b\n",
       "7    b\n",
       "8    a\n",
       "dtype: object"
      ]
     },
     "execution_count": 112,
     "metadata": {},
     "output_type": "execute_result"
    }
   ],
   "source": [
    "s1"
   ]
  },
  {
   "cell_type": "code",
   "execution_count": 109,
   "id": "319ccd96-e7f3-4d34-893e-26c1f9a205dc",
   "metadata": {},
   "outputs": [],
   "source": [
    "def covertstring(c):\n",
    "    return (c+'a')"
   ]
  },
  {
   "cell_type": "code",
   "execution_count": 110,
   "id": "0409a7b1-7b25-4f38-b123-8703278d3817",
   "metadata": {},
   "outputs": [
    {
     "data": {
      "text/plain": [
       "0    aa\n",
       "1    ba\n",
       "2    ca\n",
       "3    aa\n",
       "4    aa\n",
       "5    ba\n",
       "6    ba\n",
       "7    ba\n",
       "8    aa\n",
       "dtype: object"
      ]
     },
     "execution_count": 110,
     "metadata": {},
     "output_type": "execute_result"
    }
   ],
   "source": [
    "s1.apply(covertstring)"
   ]
  },
  {
   "cell_type": "code",
   "execution_count": 114,
   "id": "24972f06-b573-4bb1-b71c-26bef3167cc9",
   "metadata": {},
   "outputs": [
    {
     "data": {
      "text/plain": [
       "0    a\n",
       "1    b\n",
       "2    c\n",
       "3    a\n",
       "4    a\n",
       "5    b\n",
       "6    b\n",
       "7    b\n",
       "8    a\n",
       "dtype: object"
      ]
     },
     "execution_count": 114,
     "metadata": {},
     "output_type": "execute_result"
    }
   ],
   "source": [
    "s1 # it does not apply change to actual series "
   ]
  },
  {
   "cell_type": "code",
   "execution_count": 115,
   "id": "66e0522b-d9d4-4e4e-be59-6c21c29d8959",
   "metadata": {},
   "outputs": [],
   "source": [
    "# map method"
   ]
  },
  {
   "cell_type": "code",
   "execution_count": 116,
   "id": "61b83fbb-5430-4941-89e6-b8639e6d81c9",
   "metadata": {},
   "outputs": [],
   "source": [
    "dict1={\"a\":\"aa\",\"b\":\"bb\"}"
   ]
  },
  {
   "cell_type": "code",
   "execution_count": 117,
   "id": "790715b9-899a-44a9-a51e-8db526bc6345",
   "metadata": {},
   "outputs": [
    {
     "data": {
      "text/plain": [
       "0     aa\n",
       "1     bb\n",
       "2    NaN\n",
       "3     aa\n",
       "4     aa\n",
       "5     bb\n",
       "6     bb\n",
       "7     bb\n",
       "8     aa\n",
       "dtype: object"
      ]
     },
     "execution_count": 117,
     "metadata": {},
     "output_type": "execute_result"
    }
   ],
   "source": [
    "dict1\n",
    "s1.map(dict1)"
   ]
  },
  {
   "cell_type": "code",
   "execution_count": 120,
   "id": "46c9b15f-b4ab-4d34-8dbc-ae3f450afa6d",
   "metadata": {},
   "outputs": [
    {
     "data": {
      "text/plain": [
       "0    I am  a\n",
       "1    I am  b\n",
       "2    I am  c\n",
       "3    I am  a\n",
       "4    I am  a\n",
       "5    I am  b\n",
       "6    I am  b\n",
       "7    I am  b\n",
       "8    I am  a\n",
       "dtype: object"
      ]
     },
     "execution_count": 120,
     "metadata": {},
     "output_type": "execute_result"
    }
   ],
   "source": [
    "s1.map('I am  {}'.format, na_action='ignore')"
   ]
  },
  {
   "cell_type": "code",
   "execution_count": null,
   "id": "32d00e81-3839-4233-9108-3cfc8dc3c8a1",
   "metadata": {},
   "outputs": [],
   "source": []
  }
 ],
 "metadata": {
  "kernelspec": {
   "display_name": "Python 3 (ipykernel)",
   "language": "python",
   "name": "python3"
  },
  "language_info": {
   "codemirror_mode": {
    "name": "ipython",
    "version": 3
   },
   "file_extension": ".py",
   "mimetype": "text/x-python",
   "name": "python",
   "nbconvert_exporter": "python",
   "pygments_lexer": "ipython3",
   "version": "3.9.12"
  },
  "toc-autonumbering": true,
  "toc-showmarkdowntxt": true
 },
 "nbformat": 4,
 "nbformat_minor": 5
}

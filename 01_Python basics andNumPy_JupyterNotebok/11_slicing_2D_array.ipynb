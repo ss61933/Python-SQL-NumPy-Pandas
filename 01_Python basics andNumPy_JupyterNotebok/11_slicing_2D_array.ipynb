{
 "cells": [
  {
   "cell_type": "code",
   "execution_count": 1,
   "id": "a218158b",
   "metadata": {},
   "outputs": [],
   "source": [
    "import numpy as np"
   ]
  },
  {
   "cell_type": "code",
   "execution_count": 2,
   "id": "f9ce3ff7",
   "metadata": {},
   "outputs": [],
   "source": [
    "a=np.array([[1,2,3],[4,5,6],[7,8,9]])"
   ]
  },
  {
   "cell_type": "code",
   "execution_count": 3,
   "id": "040c6e02",
   "metadata": {},
   "outputs": [
    {
     "data": {
      "text/plain": [
       "array([[1, 2, 3],\n",
       "       [4, 5, 6],\n",
       "       [7, 8, 9]])"
      ]
     },
     "execution_count": 3,
     "metadata": {},
     "output_type": "execute_result"
    }
   ],
   "source": [
    "a"
   ]
  },
  {
   "cell_type": "code",
   "execution_count": 4,
   "id": "dc76fcb5",
   "metadata": {},
   "outputs": [
    {
     "data": {
      "text/plain": [
       "(3, 3)"
      ]
     },
     "execution_count": 4,
     "metadata": {},
     "output_type": "execute_result"
    }
   ],
   "source": [
    "a.shape"
   ]
  },
  {
   "cell_type": "code",
   "execution_count": 5,
   "id": "a5a42af2",
   "metadata": {},
   "outputs": [
    {
     "data": {
      "text/plain": [
       "2"
      ]
     },
     "execution_count": 5,
     "metadata": {},
     "output_type": "execute_result"
    }
   ],
   "source": [
    "a.ndim"
   ]
  },
  {
   "cell_type": "code",
   "execution_count": 6,
   "id": "949141ee",
   "metadata": {},
   "outputs": [],
   "source": [
    "#indexing and slicing can be done using \n",
    "#1 double bracket notation a[x][y]\n",
    "#2 Single bracket notation a[x,y]"
   ]
  },
  {
   "cell_type": "code",
   "execution_count": 7,
   "id": "bbad5650",
   "metadata": {},
   "outputs": [],
   "source": [
    "#Syntax a[row range,column range]"
   ]
  },
  {
   "cell_type": "code",
   "execution_count": 14,
   "id": "20fea968",
   "metadata": {},
   "outputs": [
    {
     "data": {
      "text/plain": [
       "array([[1, 2, 3],\n",
       "       [4, 5, 6],\n",
       "       [7, 8, 9]])"
      ]
     },
     "execution_count": 14,
     "metadata": {},
     "output_type": "execute_result"
    }
   ],
   "source": [
    "a[:3] # start from zero to 3rd"
   ]
  },
  {
   "cell_type": "code",
   "execution_count": 15,
   "id": "bab58166",
   "metadata": {},
   "outputs": [
    {
     "data": {
      "text/plain": [
       "array([[1, 2, 3],\n",
       "       [4, 5, 6]])"
      ]
     },
     "execution_count": 15,
     "metadata": {},
     "output_type": "execute_result"
    }
   ],
   "source": [
    "a[:2] Start from zero to second row i,.e 0,1"
   ]
  },
  {
   "cell_type": "code",
   "execution_count": 18,
   "id": "fbbd7f9b",
   "metadata": {},
   "outputs": [
    {
     "data": {
      "text/plain": [
       "array([[4, 5, 6]])"
      ]
     },
     "execution_count": 18,
     "metadata": {},
     "output_type": "execute_result"
    }
   ],
   "source": [
    "a[1:2]#sart from 1st row go till second "
   ]
  },
  {
   "cell_type": "code",
   "execution_count": 20,
   "id": "c0a20828",
   "metadata": {},
   "outputs": [
    {
     "data": {
      "text/plain": [
       "array([[1, 2, 3],\n",
       "       [4, 5, 6],\n",
       "       [7, 8, 9]])"
      ]
     },
     "execution_count": 20,
     "metadata": {},
     "output_type": "execute_result"
    }
   ],
   "source": [
    "a[0:3] #start from zero go till 3"
   ]
  },
  {
   "cell_type": "code",
   "execution_count": 23,
   "id": "3ec7e90c",
   "metadata": {},
   "outputs": [
    {
     "data": {
      "text/plain": [
       "array([[1, 2],\n",
       "       [4, 5]])"
      ]
     },
     "execution_count": 23,
     "metadata": {},
     "output_type": "execute_result"
    }
   ],
   "source": [
    "a[0:2,0:2] # slice both rows and columnstart at zero go till 2 "
   ]
  },
  {
   "cell_type": "code",
   "execution_count": 26,
   "id": "301886fa",
   "metadata": {},
   "outputs": [],
   "source": [
    "b=np.array([[1,2,3,4,5,6],[11,22,33,44,55,66],[111,222,333,444,555,666]])"
   ]
  },
  {
   "cell_type": "code",
   "execution_count": 27,
   "id": "32ff1f79",
   "metadata": {},
   "outputs": [
    {
     "data": {
      "text/plain": [
       "array([[  1,   2,   3,   4,   5,   6],\n",
       "       [ 11,  22,  33,  44,  55,  66],\n",
       "       [111, 222, 333, 444, 555, 666]])"
      ]
     },
     "execution_count": 27,
     "metadata": {},
     "output_type": "execute_result"
    }
   ],
   "source": [
    "b"
   ]
  },
  {
   "cell_type": "code",
   "execution_count": 30,
   "id": "15507377",
   "metadata": {},
   "outputs": [
    {
     "data": {
      "text/plain": [
       "array([[44, 55]])"
      ]
     },
     "execution_count": 30,
     "metadata": {},
     "output_type": "execute_result"
    }
   ],
   "source": [
    "b[1:2,3:5]"
   ]
  },
  {
   "cell_type": "code",
   "execution_count": 35,
   "id": "607ccc53",
   "metadata": {},
   "outputs": [],
   "source": [
    "np.random.seed(111)"
   ]
  },
  {
   "cell_type": "code",
   "execution_count": 48,
   "id": "804fda1d",
   "metadata": {},
   "outputs": [],
   "source": [
    "arr=np.random.randint(1,500,30).reshape(6,5)"
   ]
  },
  {
   "cell_type": "code",
   "execution_count": 50,
   "id": "17d9c7d3",
   "metadata": {},
   "outputs": [
    {
     "data": {
      "text/plain": [
       "array([[ 56, 270,  60, 149, 349],\n",
       "       [228, 217, 446, 213, 405],\n",
       "       [ 57, 253, 135, 214,  77],\n",
       "       [115, 133, 428, 115, 254],\n",
       "       [125, 143, 425, 226, 180],\n",
       "       [ 39, 357, 166,  62,  22]])"
      ]
     },
     "execution_count": 50,
     "metadata": {},
     "output_type": "execute_result"
    }
   ],
   "source": [
    "arr"
   ]
  },
  {
   "cell_type": "code",
   "execution_count": 53,
   "id": "6ef2d62a",
   "metadata": {},
   "outputs": [
    {
     "data": {
      "text/plain": [
       "array([[253, 135, 214,  77],\n",
       "       [133, 428, 115, 254],\n",
       "       [143, 425, 226, 180],\n",
       "       [357, 166,  62,  22]])"
      ]
     },
     "execution_count": 53,
     "metadata": {},
     "output_type": "execute_result"
    }
   ],
   "source": [
    "arr[2:,1:]"
   ]
  },
  {
   "cell_type": "code",
   "execution_count": 55,
   "id": "d021b3d5",
   "metadata": {},
   "outputs": [
    {
     "data": {
      "text/plain": [
       "array([[253, 135],\n",
       "       [133, 428]])"
      ]
     },
     "execution_count": 55,
     "metadata": {},
     "output_type": "execute_result"
    }
   ],
   "source": [
    "arr[2:4,1:3] # start at 2nd row and print 4 from begin i.e.2 here "
   ]
  },
  {
   "cell_type": "code",
   "execution_count": 58,
   "id": "3eec346f",
   "metadata": {},
   "outputs": [
    {
     "data": {
      "text/plain": [
       "array([[22]])"
      ]
     },
     "execution_count": 58,
     "metadata": {},
     "output_type": "execute_result"
    }
   ],
   "source": [
    "arr[5:,4:]   #Get e last element"
   ]
  },
  {
   "cell_type": "code",
   "execution_count": 59,
   "id": "ebb36afd",
   "metadata": {},
   "outputs": [
    {
     "data": {
      "text/plain": [
       "array([[62]])"
      ]
     },
     "execution_count": 59,
     "metadata": {},
     "output_type": "execute_result"
    }
   ],
   "source": [
    "arr[5:,3:4]  # get e second last element"
   ]
  },
  {
   "cell_type": "code",
   "execution_count": null,
   "id": "64e2b1d4",
   "metadata": {},
   "outputs": [],
   "source": []
  }
 ],
 "metadata": {
  "kernelspec": {
   "display_name": "Python 3 (ipykernel)",
   "language": "python",
   "name": "python3"
  },
  "language_info": {
   "codemirror_mode": {
    "name": "ipython",
    "version": 3
   },
   "file_extension": ".py",
   "mimetype": "text/x-python",
   "name": "python",
   "nbconvert_exporter": "python",
   "pygments_lexer": "ipython3",
   "version": "3.9.12"
  }
 },
 "nbformat": 4,
 "nbformat_minor": 5
}

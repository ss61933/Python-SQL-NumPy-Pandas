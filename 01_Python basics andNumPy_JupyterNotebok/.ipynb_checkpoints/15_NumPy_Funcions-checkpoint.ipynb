{
 "cells": [
  {
   "cell_type": "code",
   "execution_count": 1,
   "id": "22367bf2",
   "metadata": {},
   "outputs": [],
   "source": [
    "#Function zero -- assign value zero to array we are intitalizing (irrespecive its one dim or two dim)\n"
   ]
  },
  {
   "cell_type": "code",
   "execution_count": 2,
   "id": "1c2f473f",
   "metadata": {},
   "outputs": [],
   "source": [
    "import numpy as np\n",
    "a=np.zeros(5)"
   ]
  },
  {
   "cell_type": "code",
   "execution_count": 3,
   "id": "dd6ac76c",
   "metadata": {},
   "outputs": [
    {
     "data": {
      "text/plain": [
       "array([0., 0., 0., 0., 0.])"
      ]
     },
     "execution_count": 3,
     "metadata": {},
     "output_type": "execute_result"
    }
   ],
   "source": [
    "a"
   ]
  },
  {
   "cell_type": "code",
   "execution_count": 4,
   "id": "59b96ac0",
   "metadata": {},
   "outputs": [],
   "source": [
    "twodim=np.zeros([2,2])"
   ]
  },
  {
   "cell_type": "code",
   "execution_count": 5,
   "id": "18bfc8e5",
   "metadata": {},
   "outputs": [
    {
     "data": {
      "text/plain": [
       "array([[0., 0.],\n",
       "       [0., 0.]])"
      ]
     },
     "execution_count": 5,
     "metadata": {},
     "output_type": "execute_result"
    }
   ],
   "source": [
    "twodim"
   ]
  },
  {
   "cell_type": "code",
   "execution_count": 6,
   "id": "709afa2e",
   "metadata": {},
   "outputs": [],
   "source": [
    "twodim=np.zeros([2,3])"
   ]
  },
  {
   "cell_type": "code",
   "execution_count": 7,
   "id": "a97e313a",
   "metadata": {},
   "outputs": [
    {
     "data": {
      "text/plain": [
       "array([[0., 0., 0.],\n",
       "       [0., 0., 0.]])"
      ]
     },
     "execution_count": 7,
     "metadata": {},
     "output_type": "execute_result"
    }
   ],
   "source": [
    "twodim"
   ]
  },
  {
   "cell_type": "code",
   "execution_count": 9,
   "id": "50b33ac4",
   "metadata": {},
   "outputs": [],
   "source": [
    "treedim=np.zeros([3,2,1])"
   ]
  },
  {
   "cell_type": "code",
   "execution_count": 10,
   "id": "f1425200",
   "metadata": {},
   "outputs": [
    {
     "data": {
      "text/plain": [
       "array([[[0.],\n",
       "        [0.]],\n",
       "\n",
       "       [[0.],\n",
       "        [0.]],\n",
       "\n",
       "       [[0.],\n",
       "        [0.]]])"
      ]
     },
     "execution_count": 10,
     "metadata": {},
     "output_type": "execute_result"
    }
   ],
   "source": [
    "treedim"
   ]
  },
  {
   "cell_type": "code",
   "execution_count": 11,
   "id": "5bb61807",
   "metadata": {},
   "outputs": [],
   "source": [
    "onesarray=np.ones(4)"
   ]
  },
  {
   "cell_type": "code",
   "execution_count": 17,
   "id": "5f8c98cd",
   "metadata": {},
   "outputs": [
    {
     "data": {
      "text/plain": [
       "array([1., 1., 1., 1.])"
      ]
     },
     "execution_count": 17,
     "metadata": {},
     "output_type": "execute_result"
    }
   ],
   "source": [
    "onesarray"
   ]
  },
  {
   "cell_type": "markdown",
   "id": "9f96ef98",
   "metadata": {},
   "source": [
    "# EYE function - creates array with all diagonal ele as 1 "
   ]
  },
  {
   "cell_type": "code",
   "execution_count": 13,
   "id": "b4b40071",
   "metadata": {},
   "outputs": [],
   "source": [
    "arr=np.eye(3)"
   ]
  },
  {
   "cell_type": "code",
   "execution_count": 14,
   "id": "730d5af4",
   "metadata": {},
   "outputs": [
    {
     "data": {
      "text/plain": [
       "array([[1., 0., 0.],\n",
       "       [0., 1., 0.],\n",
       "       [0., 0., 1.]])"
      ]
     },
     "execution_count": 14,
     "metadata": {},
     "output_type": "execute_result"
    }
   ],
   "source": [
    "arr"
   ]
  },
  {
   "cell_type": "code",
   "execution_count": 15,
   "id": "5fb8635c",
   "metadata": {},
   "outputs": [],
   "source": [
    "arr=np.eye(2)"
   ]
  },
  {
   "cell_type": "code",
   "execution_count": 16,
   "id": "7c1063bf",
   "metadata": {},
   "outputs": [
    {
     "data": {
      "text/plain": [
       "array([[1., 0.],\n",
       "       [0., 1.]])"
      ]
     },
     "execution_count": 16,
     "metadata": {},
     "output_type": "execute_result"
    }
   ],
   "source": [
    "arr"
   ]
  },
  {
   "cell_type": "code",
   "execution_count": 17,
   "id": "1dee0405",
   "metadata": {},
   "outputs": [],
   "source": [
    "arr=np.eye(1)"
   ]
  },
  {
   "cell_type": "code",
   "execution_count": 18,
   "id": "0e90707a",
   "metadata": {},
   "outputs": [
    {
     "data": {
      "text/plain": [
       "array([[1.]])"
      ]
     },
     "execution_count": 18,
     "metadata": {},
     "output_type": "execute_result"
    }
   ],
   "source": [
    "arr"
   ]
  },
  {
   "cell_type": "code",
   "execution_count": 19,
   "id": "8a42981a",
   "metadata": {},
   "outputs": [],
   "source": [
    "arr=np.eye(2,3)"
   ]
  },
  {
   "cell_type": "code",
   "execution_count": 29,
   "id": "84e52428",
   "metadata": {},
   "outputs": [
    {
     "data": {
      "text/plain": [
       "array([[1., 0., 0.],\n",
       "       [0., 1., 0.]])"
      ]
     },
     "execution_count": 29,
     "metadata": {},
     "output_type": "execute_result"
    }
   ],
   "source": [
    "arr"
   ]
  },
  {
   "cell_type": "markdown",
   "id": "b68b3169",
   "metadata": {},
   "source": [
    "# diag functions gives defined values to diagonal elements "
   ]
  },
  {
   "cell_type": "code",
   "execution_count": 20,
   "id": "564e3c06",
   "metadata": {},
   "outputs": [],
   "source": [
    "arr=np.diag([1,5,9])"
   ]
  },
  {
   "cell_type": "code",
   "execution_count": 6,
   "id": "0ef74070",
   "metadata": {},
   "outputs": [
    {
     "data": {
      "text/plain": [
       "array([[1, 0, 0],\n",
       "       [0, 5, 0],\n",
       "       [0, 0, 9]])"
      ]
     },
     "execution_count": 6,
     "metadata": {},
     "output_type": "execute_result"
    }
   ],
   "source": [
    "arr"
   ]
  },
  {
   "cell_type": "code",
   "execution_count": 32,
   "id": "da3c89b8",
   "metadata": {},
   "outputs": [],
   "source": [
    "#read onlydiagonalelements"
   ]
  },
  {
   "cell_type": "code",
   "execution_count": 21,
   "id": "f2781cc5",
   "metadata": {},
   "outputs": [
    {
     "data": {
      "text/plain": [
       "array([1, 5, 9])"
      ]
     },
     "execution_count": 21,
     "metadata": {},
     "output_type": "execute_result"
    }
   ],
   "source": [
    "np.diag(arr)"
   ]
  },
  {
   "cell_type": "code",
   "execution_count": 12,
   "id": "01966fdd",
   "metadata": {},
   "outputs": [
    {
     "data": {
      "text/plain": [
       "array([[1, 0, 0],\n",
       "       [0, 5, 0],\n",
       "       [0, 0, 9]])"
      ]
     },
     "execution_count": 12,
     "metadata": {},
     "output_type": "execute_result"
    }
   ],
   "source": [
    "arr"
   ]
  },
  {
   "cell_type": "markdown",
   "id": "b58e61cf",
   "metadata": {},
   "source": [
    "# randint - generate random number between start and end "
   ]
  },
  {
   "cell_type": "code",
   "execution_count": 13,
   "id": "1f2a38e0",
   "metadata": {},
   "outputs": [],
   "source": [
    "arr=np.random.randint(1,10,3)"
   ]
  },
  {
   "cell_type": "code",
   "execution_count": 14,
   "id": "56618dd7",
   "metadata": {},
   "outputs": [
    {
     "data": {
      "text/plain": [
       "array([8, 8, 1])"
      ]
     },
     "execution_count": 14,
     "metadata": {},
     "output_type": "execute_result"
    }
   ],
   "source": [
    "arr"
   ]
  },
  {
   "cell_type": "code",
   "execution_count": 7,
   "id": "4f2df77d",
   "metadata": {},
   "outputs": [],
   "source": [
    "import numpy as np #without range\n",
    "arr=np.random.rand(3)"
   ]
  },
  {
   "cell_type": "code",
   "execution_count": 8,
   "id": "9fdfe7dd",
   "metadata": {},
   "outputs": [
    {
     "data": {
      "text/plain": [
       "array([0.34231466, 0.54232325, 0.09218057])"
      ]
     },
     "execution_count": 8,
     "metadata": {},
     "output_type": "execute_result"
    }
   ],
   "source": [
    "arr"
   ]
  },
  {
   "cell_type": "code",
   "execution_count": 17,
   "id": "084333c8",
   "metadata": {},
   "outputs": [],
   "source": [
    "arr=np.random.rand(2,2)"
   ]
  },
  {
   "cell_type": "code",
   "execution_count": 18,
   "id": "bb068cb3",
   "metadata": {},
   "outputs": [
    {
     "data": {
      "text/plain": [
       "array([[0.62204978, 0.92858656],\n",
       "       [0.96186919, 0.45951448]])"
      ]
     },
     "execution_count": 18,
     "metadata": {},
     "output_type": "execute_result"
    }
   ],
   "source": [
    "arr"
   ]
  },
  {
   "cell_type": "markdown",
   "id": "c068afba",
   "metadata": {},
   "source": [
    "# randn - generate random number close to zero"
   ]
  },
  {
   "cell_type": "code",
   "execution_count": 19,
   "id": "c287e178",
   "metadata": {},
   "outputs": [],
   "source": [
    "arr=np.random.randn(10)"
   ]
  },
  {
   "cell_type": "code",
   "execution_count": 20,
   "id": "d28bf67c",
   "metadata": {},
   "outputs": [
    {
     "data": {
      "text/plain": [
       "array([-0.83012553,  0.7476196 ,  0.06833594, -1.86199755,  0.77455724,\n",
       "        1.74082376,  0.58770676,  0.21925965, -0.50848799,  0.29396377])"
      ]
     },
     "execution_count": 20,
     "metadata": {},
     "output_type": "execute_result"
    }
   ],
   "source": [
    "arr"
   ]
  },
  {
   "cell_type": "markdown",
   "id": "07ab73c4",
   "metadata": {},
   "source": [
    "# Some other list of array functions"
   ]
  },
  {
   "cell_type": "code",
   "execution_count": 11,
   "id": "c3c92d1c",
   "metadata": {},
   "outputs": [],
   "source": [
    "arr=np.array([10,40,11,23,50,65,57])"
   ]
  },
  {
   "cell_type": "code",
   "execution_count": 12,
   "id": "777cc4ff",
   "metadata": {},
   "outputs": [
    {
     "data": {
      "text/plain": [
       "array([10, 11, 23, 40, 50, 57, 65])"
      ]
     },
     "execution_count": 12,
     "metadata": {},
     "output_type": "execute_result"
    }
   ],
   "source": [
    "np.sort(arr)"
   ]
  },
  {
   "cell_type": "code",
   "execution_count": 13,
   "id": "2f367672",
   "metadata": {},
   "outputs": [
    {
     "data": {
      "text/plain": [
       "10"
      ]
     },
     "execution_count": 13,
     "metadata": {},
     "output_type": "execute_result"
    }
   ],
   "source": [
    "np.min(arr)"
   ]
  },
  {
   "cell_type": "code",
   "execution_count": 14,
   "id": "12bc1323",
   "metadata": {},
   "outputs": [
    {
     "data": {
      "text/plain": [
       "65"
      ]
     },
     "execution_count": 14,
     "metadata": {},
     "output_type": "execute_result"
    }
   ],
   "source": [
    "np.max(arr)"
   ]
  },
  {
   "cell_type": "code",
   "execution_count": 15,
   "id": "1d39779f",
   "metadata": {},
   "outputs": [
    {
     "data": {
      "text/plain": [
       "0"
      ]
     },
     "execution_count": 15,
     "metadata": {},
     "output_type": "execute_result"
    }
   ],
   "source": [
    "np.argmin(arr)"
   ]
  },
  {
   "cell_type": "code",
   "execution_count": 16,
   "id": "22e84dc6",
   "metadata": {},
   "outputs": [
    {
     "data": {
      "text/plain": [
       "5"
      ]
     },
     "execution_count": 16,
     "metadata": {},
     "output_type": "execute_result"
    }
   ],
   "source": [
    "np.argmax(arr)"
   ]
  },
  {
   "cell_type": "code",
   "execution_count": 17,
   "id": "567ff698",
   "metadata": {},
   "outputs": [
    {
     "data": {
      "text/plain": [
       "array([3.16227766, 6.32455532, 3.31662479, 4.79583152, 7.07106781,\n",
       "       8.06225775, 7.54983444])"
      ]
     },
     "execution_count": 17,
     "metadata": {},
     "output_type": "execute_result"
    }
   ],
   "source": [
    "np.sqrt(arr)"
   ]
  },
  {
   "cell_type": "code",
   "execution_count": 19,
   "id": "c278a520",
   "metadata": {},
   "outputs": [
    {
     "data": {
      "text/plain": [
       "array([-0.83907153, -0.66693806,  0.0044257 , -0.53283302,  0.96496603,\n",
       "       -0.56245385,  0.89986683])"
      ]
     },
     "execution_count": 19,
     "metadata": {},
     "output_type": "execute_result"
    }
   ],
   "source": [
    "np.sin(arr)\n",
    "np.cos(arr)"
   ]
  },
  {
   "cell_type": "code",
   "execution_count": 21,
   "id": "22841522",
   "metadata": {},
   "outputs": [],
   "source": [
    "ar=np.array([1,5,10,15])"
   ]
  },
  {
   "cell_type": "code",
   "execution_count": 30,
   "id": "6a1adc4d",
   "metadata": {},
   "outputs": [
    {
     "data": {
      "text/plain": [
       "array([ 0.,  5., 10., 15., 20.])"
      ]
     },
     "execution_count": 30,
     "metadata": {},
     "output_type": "execute_result"
    }
   ],
   "source": [
    "np.linspace(0,20,5)  # it returns 5 numbers with equal diff between 0 and 20 "
   ]
  },
  {
   "cell_type": "code",
   "execution_count": 32,
   "id": "40fea92f",
   "metadata": {},
   "outputs": [],
   "source": [
    "# working iwth 2darray\n",
    "np.random.seed(122)"
   ]
  },
  {
   "cell_type": "code",
   "execution_count": 33,
   "id": "551f4180",
   "metadata": {},
   "outputs": [],
   "source": [
    "twod=np.random.randint(1,21,9).reshape(3,3)"
   ]
  },
  {
   "cell_type": "code",
   "execution_count": 34,
   "id": "e14e70e2",
   "metadata": {},
   "outputs": [
    {
     "data": {
      "text/plain": [
       "array([[16, 11, 13],\n",
       "       [17, 13, 16],\n",
       "       [ 3, 16, 11]])"
      ]
     },
     "execution_count": 34,
     "metadata": {},
     "output_type": "execute_result"
    }
   ],
   "source": [
    "twod"
   ]
  },
  {
   "cell_type": "code",
   "execution_count": 35,
   "id": "60a5ebac",
   "metadata": {},
   "outputs": [
    {
     "data": {
      "text/plain": [
       "116"
      ]
     },
     "execution_count": 35,
     "metadata": {},
     "output_type": "execute_result"
    }
   ],
   "source": [
    "np.sum(twod)"
   ]
  },
  {
   "cell_type": "code",
   "execution_count": 38,
   "id": "b2540038",
   "metadata": {},
   "outputs": [
    {
     "data": {
      "text/plain": [
       "(17, 3)"
      ]
     },
     "execution_count": 38,
     "metadata": {},
     "output_type": "execute_result"
    }
   ],
   "source": [
    "np.max(twod),np.min(twod)"
   ]
  },
  {
   "cell_type": "code",
   "execution_count": 39,
   "id": "379c36e3",
   "metadata": {},
   "outputs": [
    {
     "data": {
      "text/plain": [
       "17"
      ]
     },
     "execution_count": 39,
     "metadata": {},
     "output_type": "execute_result"
    }
   ],
   "source": [
    "twod.max()"
   ]
  },
  {
   "cell_type": "code",
   "execution_count": 40,
   "id": "cc689187",
   "metadata": {},
   "outputs": [
    {
     "data": {
      "text/plain": [
       "array([36, 40, 40])"
      ]
     },
     "execution_count": 40,
     "metadata": {},
     "output_type": "execute_result"
    }
   ],
   "source": [
    "np.sum(twod,axis=0)"
   ]
  },
  {
   "cell_type": "code",
   "execution_count": 41,
   "id": "dc183e5b",
   "metadata": {},
   "outputs": [
    {
     "data": {
      "text/plain": [
       "array([11, 13,  3])"
      ]
     },
     "execution_count": 41,
     "metadata": {},
     "output_type": "execute_result"
    }
   ],
   "source": [
    "np.min(twod,axis=1)"
   ]
  },
  {
   "cell_type": "code",
   "execution_count": 42,
   "id": "77977ae7",
   "metadata": {},
   "outputs": [],
   "source": [
    "#So axis = 1 represent row axis=0 represent column "
   ]
  },
  {
   "cell_type": "code",
   "execution_count": 43,
   "id": "586a3fec",
   "metadata": {},
   "outputs": [
    {
     "data": {
      "text/plain": [
       "array([ 16,  27,  40,  57,  70,  86,  89, 105, 116], dtype=int32)"
      ]
     },
     "execution_count": 43,
     "metadata": {},
     "output_type": "execute_result"
    }
   ],
   "source": [
    "#cumulative sum\n",
    "np.cumsum(twod)"
   ]
  },
  {
   "cell_type": "code",
   "execution_count": 45,
   "id": "43c0f4f2",
   "metadata": {},
   "outputs": [],
   "source": [
    "np.random.shuffle(twod) # shuffle the elements - change the position"
   ]
  },
  {
   "cell_type": "code",
   "execution_count": 46,
   "id": "d8a6ab88",
   "metadata": {},
   "outputs": [
    {
     "data": {
      "text/plain": [
       "array([[16, 11, 13],\n",
       "       [ 3, 16, 11],\n",
       "       [17, 13, 16]])"
      ]
     },
     "execution_count": 46,
     "metadata": {},
     "output_type": "execute_result"
    }
   ],
   "source": [
    "twod"
   ]
  },
  {
   "cell_type": "code",
   "execution_count": 48,
   "id": "c6e5b5a0",
   "metadata": {},
   "outputs": [
    {
     "data": {
      "text/plain": [
       "array([ 3, 11, 13, 16, 17])"
      ]
     },
     "execution_count": 48,
     "metadata": {},
     "output_type": "execute_result"
    }
   ],
   "source": [
    "np.unique(twod)"
   ]
  },
  {
   "cell_type": "code",
   "execution_count": 54,
   "id": "1bc08a79",
   "metadata": {},
   "outputs": [
    {
     "data": {
      "text/plain": [
       "5"
      ]
     },
     "execution_count": 54,
     "metadata": {},
     "output_type": "execute_result"
    }
   ],
   "source": [
    "np.unique(twod).size"
   ]
  },
  {
   "cell_type": "code",
   "execution_count": 58,
   "id": "580f4354",
   "metadata": {},
   "outputs": [
    {
     "data": {
      "text/plain": [
       "(array([ 3, 11, 13, 16, 17]),\n",
       " array([3, 1, 2, 0, 6], dtype=int64),\n",
       " array([1, 2, 2, 3, 1], dtype=int64))"
      ]
     },
     "execution_count": 58,
     "metadata": {},
     "output_type": "execute_result"
    }
   ],
   "source": [
    "# returns unique elements , position of first occ of element, number of times element repeated\n",
    "np.unique(twod,return_index=True,return_counts=True) "
   ]
  },
  {
   "cell_type": "code",
   "execution_count": 1,
   "id": "64ea9148",
   "metadata": {},
   "outputs": [
    {
     "name": "stdout",
     "output_type": "stream",
     "text": [
      "[False, False, True, True]\n",
      "[43 44]\n"
     ]
    }
   ],
   "source": [
    "#filter\n",
    "import numpy as np\n",
    "\n",
    "arr = np.array([41, 42, 43, 44])\n",
    "\n",
    "# Create an empty list\n",
    "filter_arr = []\n",
    "\n",
    "# go through each element in arr\n",
    "for element in arr:\n",
    "  # if the element is higher than 42, set the value to True, otherwise False:\n",
    "  if element > 42:\n",
    "    filter_arr.append(True)\n",
    "  else:\n",
    "    filter_arr.append(False)\n",
    "\n",
    "newarr = arr[filter_arr]\n",
    "\n",
    "print(filter_arr)\n",
    "print(newarr)"
   ]
  },
  {
   "cell_type": "code",
   "execution_count": 3,
   "id": "7483fc6b",
   "metadata": {},
   "outputs": [
    {
     "name": "stdout",
     "output_type": "stream",
     "text": [
      "[43, 44]\n",
      "[43, 44]\n"
     ]
    }
   ],
   "source": [
    "import numpy as np\n",
    "\n",
    "arr = np.array([41, 42, 43, 44])\n",
    "\n",
    "# Create an empty list\n",
    "filter_arr = []\n",
    "\n",
    "# go through each element in arr\n",
    "for element in arr:\n",
    "  # if the element is higher than 42, set the value to True, otherwise False:\n",
    "  if element > 42:\n",
    "    filter_arr.append(element)\n",
    "  \n",
    "newarr = filter_arr\n",
    "\n",
    "print(filter_arr)\n",
    "print(newarr)"
   ]
  },
  {
   "cell_type": "code",
   "execution_count": null,
   "id": "4dc6cc33",
   "metadata": {},
   "outputs": [],
   "source": []
  }
 ],
 "metadata": {
  "kernelspec": {
   "display_name": "Python 3 (ipykernel)",
   "language": "python",
   "name": "python3"
  },
  "language_info": {
   "codemirror_mode": {
    "name": "ipython",
    "version": 3
   },
   "file_extension": ".py",
   "mimetype": "text/x-python",
   "name": "python",
   "nbconvert_exporter": "python",
   "pygments_lexer": "ipython3",
   "version": "3.9.12"
  }
 },
 "nbformat": 4,
 "nbformat_minor": 5
}

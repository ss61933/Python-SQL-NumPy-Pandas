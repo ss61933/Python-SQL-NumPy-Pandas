{
 "cells": [
  {
   "cell_type": "markdown",
   "id": "54c8cfde",
   "metadata": {},
   "source": [
    "# Numpy_seed_function"
   ]
  },
  {
   "cell_type": "code",
   "execution_count": 1,
   "id": "052ea19a",
   "metadata": {},
   "outputs": [],
   "source": [
    "#his is similar to rand function. But seed function generates fix set of random numbers\n",
    "#it means randit functions geneerates new value every time ,so if we want this rand function should not chanve then use seed"
   ]
  },
  {
   "cell_type": "code",
   "execution_count": 18,
   "id": "4a8459d0",
   "metadata": {},
   "outputs": [
    {
     "name": "stdout",
     "output_type": "stream",
     "text": [
      "[1 6]\n",
      "[9 3]\n"
     ]
    }
   ],
   "source": [
    "import numpy as np\n",
    "a=np.random.randint(1,10,2)\n",
    "print(a)\n",
    "a=np.random.randint(1,10,2)\n",
    "print(a)\n",
    "\n",
    "#execute this multiple times and diff numbers will be generated "
   ]
  },
  {
   "cell_type": "code",
   "execution_count": 22,
   "id": "57bf06d4",
   "metadata": {},
   "outputs": [
    {
     "name": "stdout",
     "output_type": "stream",
     "text": [
      "[8 6]\n",
      "[2 9]\n",
      "8\n"
     ]
    }
   ],
   "source": [
    "import numpy as np\n",
    "np.random.seed(4)\n",
    "a=np.random.randint(1,10,2)\n",
    "print(a)\n",
    "a=np.random.randint(1,10,2)\n",
    "print(a)\n",
    "a=np.random.randint(1,10)\n",
    "print(a)\n",
    "\n",
    "#execute this multiple times and same numbers will be generated "
   ]
  },
  {
   "cell_type": "code",
   "execution_count": null,
   "id": "3c671b7f",
   "metadata": {},
   "outputs": [],
   "source": []
  }
 ],
 "metadata": {
  "kernelspec": {
   "display_name": "Python 3 (ipykernel)",
   "language": "python",
   "name": "python3"
  },
  "language_info": {
   "codemirror_mode": {
    "name": "ipython",
    "version": 3
   },
   "file_extension": ".py",
   "mimetype": "text/x-python",
   "name": "python",
   "nbconvert_exporter": "python",
   "pygments_lexer": "ipython3",
   "version": "3.9.12"
  }
 },
 "nbformat": 4,
 "nbformat_minor": 5
}

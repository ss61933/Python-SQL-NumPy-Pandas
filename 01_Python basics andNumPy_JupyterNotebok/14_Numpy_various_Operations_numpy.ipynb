{
 "cells": [
  {
   "cell_type": "code",
   "execution_count": 1,
   "id": "bf631f39",
   "metadata": {},
   "outputs": [],
   "source": [
    "# we can perform mathemtical or logical operations on numpy arrays"
   ]
  },
  {
   "cell_type": "code",
   "execution_count": 3,
   "id": "78201f42",
   "metadata": {},
   "outputs": [
    {
     "data": {
      "text/plain": [
       "array([25, 26, 27, 28, 29, 30, 31, 32, 33, 34, 35, 36, 37, 38, 39, 40, 41,\n",
       "       42])"
      ]
     },
     "execution_count": 3,
     "metadata": {},
     "output_type": "execute_result"
    }
   ],
   "source": [
    "import numpy as np\n",
    "a=np.arange(25,43)\n",
    "a"
   ]
  },
  {
   "cell_type": "code",
   "execution_count": 4,
   "id": "e7a4890c",
   "metadata": {},
   "outputs": [],
   "source": [
    "a=a*2"
   ]
  },
  {
   "cell_type": "code",
   "execution_count": 5,
   "id": "1fe6495a",
   "metadata": {},
   "outputs": [
    {
     "data": {
      "text/plain": [
       "array([50, 52, 54, 56, 58, 60, 62, 64, 66, 68, 70, 72, 74, 76, 78, 80, 82,\n",
       "       84])"
      ]
     },
     "execution_count": 5,
     "metadata": {},
     "output_type": "execute_result"
    }
   ],
   "source": [
    "a"
   ]
  },
  {
   "cell_type": "code",
   "execution_count": 6,
   "id": "a88be3ce",
   "metadata": {},
   "outputs": [],
   "source": [
    "a=a+1"
   ]
  },
  {
   "cell_type": "code",
   "execution_count": 7,
   "id": "d114b907",
   "metadata": {},
   "outputs": [
    {
     "data": {
      "text/plain": [
       "array([51, 53, 55, 57, 59, 61, 63, 65, 67, 69, 71, 73, 75, 77, 79, 81, 83,\n",
       "       85])"
      ]
     },
     "execution_count": 7,
     "metadata": {},
     "output_type": "execute_result"
    }
   ],
   "source": [
    "a"
   ]
  },
  {
   "cell_type": "code",
   "execution_count": 10,
   "id": "8264e136",
   "metadata": {},
   "outputs": [],
   "source": [
    "b=np.arange(25,43)"
   ]
  },
  {
   "cell_type": "code",
   "execution_count": 11,
   "id": "0cc470e2",
   "metadata": {},
   "outputs": [],
   "source": [
    "a=a*b"
   ]
  },
  {
   "cell_type": "code",
   "execution_count": 12,
   "id": "ad914806",
   "metadata": {},
   "outputs": [
    {
     "data": {
      "text/plain": [
       "array([1275, 1378, 1485, 1596, 1711, 1830, 1953, 2080, 2211, 2346, 2485,\n",
       "       2628, 2775, 2926, 3081, 3240, 3403, 3570])"
      ]
     },
     "execution_count": 12,
     "metadata": {},
     "output_type": "execute_result"
    }
   ],
   "source": [
    "a"
   ]
  },
  {
   "cell_type": "code",
   "execution_count": 13,
   "id": "1812d6e6",
   "metadata": {},
   "outputs": [],
   "source": [
    "a=a/b"
   ]
  },
  {
   "cell_type": "code",
   "execution_count": 14,
   "id": "8e6eeace",
   "metadata": {},
   "outputs": [
    {
     "data": {
      "text/plain": [
       "array([51., 53., 55., 57., 59., 61., 63., 65., 67., 69., 71., 73., 75.,\n",
       "       77., 79., 81., 83., 85.])"
      ]
     },
     "execution_count": 14,
     "metadata": {},
     "output_type": "execute_result"
    }
   ],
   "source": [
    "a"
   ]
  },
  {
   "cell_type": "code",
   "execution_count": 23,
   "id": "85da56d9",
   "metadata": {},
   "outputs": [],
   "source": [
    "b=np.array([2,8])"
   ]
  },
  {
   "cell_type": "code",
   "execution_count": 24,
   "id": "5f02d4fd",
   "metadata": {},
   "outputs": [
    {
     "data": {
      "text/plain": [
       "array([2, 8])"
      ]
     },
     "execution_count": 24,
     "metadata": {},
     "output_type": "execute_result"
    }
   ],
   "source": [
    "b"
   ]
  },
  {
   "cell_type": "code",
   "execution_count": 25,
   "id": "61be098d",
   "metadata": {},
   "outputs": [
    {
     "data": {
      "text/plain": [
       "array([ 4, 64], dtype=int32)"
      ]
     },
     "execution_count": 25,
     "metadata": {},
     "output_type": "execute_result"
    }
   ],
   "source": [
    "b**2"
   ]
  },
  {
   "cell_type": "code",
   "execution_count": 26,
   "id": "b7256ba6",
   "metadata": {},
   "outputs": [],
   "source": [
    "#same way we can operate on 2*2 array"
   ]
  },
  {
   "cell_type": "code",
   "execution_count": 31,
   "id": "bcf981e4",
   "metadata": {},
   "outputs": [],
   "source": [
    "arr=np.arange(4).reshape(2,2)\n",
    "arr1=np.arange(4).reshape(2,2)\n",
    "                        "
   ]
  },
  {
   "cell_type": "code",
   "execution_count": 32,
   "id": "72baafe7",
   "metadata": {},
   "outputs": [
    {
     "data": {
      "text/plain": [
       "array([[0, 1],\n",
       "       [2, 3]])"
      ]
     },
     "execution_count": 32,
     "metadata": {},
     "output_type": "execute_result"
    }
   ],
   "source": [
    "arr"
   ]
  },
  {
   "cell_type": "code",
   "execution_count": 33,
   "id": "4f6eae69",
   "metadata": {},
   "outputs": [
    {
     "data": {
      "text/plain": [
       "array([[0, 1],\n",
       "       [2, 3]])"
      ]
     },
     "execution_count": 33,
     "metadata": {},
     "output_type": "execute_result"
    }
   ],
   "source": [
    "arr1"
   ]
  },
  {
   "cell_type": "code",
   "execution_count": 34,
   "id": "0faabe85",
   "metadata": {},
   "outputs": [],
   "source": [
    "arr=arr*arr1"
   ]
  },
  {
   "cell_type": "code",
   "execution_count": 35,
   "id": "74661a68",
   "metadata": {},
   "outputs": [
    {
     "data": {
      "text/plain": [
       "array([[0, 1],\n",
       "       [4, 9]])"
      ]
     },
     "execution_count": 35,
     "metadata": {},
     "output_type": "execute_result"
    }
   ],
   "source": [
    "arr"
   ]
  },
  {
   "cell_type": "code",
   "execution_count": 36,
   "id": "701796c6",
   "metadata": {},
   "outputs": [],
   "source": [
    "arr=arr-arr1"
   ]
  },
  {
   "cell_type": "code",
   "execution_count": 37,
   "id": "13ffc247",
   "metadata": {},
   "outputs": [
    {
     "data": {
      "text/plain": [
       "array([[0, 0],\n",
       "       [2, 6]])"
      ]
     },
     "execution_count": 37,
     "metadata": {},
     "output_type": "execute_result"
    }
   ],
   "source": [
    "arr"
   ]
  },
  {
   "cell_type": "code",
   "execution_count": 38,
   "id": "7994ae0f",
   "metadata": {},
   "outputs": [
    {
     "data": {
      "text/plain": [
       "array([[0, 1],\n",
       "       [2, 3]])"
      ]
     },
     "execution_count": 38,
     "metadata": {},
     "output_type": "execute_result"
    }
   ],
   "source": [
    "arr1"
   ]
  },
  {
   "cell_type": "code",
   "execution_count": 40,
   "id": "92ae11c0",
   "metadata": {},
   "outputs": [
    {
     "data": {
      "text/plain": [
       "array([[ 0,  0],\n",
       "       [12, 20]])"
      ]
     },
     "execution_count": 40,
     "metadata": {},
     "output_type": "execute_result"
    }
   ],
   "source": [
    "#IF we want dot product then use --This is multiplicationof 2 metrix \n",
    "arr.dot(arr1)"
   ]
  },
  {
   "cell_type": "code",
   "execution_count": null,
   "id": "c91d88b1",
   "metadata": {},
   "outputs": [],
   "source": []
  }
 ],
 "metadata": {
  "kernelspec": {
   "display_name": "Python 3 (ipykernel)",
   "language": "python",
   "name": "python3"
  },
  "language_info": {
   "codemirror_mode": {
    "name": "ipython",
    "version": 3
   },
   "file_extension": ".py",
   "mimetype": "text/x-python",
   "name": "python",
   "nbconvert_exporter": "python",
   "pygments_lexer": "ipython3",
   "version": "3.9.12"
  }
 },
 "nbformat": 4,
 "nbformat_minor": 5
}

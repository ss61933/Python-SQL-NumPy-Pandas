{
 "cells": [
  {
   "cell_type": "code",
   "execution_count": 1,
   "id": "cbde64cb",
   "metadata": {},
   "outputs": [],
   "source": [
    "import sys"
   ]
  },
  {
   "cell_type": "code",
   "execution_count": 2,
   "id": "396aff23",
   "metadata": {},
   "outputs": [],
   "source": [
    "import numpy as np"
   ]
  },
  {
   "cell_type": "code",
   "execution_count": 4,
   "id": "317bce16",
   "metadata": {},
   "outputs": [],
   "source": [
    "a=np.array([1,2,3])"
   ]
  },
  {
   "cell_type": "code",
   "execution_count": 5,
   "id": "9e05214d",
   "metadata": {},
   "outputs": [
    {
     "data": {
      "text/plain": [
       "array([1, 2, 3])"
      ]
     },
     "execution_count": 5,
     "metadata": {},
     "output_type": "execute_result"
    }
   ],
   "source": [
    "a"
   ]
  },
  {
   "cell_type": "code",
   "execution_count": 7,
   "id": "4e03c4e4",
   "metadata": {},
   "outputs": [],
   "source": [
    "b=np.arange(10)"
   ]
  },
  {
   "cell_type": "code",
   "execution_count": 8,
   "id": "27dcd6f1",
   "metadata": {},
   "outputs": [
    {
     "data": {
      "text/plain": [
       "array([0, 1, 2, 3, 4, 5, 6, 7, 8, 9])"
      ]
     },
     "execution_count": 8,
     "metadata": {},
     "output_type": "execute_result"
    }
   ],
   "source": [
    "b"
   ]
  },
  {
   "cell_type": "code",
   "execution_count": 9,
   "id": "b280e717",
   "metadata": {},
   "outputs": [
    {
     "name": "stdout",
     "output_type": "stream",
     "text": [
      "[0 1 2 3 4 5 6 7 8 9]\n"
     ]
    }
   ],
   "source": [
    "print(b)"
   ]
  },
  {
   "cell_type": "code",
   "execution_count": 14,
   "id": "b0f0b04a",
   "metadata": {},
   "outputs": [
    {
     "name": "stdout",
     "output_type": "stream",
     "text": [
      "Enter size of array2\n",
      "ente number--34\n",
      "ente number--65\n",
      "[34, 65]\n"
     ]
    }
   ],
   "source": [
    "#Creating array with inut \n",
    "c=[]\n",
    "n=int(input(\"Enter size of array\"))\n",
    "for i in range(n):\n",
    "    val=int(input(\"ente number--\"))\n",
    "    c.append(val)\n",
    "print(c)"
   ]
  },
  {
   "cell_type": "code",
   "execution_count": 15,
   "id": "70e36b66",
   "metadata": {},
   "outputs": [],
   "source": [
    "d=np.array(c)"
   ]
  },
  {
   "cell_type": "code",
   "execution_count": 16,
   "id": "10ce3daa",
   "metadata": {},
   "outputs": [
    {
     "data": {
      "text/plain": [
       "array([34, 65])"
      ]
     },
     "execution_count": 16,
     "metadata": {},
     "output_type": "execute_result"
    }
   ],
   "source": [
    "d"
   ]
  },
  {
   "cell_type": "code",
   "execution_count": 17,
   "id": "d8560427",
   "metadata": {},
   "outputs": [],
   "source": [
    "#Soabove we converted regular array to numpyarray "
   ]
  },
  {
   "cell_type": "markdown",
   "id": "3058bbaf",
   "metadata": {},
   "source": [
    "# Two dim array"
   ]
  },
  {
   "cell_type": "code",
   "execution_count": 18,
   "id": "31f37041",
   "metadata": {},
   "outputs": [],
   "source": [
    "# if we have 2 opening bracks it means its 2 dim array\n",
    "a=[[1,2,3],[4,5,6]]"
   ]
  },
  {
   "cell_type": "code",
   "execution_count": 19,
   "id": "191a5905",
   "metadata": {},
   "outputs": [],
   "source": [
    "twoa=np.array(a)"
   ]
  },
  {
   "cell_type": "code",
   "execution_count": 20,
   "id": "9a542443",
   "metadata": {},
   "outputs": [
    {
     "data": {
      "text/plain": [
       "array([[1, 2, 3],\n",
       "       [4, 5, 6]])"
      ]
     },
     "execution_count": 20,
     "metadata": {},
     "output_type": "execute_result"
    }
   ],
   "source": [
    "twoa"
   ]
  },
  {
   "cell_type": "code",
   "execution_count": 21,
   "id": "9707fe61",
   "metadata": {},
   "outputs": [
    {
     "name": "stdout",
     "output_type": "stream",
     "text": [
      "[[1 2 3]\n",
      " [4 5 6]]\n"
     ]
    }
   ],
   "source": [
    "print(twoa)"
   ]
  },
  {
   "cell_type": "code",
   "execution_count": 22,
   "id": "c90ce138",
   "metadata": {},
   "outputs": [
    {
     "data": {
      "text/plain": [
       "2"
      ]
     },
     "execution_count": 22,
     "metadata": {},
     "output_type": "execute_result"
    }
   ],
   "source": [
    "twoa.ndim"
   ]
  },
  {
   "cell_type": "code",
   "execution_count": 23,
   "id": "f50e61e5",
   "metadata": {},
   "outputs": [
    {
     "data": {
      "text/plain": [
       "(2, 3)"
      ]
     },
     "execution_count": 23,
     "metadata": {},
     "output_type": "execute_result"
    }
   ],
   "source": [
    "twoa.shape"
   ]
  },
  {
   "cell_type": "code",
   "execution_count": null,
   "id": "07d54d4c",
   "metadata": {},
   "outputs": [],
   "source": []
  }
 ],
 "metadata": {
  "kernelspec": {
   "display_name": "Python 3 (ipykernel)",
   "language": "python",
   "name": "python3"
  },
  "language_info": {
   "codemirror_mode": {
    "name": "ipython",
    "version": 3
   },
   "file_extension": ".py",
   "mimetype": "text/x-python",
   "name": "python",
   "nbconvert_exporter": "python",
   "pygments_lexer": "ipython3",
   "version": "3.9.12"
  }
 },
 "nbformat": 4,
 "nbformat_minor": 5
}

{
 "cells": [
  {
   "cell_type": "markdown",
   "id": "00102f38-d58c-41ef-a056-b56cedccd962",
   "metadata": {},
   "source": [
    "# Excercise"
   ]
  },
  {
   "cell_type": "code",
   "execution_count": 1,
   "id": "f133e033-f35c-462c-bfb7-c80f737b9d45",
   "metadata": {},
   "outputs": [],
   "source": [
    "import math"
   ]
  },
  {
   "cell_type": "code",
   "execution_count": 4,
   "id": "1e14d6ab-3643-4a8c-b7d6-0763f562fdf2",
   "metadata": {},
   "outputs": [
    {
     "data": {
      "text/plain": [
       "100.0"
      ]
     },
     "execution_count": 4,
     "metadata": {},
     "output_type": "execute_result"
    }
   ],
   "source": [
    "a=10\n",
    "math.pow(a,2)"
   ]
  },
  {
   "cell_type": "code",
   "execution_count": 5,
   "id": "73cef4a8-f5ec-40dd-afe4-21dd4577d88c",
   "metadata": {},
   "outputs": [],
   "source": [
    "mylst=\"Hi how are you\""
   ]
  },
  {
   "cell_type": "code",
   "execution_count": 6,
   "id": "2f8a92b1-cfe8-438d-9f96-6c28b58f06df",
   "metadata": {},
   "outputs": [
    {
     "data": {
      "text/plain": [
       "'you'"
      ]
     },
     "execution_count": 6,
     "metadata": {},
     "output_type": "execute_result"
    }
   ],
   "source": [
    "mylst.split()[3]"
   ]
  },
  {
   "cell_type": "code",
   "execution_count": 9,
   "id": "f3e1c265-cd60-46c0-9a0e-f517bf99b322",
   "metadata": {},
   "outputs": [],
   "source": [
    "mylst=[1,2,3,[\"hi\",\"bye\"],True,[False,True,\"Hi\"]]"
   ]
  },
  {
   "cell_type": "code",
   "execution_count": 12,
   "id": "da726f2e-1d45-4274-bdc3-78807ba1196f",
   "metadata": {},
   "outputs": [
    {
     "name": "stdout",
     "output_type": "stream",
     "text": [
      "[1, 2, 3, ['hi', 'bye'], True, [False, True, 'Hi']]\n"
     ]
    }
   ],
   "source": [
    "print(mylst)"
   ]
  },
  {
   "cell_type": "code",
   "execution_count": 17,
   "id": "e83ace26-9fe1-4776-a0ac-debd1c6665b7",
   "metadata": {},
   "outputs": [
    {
     "name": "stdout",
     "output_type": "stream",
     "text": [
      "bye\n"
     ]
    }
   ],
   "source": [
    "print(mylst[3][1])"
   ]
  },
  {
   "cell_type": "code",
   "execution_count": 18,
   "id": "44b98970-d359-4564-b60b-16f77735c704",
   "metadata": {},
   "outputs": [
    {
     "name": "stdout",
     "output_type": "stream",
     "text": [
      "hi\n"
     ]
    }
   ],
   "source": [
    "print(mylst[3][0])"
   ]
  },
  {
   "cell_type": "code",
   "execution_count": 19,
   "id": "2b6fb031-2065-432e-a907-2dcd367d80f0",
   "metadata": {},
   "outputs": [
    {
     "name": "stdout",
     "output_type": "stream",
     "text": [
      "True\n"
     ]
    }
   ],
   "source": [
    "print(mylst[5][1])"
   ]
  },
  {
   "cell_type": "code",
   "execution_count": 20,
   "id": "2669e969-b0cb-430f-ac20-87bff1cba006",
   "metadata": {},
   "outputs": [],
   "source": [
    "mylst=[1,2,3,[\"hi\",\"bye\",[\"111\",\"222\"]],True,[False,True,\"Hi\"]]"
   ]
  },
  {
   "cell_type": "code",
   "execution_count": 21,
   "id": "08a3f41c-baf7-49a9-8915-6c834074104e",
   "metadata": {},
   "outputs": [
    {
     "name": "stdout",
     "output_type": "stream",
     "text": [
      "222\n"
     ]
    }
   ],
   "source": [
    "print(mylst[3][2][1])"
   ]
  },
  {
   "cell_type": "code",
   "execution_count": 23,
   "id": "fb3996dd-2d39-4b8f-8988-27c7bf3f1654",
   "metadata": {},
   "outputs": [
    {
     "data": {
      "text/plain": [
       "[False, True, 'Hi']"
      ]
     },
     "execution_count": 23,
     "metadata": {},
     "output_type": "execute_result"
    }
   ],
   "source": [
    "#remove last element\n",
    "mylst.pop()"
   ]
  },
  {
   "cell_type": "code",
   "execution_count": 24,
   "id": "bf8d6275-a406-4163-8d90-38a8b8f16bb0",
   "metadata": {},
   "outputs": [
    {
     "name": "stdout",
     "output_type": "stream",
     "text": [
      "[1, 2, 3, ['hi', 'bye', ['111', '222']], True]\n"
     ]
    }
   ],
   "source": [
    "print(mylst)"
   ]
  },
  {
   "cell_type": "code",
   "execution_count": 36,
   "id": "64e026e1-4795-4285-a46e-ac78295d474a",
   "metadata": {},
   "outputs": [
    {
     "ename": "ValueError",
     "evalue": "list.remove(x): x not in list",
     "output_type": "error",
     "traceback": [
      "\u001b[1;31m---------------------------------------------------------------------------\u001b[0m",
      "\u001b[1;31mValueError\u001b[0m                                Traceback (most recent call last)",
      "Input \u001b[1;32mIn [36]\u001b[0m, in \u001b[0;36m<cell line: 2>\u001b[1;34m()\u001b[0m\n\u001b[0;32m      1\u001b[0m \u001b[38;5;66;03m#remove 3 element again\u001b[39;00m\n\u001b[1;32m----> 2\u001b[0m \u001b[43mmylst\u001b[49m\u001b[38;5;241;43m.\u001b[39;49m\u001b[43mremove\u001b[49m\u001b[43m(\u001b[49m\u001b[38;5;241;43m3\u001b[39;49m\u001b[43m)\u001b[49m\n",
      "\u001b[1;31mValueError\u001b[0m: list.remove(x): x not in list"
     ]
    }
   ],
   "source": [
    "#remove 3 element again\n",
    "mylst.remove(3)"
   ]
  },
  {
   "cell_type": "code",
   "execution_count": 37,
   "id": "759cf135-9874-4298-930c-93fb2ab8b683",
   "metadata": {},
   "outputs": [
    {
     "name": "stdout",
     "output_type": "stream",
     "text": [
      "[2, ['hi', 'bye', ['111', '222']], True]\n"
     ]
    }
   ],
   "source": [
    "print(mylst)"
   ]
  },
  {
   "cell_type": "markdown",
   "id": "69da49e8-ee47-4357-9fb1-b0003acd18a7",
   "metadata": {},
   "source": [
    "#Calcualte day number  when your  birthday . ex. - input 1st Feb: return32\n",
    "#birthday and birthmonthwill be an input \n"
   ]
  },
  {
   "cell_type": "code",
   "execution_count": 51,
   "id": "fb0b7914-8cde-4e18-be95-37677c276135",
   "metadata": {},
   "outputs": [],
   "source": [
    "def calbirthday(month,day):\n",
    "    days = [31,28,30,31,30,31,30,31,30,31,30,31]\n",
    "    summonths=0\n",
    "    if day>31:\n",
    "        print(\"Invalid birthdate\")\n",
    "        return 0\n",
    "    if month>11:\n",
    "        print(\"Invalid wrongmonth\")\n",
    "        return 0\n",
    "    if month==0:\n",
    "         return day\n",
    "    else:\n",
    "        return int(sum(days[:month]))+day\n",
    "    \n",
    "    "
   ]
  },
  {
   "cell_type": "code",
   "execution_count": 57,
   "id": "83953f37-55de-48bf-909d-8c95f7250647",
   "metadata": {},
   "outputs": [
    {
     "data": {
      "text/plain": [
       "364"
      ]
     },
     "execution_count": 57,
     "metadata": {},
     "output_type": "execute_result"
    }
   ],
   "source": [
    "calbirthday(11,31)"
   ]
  },
  {
   "cell_type": "code",
   "execution_count": 58,
   "id": "6f9531f0-326c-4026-8e5d-d2ab709b85bf",
   "metadata": {},
   "outputs": [],
   "source": [
    "mydict={\"first\":[23,14,12],\"second\":[23,3,34]}"
   ]
  },
  {
   "cell_type": "code",
   "execution_count": 59,
   "id": "023f8704-e7a0-4868-980b-b9a8a8574a5a",
   "metadata": {},
   "outputs": [
    {
     "data": {
      "text/plain": [
       "[23, 3, 34]"
      ]
     },
     "execution_count": 59,
     "metadata": {},
     "output_type": "execute_result"
    }
   ],
   "source": [
    "mydict[\"second\"]"
   ]
  },
  {
   "cell_type": "code",
   "execution_count": 60,
   "id": "53ff3326-5b95-4f3f-acf0-c001a43c045c",
   "metadata": {},
   "outputs": [
    {
     "data": {
      "text/plain": [
       "3"
      ]
     },
     "execution_count": 60,
     "metadata": {},
     "output_type": "execute_result"
    }
   ],
   "source": [
    "mydict[\"second\"][1]"
   ]
  },
  {
   "cell_type": "code",
   "execution_count": null,
   "id": "46ef3fdb-4f00-4b27-b76f-0fa568679193",
   "metadata": {},
   "outputs": [],
   "source": []
  }
 ],
 "metadata": {
  "kernelspec": {
   "display_name": "Python 3 (ipykernel)",
   "language": "python",
   "name": "python3"
  },
  "language_info": {
   "codemirror_mode": {
    "name": "ipython",
    "version": 3
   },
   "file_extension": ".py",
   "mimetype": "text/x-python",
   "name": "python",
   "nbconvert_exporter": "python",
   "pygments_lexer": "ipython3",
   "version": "3.9.12"
  }
 },
 "nbformat": 4,
 "nbformat_minor": 5
}

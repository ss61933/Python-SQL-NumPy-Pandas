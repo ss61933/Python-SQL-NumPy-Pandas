{
 "cells": [
  {
   "cell_type": "code",
   "execution_count": 1,
   "id": "4c494e1f",
   "metadata": {},
   "outputs": [],
   "source": [
    "def checkIfNotNumberic(*args):\n",
    "    returnVal= True\n",
    "    for x in args:\n",
    "        if not(isinstance(x,(int,float))):\n",
    "            return False\n",
    "        else:\n",
    "            print(\"Is numeric--\")\n",
    "    return True\n",
    "\n",
    "def addAllNumerics(*args):\n",
    "    s= 0\n",
    "    for x in args:\n",
    "        s+=x\n",
    "    return s\n",
    "\n",
    "myName = \"Python \"\n",
    "\n",
    "# download above function on local drive as python file with name -MyPythonFunction"
   ]
  },
  {
   "cell_type": "code",
   "execution_count": 2,
   "id": "477688e8",
   "metadata": {},
   "outputs": [
    {
     "ename": "ModuleNotFoundError",
     "evalue": "No module named 'MyPythonFunction'",
     "output_type": "error",
     "traceback": [
      "\u001b[1;31m---------------------------------------------------------------------------\u001b[0m",
      "\u001b[1;31mModuleNotFoundError\u001b[0m                       Traceback (most recent call last)",
      "Input \u001b[1;32mIn [2]\u001b[0m, in \u001b[0;36m<cell line: 3>\u001b[1;34m()\u001b[0m\n\u001b[0;32m      1\u001b[0m \u001b[38;5;28;01mimport\u001b[39;00m \u001b[38;5;21;01msys\u001b[39;00m\n\u001b[0;32m      2\u001b[0m sys\u001b[38;5;241m.\u001b[39mpath\u001b[38;5;241m.\u001b[39mappend(\u001b[38;5;124m'\u001b[39m\u001b[38;5;124mC:/Users/swapnil/Downloads/MyModulePython/\u001b[39m\u001b[38;5;124m'\u001b[39m)\n\u001b[1;32m----> 3\u001b[0m \u001b[38;5;28;01mimport\u001b[39;00m \u001b[38;5;21;01mMyPythonFunction\u001b[39;00m \u001b[38;5;28;01mas\u001b[39;00m \u001b[38;5;21;01mmyfncs\u001b[39;00m\n",
      "\u001b[1;31mModuleNotFoundError\u001b[0m: No module named 'MyPythonFunction'"
     ]
    }
   ],
   "source": [
    "import sys\n",
    "sys.path.append('C:/Users/swapnil/Downloads/MyModulePython/')\n",
    "import MyPythonFunction as myfncs"
   ]
  },
  {
   "cell_type": "code",
   "execution_count": null,
   "id": "dee8418b",
   "metadata": {},
   "outputs": [],
   "source": [
    "myfncs.addAllNumerics(2,3)"
   ]
  },
  {
   "cell_type": "code",
   "execution_count": null,
   "id": "6af7ead2",
   "metadata": {},
   "outputs": [],
   "source": [
    "#importing only onefunction\n",
    "from MyPythonFunction import addAllNumerics"
   ]
  },
  {
   "cell_type": "code",
   "execution_count": null,
   "id": "beade702",
   "metadata": {},
   "outputs": [],
   "source": [
    "addAllNumerics(3,5)"
   ]
  },
  {
   "cell_type": "code",
   "execution_count": null,
   "id": "9ba0864b",
   "metadata": {},
   "outputs": [],
   "source": [
    "myfncs.myName"
   ]
  },
  {
   "cell_type": "code",
   "execution_count": null,
   "id": "8a7ba30d",
   "metadata": {},
   "outputs": [],
   "source": [
    "#Another example of function\n",
    "def FindMin(L):\n",
    "    minv=L[0]\n",
    "    idx=0\n",
    "    i=0\n",
    "    for x in L :\n",
    "        if x<minv:\n",
    "            minv=x\n",
    "            idx=i\n",
    "        else:\n",
    "            pass\n",
    "        i=i+1\n",
    "    return minv,idx\n",
    "            "
   ]
  },
  {
   "cell_type": "code",
   "execution_count": null,
   "id": "fcf0689e",
   "metadata": {},
   "outputs": [],
   "source": [
    "print(FindMin([4,5,3,2,1]))"
   ]
  },
  {
   "cell_type": "code",
   "execution_count": null,
   "id": "499a3c20",
   "metadata": {},
   "outputs": [],
   "source": [
    "#calling function within other function \n",
    "\n",
    "from MyPythonFunction import checkIfNotNumberic\n",
    "def Swapvalue(L):\n",
    "    y=checkIfNotNumberic(L)\n",
    "    tmp=L[0]\n",
    "    L[0]=L[1]\n",
    "    L[1]=tmp\n",
    "    L.append(not(y))\n",
    "    return L"
   ]
  },
  {
   "cell_type": "code",
   "execution_count": null,
   "id": "400910fd",
   "metadata": {},
   "outputs": [],
   "source": [
    "X= (Swapvalue([1,2]))"
   ]
  },
  {
   "cell_type": "code",
   "execution_count": null,
   "id": "eb8a05b6",
   "metadata": {},
   "outputs": [],
   "source": [
    "print(X)"
   ]
  },
  {
   "cell_type": "code",
   "execution_count": null,
   "id": "0f71ca92",
   "metadata": {},
   "outputs": [],
   "source": []
  }
 ],
 "metadata": {
  "kernelspec": {
   "display_name": "Python 3 (ipykernel)",
   "language": "python",
   "name": "python3"
  },
  "language_info": {
   "codemirror_mode": {
    "name": "ipython",
    "version": 3
   },
   "file_extension": ".py",
   "mimetype": "text/x-python",
   "name": "python",
   "nbconvert_exporter": "python",
   "pygments_lexer": "ipython3",
   "version": "3.9.12"
  }
 },
 "nbformat": 4,
 "nbformat_minor": 5
}

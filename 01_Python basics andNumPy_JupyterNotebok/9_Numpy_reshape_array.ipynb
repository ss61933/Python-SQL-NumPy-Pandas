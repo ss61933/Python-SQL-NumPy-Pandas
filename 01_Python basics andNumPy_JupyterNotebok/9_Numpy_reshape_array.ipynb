{
 "cells": [
  {
   "cell_type": "markdown",
   "id": "3415dec6",
   "metadata": {},
   "source": [
    "# Converting 1 dim to 2 dim or v/s or similar conversions"
   ]
  },
  {
   "cell_type": "code",
   "execution_count": 1,
   "id": "a6815cbe",
   "metadata": {},
   "outputs": [],
   "source": [
    "import numpy as np"
   ]
  },
  {
   "cell_type": "code",
   "execution_count": 2,
   "id": "f3cdaf28",
   "metadata": {},
   "outputs": [],
   "source": [
    "# crate one dim array\n",
    "arr=np.random.randint(1,50,12)"
   ]
  },
  {
   "cell_type": "code",
   "execution_count": 3,
   "id": "f4846579",
   "metadata": {},
   "outputs": [
    {
     "data": {
      "text/plain": [
       "array([43, 20, 48,  6, 24, 41,  7,  2, 31,  4, 40, 25])"
      ]
     },
     "execution_count": 3,
     "metadata": {},
     "output_type": "execute_result"
    }
   ],
   "source": [
    "arr"
   ]
  },
  {
   "cell_type": "code",
   "execution_count": 4,
   "id": "be4345e5",
   "metadata": {},
   "outputs": [
    {
     "data": {
      "text/plain": [
       "(12,)"
      ]
     },
     "execution_count": 4,
     "metadata": {},
     "output_type": "execute_result"
    }
   ],
   "source": [
    "arr.shape"
   ]
  },
  {
   "cell_type": "code",
   "execution_count": 5,
   "id": "51ee0a4f",
   "metadata": {},
   "outputs": [
    {
     "data": {
      "text/plain": [
       "1"
      ]
     },
     "execution_count": 5,
     "metadata": {},
     "output_type": "execute_result"
    }
   ],
   "source": [
    "arr.ndim"
   ]
  },
  {
   "cell_type": "code",
   "execution_count": 11,
   "id": "b549de27",
   "metadata": {},
   "outputs": [],
   "source": [
    "arr=arr.reshape(2,6) # 2 rows 6 coulms"
   ]
  },
  {
   "cell_type": "code",
   "execution_count": 8,
   "id": "7b51e61d",
   "metadata": {},
   "outputs": [
    {
     "data": {
      "text/plain": [
       "array([[43, 20, 48,  6, 24, 41],\n",
       "       [ 7,  2, 31,  4, 40, 25]])"
      ]
     },
     "execution_count": 8,
     "metadata": {},
     "output_type": "execute_result"
    }
   ],
   "source": [
    "arr"
   ]
  },
  {
   "cell_type": "code",
   "execution_count": 12,
   "id": "944e6ba6",
   "metadata": {},
   "outputs": [],
   "source": [
    "arr=arr.reshape(1,12)"
   ]
  },
  {
   "cell_type": "code",
   "execution_count": 13,
   "id": "3136102c",
   "metadata": {},
   "outputs": [
    {
     "data": {
      "text/plain": [
       "array([[43, 20, 48,  6, 24, 41,  7,  2, 31,  4, 40, 25]])"
      ]
     },
     "execution_count": 13,
     "metadata": {},
     "output_type": "execute_result"
    }
   ],
   "source": [
    "arr"
   ]
  },
  {
   "cell_type": "code",
   "execution_count": 14,
   "id": "29f3b3ad",
   "metadata": {},
   "outputs": [],
   "source": [
    "arr=arr.reshape(2,6) # 2 rows 6 coulms"
   ]
  },
  {
   "cell_type": "code",
   "execution_count": 15,
   "id": "78397ef9",
   "metadata": {},
   "outputs": [
    {
     "data": {
      "text/plain": [
       "array([[43, 20, 48,  6, 24, 41],\n",
       "       [ 7,  2, 31,  4, 40, 25]])"
      ]
     },
     "execution_count": 15,
     "metadata": {},
     "output_type": "execute_result"
    }
   ],
   "source": [
    "arr"
   ]
  },
  {
   "cell_type": "code",
   "execution_count": 16,
   "id": "e70e8c15",
   "metadata": {},
   "outputs": [],
   "source": [
    "arr=arr.reshape(3,4)"
   ]
  },
  {
   "cell_type": "code",
   "execution_count": 17,
   "id": "ecbe6aad",
   "metadata": {},
   "outputs": [
    {
     "data": {
      "text/plain": [
       "array([[43, 20, 48,  6],\n",
       "       [24, 41,  7,  2],\n",
       "       [31,  4, 40, 25]])"
      ]
     },
     "execution_count": 17,
     "metadata": {},
     "output_type": "execute_result"
    }
   ],
   "source": [
    "arr"
   ]
  },
  {
   "cell_type": "code",
   "execution_count": 18,
   "id": "86a57466",
   "metadata": {},
   "outputs": [],
   "source": [
    "arr=arr.reshape(6,2)"
   ]
  },
  {
   "cell_type": "code",
   "execution_count": 19,
   "id": "6064a315",
   "metadata": {},
   "outputs": [
    {
     "data": {
      "text/plain": [
       "array([[43, 20],\n",
       "       [48,  6],\n",
       "       [24, 41],\n",
       "       [ 7,  2],\n",
       "       [31,  4],\n",
       "       [40, 25]])"
      ]
     },
     "execution_count": 19,
     "metadata": {},
     "output_type": "execute_result"
    }
   ],
   "source": [
    "arr"
   ]
  },
  {
   "cell_type": "code",
   "execution_count": 20,
   "id": "19ce9c17",
   "metadata": {},
   "outputs": [],
   "source": [
    "arr=arr.reshape(12) # 1 dim"
   ]
  },
  {
   "cell_type": "code",
   "execution_count": 21,
   "id": "bceadca0",
   "metadata": {},
   "outputs": [
    {
     "data": {
      "text/plain": [
       "array([43, 20, 48,  6, 24, 41,  7,  2, 31,  4, 40, 25])"
      ]
     },
     "execution_count": 21,
     "metadata": {},
     "output_type": "execute_result"
    }
   ],
   "source": [
    "arr"
   ]
  },
  {
   "cell_type": "code",
   "execution_count": 22,
   "id": "46004de2",
   "metadata": {},
   "outputs": [],
   "source": [
    "arr=arr.reshape(2,2,3) # 3 dim array"
   ]
  },
  {
   "cell_type": "code",
   "execution_count": 23,
   "id": "3b17031f",
   "metadata": {},
   "outputs": [
    {
     "data": {
      "text/plain": [
       "array([[[43, 20, 48],\n",
       "        [ 6, 24, 41]],\n",
       "\n",
       "       [[ 7,  2, 31],\n",
       "        [ 4, 40, 25]]])"
      ]
     },
     "execution_count": 23,
     "metadata": {},
     "output_type": "execute_result"
    }
   ],
   "source": [
    "arr"
   ]
  },
  {
   "cell_type": "code",
   "execution_count": 24,
   "id": "6cea9aa0",
   "metadata": {},
   "outputs": [
    {
     "data": {
      "text/plain": [
       "3"
      ]
     },
     "execution_count": 24,
     "metadata": {},
     "output_type": "execute_result"
    }
   ],
   "source": [
    "arr.ndim"
   ]
  },
  {
   "cell_type": "code",
   "execution_count": 25,
   "id": "79d81b95",
   "metadata": {},
   "outputs": [],
   "source": [
    "a=arr"
   ]
  },
  {
   "cell_type": "code",
   "execution_count": 26,
   "id": "b9168a71",
   "metadata": {},
   "outputs": [
    {
     "data": {
      "text/plain": [
       "array([[[43, 20, 48],\n",
       "        [ 6, 24, 41]],\n",
       "\n",
       "       [[ 7,  2, 31],\n",
       "        [ 4, 40, 25]]])"
      ]
     },
     "execution_count": 26,
     "metadata": {},
     "output_type": "execute_result"
    }
   ],
   "source": [
    "a"
   ]
  },
  {
   "cell_type": "code",
   "execution_count": 27,
   "id": "c8108a5a",
   "metadata": {},
   "outputs": [],
   "source": [
    "a=a.reshape(2,-1)# convert to 2D array -1 says system to calculate size of column"
   ]
  },
  {
   "cell_type": "code",
   "execution_count": 28,
   "id": "88b17ab1",
   "metadata": {},
   "outputs": [
    {
     "data": {
      "text/plain": [
       "array([[43, 20, 48,  6, 24, 41],\n",
       "       [ 7,  2, 31,  4, 40, 25]])"
      ]
     },
     "execution_count": 28,
     "metadata": {},
     "output_type": "execute_result"
    }
   ],
   "source": [
    "a"
   ]
  },
  {
   "cell_type": "code",
   "execution_count": 30,
   "id": "86cc2f3f",
   "metadata": {},
   "outputs": [],
   "source": [
    "a=a.reshape(-1,4)# convert to 2D array -1 says system to calculate size of rows"
   ]
  },
  {
   "cell_type": "code",
   "execution_count": 31,
   "id": "1c49468e",
   "metadata": {},
   "outputs": [
    {
     "data": {
      "text/plain": [
       "array([[43, 20, 48,  6],\n",
       "       [24, 41,  7,  2],\n",
       "       [31,  4, 40, 25]])"
      ]
     },
     "execution_count": 31,
     "metadata": {},
     "output_type": "execute_result"
    }
   ],
   "source": [
    "a"
   ]
  },
  {
   "cell_type": "code",
   "execution_count": 32,
   "id": "09a7ef23",
   "metadata": {},
   "outputs": [
    {
     "data": {
      "text/plain": [
       "(3, 4)"
      ]
     },
     "execution_count": 32,
     "metadata": {},
     "output_type": "execute_result"
    }
   ],
   "source": [
    "a.shape"
   ]
  },
  {
   "cell_type": "code",
   "execution_count": null,
   "id": "d14f3d21",
   "metadata": {},
   "outputs": [],
   "source": []
  }
 ],
 "metadata": {
  "kernelspec": {
   "display_name": "Python 3 (ipykernel)",
   "language": "python",
   "name": "python3"
  },
  "language_info": {
   "codemirror_mode": {
    "name": "ipython",
    "version": 3
   },
   "file_extension": ".py",
   "mimetype": "text/x-python",
   "name": "python",
   "nbconvert_exporter": "python",
   "pygments_lexer": "ipython3",
   "version": "3.9.12"
  }
 },
 "nbformat": 4,
 "nbformat_minor": 5
}

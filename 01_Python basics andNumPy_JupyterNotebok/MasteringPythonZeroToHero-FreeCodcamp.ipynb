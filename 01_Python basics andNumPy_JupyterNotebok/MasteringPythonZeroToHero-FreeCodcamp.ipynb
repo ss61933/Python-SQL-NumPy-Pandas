{
 "cells": [
  {
   "cell_type": "markdown",
   "id": "2c0b0ac7",
   "metadata": {},
   "source": [
    "# Python Tutorial-Variables"
   ]
  },
  {
   "cell_type": "code",
   "execution_count": 11,
   "id": "7ca68345",
   "metadata": {},
   "outputs": [
    {
     "name": "stdout",
     "output_type": "stream",
     "text": [
      "First program-Variables\n"
     ]
    }
   ],
   "source": [
    "print(\"First program-Variables\")"
   ]
  },
  {
   "cell_type": "code",
   "execution_count": 5,
   "id": "43e3687c",
   "metadata": {},
   "outputs": [],
   "source": [
    "x=2"
   ]
  },
  {
   "cell_type": "code",
   "execution_count": 6,
   "id": "2e8d0fa5",
   "metadata": {},
   "outputs": [
    {
     "name": "stdout",
     "output_type": "stream",
     "text": [
      "2\n"
     ]
    }
   ],
   "source": [
    "print(x)"
   ]
  },
  {
   "cell_type": "code",
   "execution_count": 7,
   "id": "5cae5f39",
   "metadata": {},
   "outputs": [
    {
     "name": "stdout",
     "output_type": "stream",
     "text": [
      "<class 'int'>\n"
     ]
    }
   ],
   "source": [
    "print(type(x))"
   ]
  },
  {
   "cell_type": "code",
   "execution_count": 8,
   "id": "e4116adf",
   "metadata": {},
   "outputs": [],
   "source": [
    "a,b=4,5.2"
   ]
  },
  {
   "cell_type": "code",
   "execution_count": 9,
   "id": "decb2bb3",
   "metadata": {},
   "outputs": [
    {
     "name": "stdout",
     "output_type": "stream",
     "text": [
      "5.2\n"
     ]
    }
   ],
   "source": [
    "print(b)"
   ]
  },
  {
   "cell_type": "code",
   "execution_count": 10,
   "id": "24274d1e",
   "metadata": {},
   "outputs": [
    {
     "name": "stdout",
     "output_type": "stream",
     "text": [
      "<class 'float'>\n"
     ]
    }
   ],
   "source": [
    "print(type(b))"
   ]
  },
  {
   "cell_type": "code",
   "execution_count": 12,
   "id": "7c7b331e",
   "metadata": {},
   "outputs": [],
   "source": [
    "s=\"hello\""
   ]
  },
  {
   "cell_type": "code",
   "execution_count": 13,
   "id": "3844cc3e",
   "metadata": {},
   "outputs": [
    {
     "data": {
      "text/plain": [
       "str"
      ]
     },
     "execution_count": 13,
     "metadata": {},
     "output_type": "execute_result"
    }
   ],
   "source": [
    "type(s)"
   ]
  },
  {
   "cell_type": "code",
   "execution_count": 14,
   "id": "7d001cc2",
   "metadata": {},
   "outputs": [
    {
     "name": "stdout",
     "output_type": "stream",
     "text": [
      "<class 'str'>\n"
     ]
    }
   ],
   "source": [
    "print(type(s))"
   ]
  },
  {
   "cell_type": "code",
   "execution_count": 17,
   "id": "6605f011",
   "metadata": {},
   "outputs": [],
   "source": [
    "S2=\"12\""
   ]
  },
  {
   "cell_type": "code",
   "execution_count": 18,
   "id": "b335c546",
   "metadata": {},
   "outputs": [
    {
     "name": "stdout",
     "output_type": "stream",
     "text": [
      "12\n"
     ]
    }
   ],
   "source": [
    "print(S2)"
   ]
  },
  {
   "cell_type": "code",
   "execution_count": 20,
   "id": "7a95dece",
   "metadata": {},
   "outputs": [
    {
     "name": "stdout",
     "output_type": "stream",
     "text": [
      "<class 'str'>\n"
     ]
    }
   ],
   "source": [
    "print(type(S2))"
   ]
  },
  {
   "cell_type": "code",
   "execution_count": 22,
   "id": "9e115b72",
   "metadata": {},
   "outputs": [],
   "source": [
    "del S2"
   ]
  },
  {
   "cell_type": "code",
   "execution_count": 23,
   "id": "1bc39a0f",
   "metadata": {},
   "outputs": [
    {
     "ename": "NameError",
     "evalue": "name 'S2' is not defined",
     "output_type": "error",
     "traceback": [
      "\u001b[1;31m---------------------------------------------------------------------------\u001b[0m",
      "\u001b[1;31mNameError\u001b[0m                                 Traceback (most recent call last)",
      "Input \u001b[1;32mIn [23]\u001b[0m, in \u001b[0;36m<cell line: 1>\u001b[1;34m()\u001b[0m\n\u001b[1;32m----> 1\u001b[0m \u001b[38;5;28mprint\u001b[39m(\u001b[43mS2\u001b[49m)\n",
      "\u001b[1;31mNameError\u001b[0m: name 'S2' is not defined"
     ]
    }
   ],
   "source": [
    "print(S2)"
   ]
  },
  {
   "cell_type": "code",
   "execution_count": 24,
   "id": "761b472f",
   "metadata": {},
   "outputs": [
    {
     "name": "stdout",
     "output_type": "stream",
     "text": [
      "Variable   Type     Data/Info\n",
      "-----------------------------\n",
      "a          int      4\n",
      "b          float    5.2\n",
      "s          str      hello\n",
      "x          int      2\n"
     ]
    }
   ],
   "source": [
    "%whos"
   ]
  },
  {
   "cell_type": "code",
   "execution_count": 34,
   "id": "bb8adaa7",
   "metadata": {},
   "outputs": [
    {
     "ename": "NameError",
     "evalue": "name 'a' is not defined",
     "output_type": "error",
     "traceback": [
      "\u001b[1;31m---------------------------------------------------------------------------\u001b[0m",
      "\u001b[1;31mNameError\u001b[0m                                 Traceback (most recent call last)",
      "Input \u001b[1;32mIn [34]\u001b[0m, in \u001b[0;36m<cell line: 1>\u001b[1;34m()\u001b[0m\n\u001b[1;32m----> 1\u001b[0m \u001b[38;5;28mprint\u001b[39m(\u001b[43ma\u001b[49m)\n",
      "\u001b[1;31mNameError\u001b[0m: name 'a' is not defined"
     ]
    }
   ],
   "source": [
    "print(a)"
   ]
  },
  {
   "cell_type": "markdown",
   "id": "a556f8f9",
   "metadata": {},
   "source": [
    "# operators"
   ]
  },
  {
   "cell_type": "code",
   "execution_count": 35,
   "id": "93eef0ae",
   "metadata": {},
   "outputs": [],
   "source": [
    "a=2+4"
   ]
  },
  {
   "cell_type": "code",
   "execution_count": 36,
   "id": "a0c3ac53",
   "metadata": {},
   "outputs": [
    {
     "name": "stdout",
     "output_type": "stream",
     "text": [
      "6\n"
     ]
    }
   ],
   "source": [
    "print(a)"
   ]
  },
  {
   "cell_type": "code",
   "execution_count": 37,
   "id": "02a22f34",
   "metadata": {},
   "outputs": [],
   "source": [
    "b=4**2"
   ]
  },
  {
   "cell_type": "code",
   "execution_count": 38,
   "id": "88f9d90a",
   "metadata": {},
   "outputs": [
    {
     "name": "stdout",
     "output_type": "stream",
     "text": [
      "16\n"
     ]
    }
   ],
   "source": [
    "print(b)"
   ]
  },
  {
   "cell_type": "code",
   "execution_count": 39,
   "id": "48f5c0a9",
   "metadata": {},
   "outputs": [
    {
     "name": "stdout",
     "output_type": "stream",
     "text": [
      "3.3333333333333335\n"
     ]
    }
   ],
   "source": [
    "print(10/3)"
   ]
  },
  {
   "cell_type": "code",
   "execution_count": 40,
   "id": "771b07c7",
   "metadata": {},
   "outputs": [
    {
     "name": "stdout",
     "output_type": "stream",
     "text": [
      "3\n"
     ]
    }
   ],
   "source": [
    "print(10//3)"
   ]
  },
  {
   "cell_type": "code",
   "execution_count": 41,
   "id": "e0914123",
   "metadata": {},
   "outputs": [
    {
     "name": "stdout",
     "output_type": "stream",
     "text": [
      "1\n"
     ]
    }
   ],
   "source": [
    "print(10%3)"
   ]
  },
  {
   "cell_type": "code",
   "execution_count": 42,
   "id": "eb4e3a0a",
   "metadata": {},
   "outputs": [
    {
     "name": "stdout",
     "output_type": "stream",
     "text": [
      "1.1111111111111112\n"
     ]
    }
   ],
   "source": [
    "print(10/9)"
   ]
  },
  {
   "cell_type": "code",
   "execution_count": 43,
   "id": "bbe7d6b1",
   "metadata": {},
   "outputs": [
    {
     "name": "stdout",
     "output_type": "stream",
     "text": [
      "1\n"
     ]
    }
   ],
   "source": [
    "print(10//9)"
   ]
  },
  {
   "cell_type": "code",
   "execution_count": 44,
   "id": "eb83fbf2",
   "metadata": {},
   "outputs": [
    {
     "name": "stdout",
     "output_type": "stream",
     "text": [
      "hi\n"
     ]
    }
   ],
   "source": [
    "print(\"h\"+\"i\")"
   ]
  },
  {
   "cell_type": "code",
   "execution_count": null,
   "id": "f22a0bb4",
   "metadata": {},
   "outputs": [],
   "source": []
  }
 ],
 "metadata": {
  "kernelspec": {
   "display_name": "Python 3 (ipykernel)",
   "language": "python",
   "name": "python3"
  },
  "language_info": {
   "codemirror_mode": {
    "name": "ipython",
    "version": 3
   },
   "file_extension": ".py",
   "mimetype": "text/x-python",
   "name": "python",
   "nbconvert_exporter": "python",
   "pygments_lexer": "ipython3",
   "version": "3.9.12"
  }
 },
 "nbformat": 4,
 "nbformat_minor": 5
}

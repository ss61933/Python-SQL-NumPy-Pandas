{
 "cells": [
  {
   "cell_type": "code",
   "execution_count": 1,
   "id": "a7dd320e",
   "metadata": {},
   "outputs": [],
   "source": [
    "import numpy as np"
   ]
  },
  {
   "cell_type": "code",
   "execution_count": 2,
   "id": "db0c40e2",
   "metadata": {},
   "outputs": [],
   "source": [
    "data=np.loadtxt(\"D:\\Swapnil-D drive\\Study\\Python\\Python_NumPy_dataset\\even_no.txt\")"
   ]
  },
  {
   "cell_type": "code",
   "execution_count": 3,
   "id": "8d4a6a8e",
   "metadata": {},
   "outputs": [
    {
     "name": "stdout",
     "output_type": "stream",
     "text": [
      "[[ 2.  4.  6.  8. 10.]\n",
      " [12. 14. 16. 18. 20.]\n",
      " [22. 24. 26. 28. 30.]\n",
      " [32. 34. 36. 38. 40.]\n",
      " [42. 44. 46. 48. 50.]]\n"
     ]
    }
   ],
   "source": [
    "print(data)"
   ]
  },
  {
   "cell_type": "code",
   "execution_count": 4,
   "id": "40b15582",
   "metadata": {},
   "outputs": [
    {
     "name": "stdout",
     "output_type": "stream",
     "text": [
      "<class 'numpy.ndarray'>\n"
     ]
    }
   ],
   "source": [
    "print(type(data))"
   ]
  },
  {
   "cell_type": "code",
   "execution_count": 5,
   "id": "346097a9",
   "metadata": {},
   "outputs": [
    {
     "data": {
      "text/plain": [
       "dtype('float64')"
      ]
     },
     "execution_count": 5,
     "metadata": {},
     "output_type": "execute_result"
    }
   ],
   "source": [
    "data.dtype"
   ]
  },
  {
   "cell_type": "code",
   "execution_count": 12,
   "id": "1f69ed05",
   "metadata": {},
   "outputs": [],
   "source": [
    "#convertto in \n",
    "data=np.loadtxt(\"D:\\Swapnil-D drive\\Study\\Python\\Python_NumPy_dataset\\even_no.txt\",dtype=int,skiprows=0,usecols=(1,3))\n",
    "#use skip row to skip the header"
   ]
  },
  {
   "cell_type": "code",
   "execution_count": 13,
   "id": "7da2fe51",
   "metadata": {},
   "outputs": [
    {
     "name": "stdout",
     "output_type": "stream",
     "text": [
      "[[ 4  8]\n",
      " [14 18]\n",
      " [24 28]\n",
      " [34 38]\n",
      " [44 48]]\n"
     ]
    }
   ],
   "source": [
    "print(data)"
   ]
  },
  {
   "cell_type": "code",
   "execution_count": 14,
   "id": "2daff274",
   "metadata": {},
   "outputs": [],
   "source": [
    "data=np.loadtxt(\"D:\\Swapnil-D drive\\Study\\Python\\Python_NumPy_dataset\\even_no.txt\",dtype=int,skiprows=0,usecols=(0))"
   ]
  },
  {
   "cell_type": "code",
   "execution_count": 15,
   "id": "aa7bd71b",
   "metadata": {},
   "outputs": [
    {
     "data": {
      "text/plain": [
       "array([ 2, 12, 22, 32, 42])"
      ]
     },
     "execution_count": 15,
     "metadata": {},
     "output_type": "execute_result"
    }
   ],
   "source": [
    "data"
   ]
  },
  {
   "cell_type": "code",
   "execution_count": 19,
   "id": "fd43f890",
   "metadata": {},
   "outputs": [],
   "source": [
    "# ifwe want in string form\n",
    "data=np.loadtxt(\"D:\\Swapnil-D drive\\Study\\Python\\Python_NumPy_dataset\\even_no.txt\",dtype=str,usecols=(0))"
   ]
  },
  {
   "cell_type": "code",
   "execution_count": 20,
   "id": "156aafad",
   "metadata": {},
   "outputs": [
    {
     "data": {
      "text/plain": [
       "array(['2', '12', '22', '32', '42'], dtype='<U2')"
      ]
     },
     "execution_count": 20,
     "metadata": {},
     "output_type": "execute_result"
    }
   ],
   "source": [
    "data"
   ]
  },
  {
   "cell_type": "code",
   "execution_count": 29,
   "id": "95164a23",
   "metadata": {},
   "outputs": [],
   "source": [
    "#Laod csv file\n",
    "datacsv=np.loadtxt(\"D:\\Swapnil-D drive\\Study\\Python\\Python_NumPy_dataset\\data_csv.csv\",delimiter=',')"
   ]
  },
  {
   "cell_type": "code",
   "execution_count": 27,
   "id": "3a6a63f2",
   "metadata": {},
   "outputs": [
    {
     "data": {
      "text/plain": [
       "array([[ 1.,  2.,  3.,  4.,  5.],\n",
       "       [ 2., 21., 23., 24., 25.],\n",
       "       [ 3., 31., 32., 33., 34.],\n",
       "       [ 4., 41., 42., 43., 44.]])"
      ]
     },
     "execution_count": 27,
     "metadata": {},
     "output_type": "execute_result"
    }
   ],
   "source": [
    "datacsv"
   ]
  },
  {
   "cell_type": "code",
   "execution_count": 31,
   "id": "b399cfbd",
   "metadata": {},
   "outputs": [
    {
     "data": {
      "text/plain": [
       "(4, 5)"
      ]
     },
     "execution_count": 31,
     "metadata": {},
     "output_type": "execute_result"
    }
   ],
   "source": [
    "datacsv.shape # size of array"
   ]
  },
  {
   "cell_type": "code",
   "execution_count": 32,
   "id": "75069303",
   "metadata": {},
   "outputs": [
    {
     "data": {
      "text/plain": [
       "array([[ 2.,  3.,  4.,  5.],\n",
       "       [21., 23., 24., 25.],\n",
       "       [31., 32., 33., 34.],\n",
       "       [41., 42., 43., 44.]])"
      ]
     },
     "execution_count": 32,
     "metadata": {},
     "output_type": "execute_result"
    }
   ],
   "source": [
    "#Assume first column is id and we dont want it \n",
    "datacsv[:,1:]"
   ]
  },
  {
   "cell_type": "code",
   "execution_count": 35,
   "id": "12060946",
   "metadata": {},
   "outputs": [],
   "source": [
    "#when we have nullvalues indata set \n",
    "datacsv=np.loadtxt(\"D:\\Swapnil-D drive\\Study\\Python\\Python_NumPy_dataset\\data_csv_with_null.csv\",delimiter=',')"
   ]
  },
  {
   "cell_type": "code",
   "execution_count": 36,
   "id": "b1e8f2fa",
   "metadata": {},
   "outputs": [
    {
     "data": {
      "text/plain": [
       "array([[ 1.,  2.,  3.,  4.,  5.],\n",
       "       [ 2., 21., 23.,  0., 25.],\n",
       "       [ 3., 31.,  0., 33., 34.],\n",
       "       [ 4., 41., 42.,  0.,  0.]])"
      ]
     },
     "execution_count": 36,
     "metadata": {},
     "output_type": "execute_result"
    }
   ],
   "source": [
    "datacsv #Null values are replaced with zeros"
   ]
  },
  {
   "cell_type": "code",
   "execution_count": 49,
   "id": "46027e0d",
   "metadata": {},
   "outputs": [],
   "source": [
    "\n",
    "datacsv=np.genfromtxt(\"D:\\Swapnil-D drive\\Study\\Python\\Python_NumPy_dataset\\data_csv_with_null.csv\",delimiter=',')"
   ]
  },
  {
   "cell_type": "code",
   "execution_count": 50,
   "id": "c1ec9f2e",
   "metadata": {},
   "outputs": [
    {
     "data": {
      "text/plain": [
       "array([[ 1.,  2.,  3.,  4.,  5.],\n",
       "       [ 2., 21., 23., nan, 25.],\n",
       "       [ 3., 31., nan, 33., 34.],\n",
       "       [ 4., 41., 42., nan, nan]])"
      ]
     },
     "execution_count": 50,
     "metadata": {},
     "output_type": "execute_result"
    }
   ],
   "source": [
    "datacsv  #here u can see null values are shown as nan"
   ]
  },
  {
   "cell_type": "code",
   "execution_count": 51,
   "id": "ca92854c",
   "metadata": {},
   "outputs": [],
   "source": [
    "datacsv=np.genfromtxt(\"D:\\Swapnil-D drive\\Study\\Python\\Python_NumPy_dataset\\data_csv_with_null.csv\",delimiter=',', filling_values=10)"
   ]
  },
  {
   "cell_type": "code",
   "execution_count": 54,
   "id": "1c5fd91e",
   "metadata": {},
   "outputs": [
    {
     "data": {
      "text/plain": [
       "array([[ 1.,  2.,  3.,  4.,  5.],\n",
       "       [ 2., 21., 23., 10., 25.],\n",
       "       [ 3., 31., 10., 33., 34.],\n",
       "       [ 4., 41., 42., 10., 10.]])"
      ]
     },
     "execution_count": 54,
     "metadata": {},
     "output_type": "execute_result"
    }
   ],
   "source": [
    " # we can fill he missing values as mentioned above \n",
    "datacsv"
   ]
  },
  {
   "cell_type": "code",
   "execution_count": 60,
   "id": "fdee93eb",
   "metadata": {},
   "outputs": [],
   "source": [
    "#user can mention missingvalues as a ? which you want to replace it with zero\n",
    "datacsv=np.genfromtxt(\"D:\\Swapnil-D drive\\Study\\Python\\Python_NumPy_dataset\\data_csv_with_null_1.csv\",delimiter=',', missing_values='?',filling_values=10)"
   ]
  },
  {
   "cell_type": "code",
   "execution_count": 61,
   "id": "a59d735d",
   "metadata": {},
   "outputs": [
    {
     "data": {
      "text/plain": [
       "array([[ 1.,  2.,  3.,  4.,  5.],\n",
       "       [ 2., 21., 23., 24., 25.],\n",
       "       [ 3., 31., 32., 33., 34.],\n",
       "       [ 4., 41., 42., 10., 10.]])"
      ]
     },
     "execution_count": 61,
     "metadata": {},
     "output_type": "execute_result"
    }
   ],
   "source": [
    "datacsv"
   ]
  },
  {
   "cell_type": "code",
   "execution_count": 62,
   "id": "3ec961eb",
   "metadata": {},
   "outputs": [],
   "source": [
    "#so null as wellas missing values are replaced with 10\n",
    "#missing_values work with int only "
   ]
  },
  {
   "cell_type": "code",
   "execution_count": 63,
   "id": "275f4401",
   "metadata": {},
   "outputs": [],
   "source": [
    "##############Types of files Pthon handles - Binary or Text \n",
    "## Binary files are oher than txt like video , image etc\n",
    "#File operations - CRUD (Create,read,update,delete) and others like copy share etc\n"
   ]
  },
  {
   "cell_type": "code",
   "execution_count": 65,
   "id": "2d1b36b5",
   "metadata": {},
   "outputs": [],
   "source": [
    "# OPenfile - open(filename,mode)\n",
    "# mode -Read,append,wirte,correct , if it doesnot exists then it creates the file"
   ]
  },
  {
   "cell_type": "code",
   "execution_count": 66,
   "id": "3f75b63b",
   "metadata": {},
   "outputs": [],
   "source": [
    "dopen= open(\"D:\\Swapnil-D drive\\Study\\Python\\Python_NumPy_dataset\\data_csv.csv\")"
   ]
  },
  {
   "cell_type": "code",
   "execution_count": 67,
   "id": "2b1b3429",
   "metadata": {},
   "outputs": [
    {
     "data": {
      "text/plain": [
       "<_io.TextIOWrapper name='D:\\\\Swapnil-D drive\\\\Study\\\\Python\\\\Python_NumPy_dataset\\\\data_csv.csv' mode='r' encoding='cp1252'>"
      ]
     },
     "execution_count": 67,
     "metadata": {},
     "output_type": "execute_result"
    }
   ],
   "source": [
    "dopen"
   ]
  },
  {
   "cell_type": "code",
   "execution_count": 68,
   "id": "7770c1bd",
   "metadata": {},
   "outputs": [
    {
     "name": "stdout",
     "output_type": "stream",
     "text": [
      "1,2,3,4,5\n",
      "2,21,23,24,25\n",
      "3,31,32,33,34\n",
      "4,41,42,43,44\n",
      "\n"
     ]
    }
   ],
   "source": [
    "print(dopen.read())"
   ]
  },
  {
   "cell_type": "code",
   "execution_count": 77,
   "id": "c89c4146",
   "metadata": {},
   "outputs": [
    {
     "name": "stdout",
     "output_type": "stream",
     "text": [
      "1,2,3,4,5\n",
      "2,21,23,24\n"
     ]
    }
   ],
   "source": [
    "dopen= open(\"D:\\Swapnil-D drive\\Study\\Python\\Python_NumPy_dataset\\data_csv.csv\")\n",
    "print (dopen.read(20)) # read first 20 chars"
   ]
  },
  {
   "cell_type": "code",
   "execution_count": 78,
   "id": "f85140e3",
   "metadata": {},
   "outputs": [],
   "source": [
    "dopen.close()"
   ]
  },
  {
   "cell_type": "code",
   "execution_count": 79,
   "id": "9c12c2c9",
   "metadata": {},
   "outputs": [
    {
     "data": {
      "text/plain": [
       "<_io.TextIOWrapper name='D:\\\\Swapnil-D drive\\\\Study\\\\Python\\\\Python_NumPy_dataset\\\\data_csv.csv' mode='r' encoding='cp1252'>"
      ]
     },
     "execution_count": 79,
     "metadata": {},
     "output_type": "execute_result"
    }
   ],
   "source": [
    "dopen"
   ]
  },
  {
   "cell_type": "code",
   "execution_count": 81,
   "id": "7b7887f9",
   "metadata": {},
   "outputs": [
    {
     "ename": "ValueError",
     "evalue": "I/O operation on closed file.",
     "output_type": "error",
     "traceback": [
      "\u001b[1;31m---------------------------------------------------------------------------\u001b[0m",
      "\u001b[1;31mValueError\u001b[0m                                Traceback (most recent call last)",
      "Input \u001b[1;32mIn [81]\u001b[0m, in \u001b[0;36m<cell line: 1>\u001b[1;34m()\u001b[0m\n\u001b[1;32m----> 1\u001b[0m \u001b[38;5;28mprint\u001b[39m(\u001b[43mdopen\u001b[49m\u001b[38;5;241;43m.\u001b[39;49m\u001b[43mreadlines\u001b[49m\u001b[43m(\u001b[49m\u001b[43m)\u001b[49m)\n",
      "\u001b[1;31mValueError\u001b[0m: I/O operation on closed file."
     ]
    }
   ],
   "source": [
    "print(dopen.readlines())"
   ]
  },
  {
   "cell_type": "code",
   "execution_count": 92,
   "id": "879254f8",
   "metadata": {},
   "outputs": [],
   "source": [
    "dopen= open(\"D:\\Swapnil-D drive\\Study\\Python\\Python_NumPy_dataset\\data_csv.csv\")"
   ]
  },
  {
   "cell_type": "code",
   "execution_count": 93,
   "id": "2a0da715",
   "metadata": {},
   "outputs": [
    {
     "name": "stdout",
     "output_type": "stream",
     "text": [
      "['1,2,3,4,5\\n', '2,21,23,24,25\\n', '3,31,32,33,34\\n', '4,41,42,43,44\\n']\n"
     ]
    }
   ],
   "source": [
    "print(dopen.readlines())"
   ]
  },
  {
   "cell_type": "code",
   "execution_count": 100,
   "id": "f3f780fd",
   "metadata": {},
   "outputs": [
    {
     "name": "stdout",
     "output_type": "stream",
     "text": [
      "['1,2,3,4,5\\n', '2,21,23,24,25\\n']\n",
      "3,31,32,33\n"
     ]
    }
   ],
   "source": [
    "dopen= open(\"D:\\Swapnil-D drive\\Study\\Python\\Python_NumPy_dataset\\data_csv.csv\")\n",
    "print(dopen.readlines(10))\n",
    "print(dopen.readline(10))"
   ]
  },
  {
   "cell_type": "code",
   "execution_count": 101,
   "id": "f97d9a09",
   "metadata": {},
   "outputs": [
    {
     "name": "stdout",
     "output_type": "stream",
     "text": [
      "2,21,23,24,25\n",
      "\n",
      "4,41,42,43,44\n",
      "\n"
     ]
    }
   ],
   "source": [
    "dopen= open(\"D:\\Swapnil-D drive\\Study\\Python\\Python_NumPy_dataset\\data_csv.csv\")\n",
    "for line in dopen:\n",
    "    print(dopen.readline())"
   ]
  },
  {
   "cell_type": "code",
   "execution_count": 107,
   "id": "0851b254",
   "metadata": {},
   "outputs": [],
   "source": [
    "dopen=open(\"D:\\Swapnil-D drive\\Study\\Python\\Python_NumPy_dataset\\data_write_append.txt\",'w')"
   ]
  },
  {
   "cell_type": "code",
   "execution_count": 108,
   "id": "04709de4",
   "metadata": {},
   "outputs": [
    {
     "data": {
      "text/plain": [
       "21"
      ]
     },
     "execution_count": 108,
     "metadata": {},
     "output_type": "execute_result"
    }
   ],
   "source": [
    "dopen.write(\"This is my first line\")"
   ]
  },
  {
   "cell_type": "code",
   "execution_count": 109,
   "id": "fd711e8b",
   "metadata": {},
   "outputs": [],
   "source": [
    "dopen.close()"
   ]
  },
  {
   "cell_type": "code",
   "execution_count": 114,
   "id": "2a66ebf3",
   "metadata": {},
   "outputs": [],
   "source": [
    "dopen=open(\"D:\\Swapnil-D drive\\Study\\Python\\Python_NumPy_dataset\\data_write_append.txt\",'w')"
   ]
  },
  {
   "cell_type": "code",
   "execution_count": 115,
   "id": "3a378c31",
   "metadata": {},
   "outputs": [],
   "source": [
    "dopen.write(\"Hello world\")\n",
    "dopen.close() ## This will overrride , what if we want to append"
   ]
  },
  {
   "cell_type": "code",
   "execution_count": 125,
   "id": "87f8bb56",
   "metadata": {},
   "outputs": [],
   "source": [
    "dopen=open(\"D:\\Swapnil-D drive\\Study\\Python\\Python_NumPy_dataset\\data_write_append.txt\",'a')"
   ]
  },
  {
   "cell_type": "code",
   "execution_count": 126,
   "id": "1887b8fd",
   "metadata": {},
   "outputs": [
    {
     "data": {
      "text/plain": [
       "18"
      ]
     },
     "execution_count": 126,
     "metadata": {},
     "output_type": "execute_result"
    }
   ],
   "source": [
    "dopen.write(\" Append this text \")"
   ]
  },
  {
   "cell_type": "code",
   "execution_count": 127,
   "id": "003b0440",
   "metadata": {},
   "outputs": [],
   "source": [
    "dopen.close()"
   ]
  },
  {
   "cell_type": "code",
   "execution_count": 128,
   "id": "3d953f7f",
   "metadata": {},
   "outputs": [],
   "source": [
    "dopen=open(\"D:\\Swapnil-D drive\\Study\\Python\\Python_NumPy_dataset\\data_write_append.txt\",'a')"
   ]
  },
  {
   "cell_type": "code",
   "execution_count": 129,
   "id": "4273d088",
   "metadata": {},
   "outputs": [
    {
     "data": {
      "text/plain": [
       "14"
      ]
     },
     "execution_count": 129,
     "metadata": {},
     "output_type": "execute_result"
    }
   ],
   "source": [
    "dopen.write(\"writing to ile\")"
   ]
  },
  {
   "cell_type": "code",
   "execution_count": 131,
   "id": "8125b670",
   "metadata": {},
   "outputs": [],
   "source": [
    "dopen.close()"
   ]
  },
  {
   "cell_type": "code",
   "execution_count": 132,
   "id": "505779f9",
   "metadata": {},
   "outputs": [],
   "source": [
    "#creating a new file \n",
    "dopen=open(\"D:\\Swapnil-D drive\\Study\\Python\\Python_NumPy_dataset\\data_newFile.txt\",'x')\n"
   ]
  },
  {
   "cell_type": "code",
   "execution_count": 136,
   "id": "306d7698",
   "metadata": {},
   "outputs": [
    {
     "ename": "ValueError",
     "evalue": "I/O operation on closed file.",
     "output_type": "error",
     "traceback": [
      "\u001b[1;31m---------------------------------------------------------------------------\u001b[0m",
      "\u001b[1;31mValueError\u001b[0m                                Traceback (most recent call last)",
      "Input \u001b[1;32mIn [136]\u001b[0m, in \u001b[0;36m<cell line: 1>\u001b[1;34m()\u001b[0m\n\u001b[1;32m----> 1\u001b[0m \u001b[43mdopen\u001b[49m\u001b[38;5;241;43m.\u001b[39;49m\u001b[43mwrite\u001b[49m\u001b[43m(\u001b[49m\u001b[38;5;124;43m\"\u001b[39;49m\u001b[38;5;124;43mHi\u001b[39;49m\u001b[38;5;124;43m\"\u001b[39;49m\u001b[43m)\u001b[49m\n",
      "\u001b[1;31mValueError\u001b[0m: I/O operation on closed file."
     ]
    }
   ],
   "source": [
    "dopen.write(\"Hi\") # if u try to create same file again, file exists error will occur"
   ]
  },
  {
   "cell_type": "code",
   "execution_count": 135,
   "id": "84b83bb6",
   "metadata": {},
   "outputs": [],
   "source": [
    "dopen.close()"
   ]
  },
  {
   "cell_type": "code",
   "execution_count": 137,
   "id": "7c93d0d2",
   "metadata": {},
   "outputs": [],
   "source": [
    "#deleting a file\n",
    "import os\n",
    "os.remove(\"D:\\Swapnil-D drive\\Study\\Python\\Python_NumPy_dataset\\data_newFile.txt\")"
   ]
  },
  {
   "cell_type": "code",
   "execution_count": 138,
   "id": "417f9a67",
   "metadata": {},
   "outputs": [],
   "source": [
    "#validate before delete"
   ]
  },
  {
   "cell_type": "code",
   "execution_count": 142,
   "id": "902e63f5",
   "metadata": {},
   "outputs": [
    {
     "name": "stdout",
     "output_type": "stream",
     "text": [
      "file exists--------\n"
     ]
    }
   ],
   "source": [
    "import os \n",
    "if os.path.exists(\"D:\\Swapnil-D drive\\Study\\Python\\Python_NumPy_dataset\\even_no.txt\"):\n",
    "    print(\"file exists--------\")\n",
    "    os.remove(\"D:\\Swapnil-D drive\\Study\\Python\\Python_NumPy_dataset\\even_no.txt\")\n",
    "else:\n",
    "    print(\"File does not exists\")"
   ]
  },
  {
   "cell_type": "code",
   "execution_count": 143,
   "id": "bc08eab4",
   "metadata": {},
   "outputs": [
    {
     "name": "stdout",
     "output_type": "stream",
     "text": [
      "File does not exists\n"
     ]
    }
   ],
   "source": [
    "import os \n",
    "if os.path.exists(\"D:\\Swapnil-D drive\\Study\\Python\\Python_NumPy_dataset\\even_no.txt\"):\n",
    "    print(\"file exists--------\")\n",
    "    os.remove(\"D:\\Swapnil-D drive\\Study\\Python\\Python_NumPy_dataset\\even_no.txt\")\n",
    "else:\n",
    "    print(\"File does not exists\")"
   ]
  },
  {
   "cell_type": "code",
   "execution_count": null,
   "id": "9e6f679d",
   "metadata": {},
   "outputs": [],
   "source": []
  }
 ],
 "metadata": {
  "kernelspec": {
   "display_name": "Python 3 (ipykernel)",
   "language": "python",
   "name": "python3"
  },
  "language_info": {
   "codemirror_mode": {
    "name": "ipython",
    "version": 3
   },
   "file_extension": ".py",
   "mimetype": "text/x-python",
   "name": "python",
   "nbconvert_exporter": "python",
   "pygments_lexer": "ipython3",
   "version": "3.9.12"
  }
 },
 "nbformat": 4,
 "nbformat_minor": 5
}

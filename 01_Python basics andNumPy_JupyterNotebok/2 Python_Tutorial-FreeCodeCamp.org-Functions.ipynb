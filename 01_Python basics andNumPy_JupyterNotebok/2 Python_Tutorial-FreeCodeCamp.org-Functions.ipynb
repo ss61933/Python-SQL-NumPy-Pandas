{
 "cells": [
  {
   "cell_type": "markdown",
   "id": "817843d1",
   "metadata": {},
   "source": [
    "# Functions in Python"
   ]
  },
  {
   "cell_type": "code",
   "execution_count": 1,
   "id": "1b00b57c",
   "metadata": {},
   "outputs": [
    {
     "name": "stdout",
     "output_type": "stream",
     "text": [
      "--call printsuccess--\n",
      "--Start of the function\n",
      "--end of the function\n",
      "--call printsuccess1--\n",
      "--Start of the function\n",
      "--end of the function\n"
     ]
    }
   ],
   "source": [
    "def printsuccess():\n",
    "    \n",
    "    print(\"--Start of the function\")\n",
    "    print(\"--end of the function\")\n",
    "print(\"--call printsuccess--\")\n",
    "printsuccess()\n",
    "def printsuccess1():    \n",
    "        print(\"--Start of the function\")\n",
    "        print(\"--end of the function\")\n",
    "print(\"--call printsuccess1--\")\n",
    "printsuccess()"
   ]
  },
  {
   "cell_type": "code",
   "execution_count": 2,
   "id": "6e2ad2f9",
   "metadata": {},
   "outputs": [
    {
     "name": "stdout",
     "output_type": "stream",
     "text": [
      "Help on function printsuccess in module __main__:\n",
      "\n",
      "printsuccess()\n",
      "\n"
     ]
    }
   ],
   "source": [
    "help(printsuccess)"
   ]
  },
  {
   "cell_type": "code",
   "execution_count": 3,
   "id": "8b4e7a36",
   "metadata": {},
   "outputs": [],
   "source": [
    "def printSuccess3():\n",
    "    \"\"\" This function is doing nothing except printing a message.\n",
    "    That message is \"hellow\"\n",
    "    \"\"\" \n",
    "    print(\"hellow\")"
   ]
  },
  {
   "cell_type": "code",
   "execution_count": 4,
   "id": "b4032c19",
   "metadata": {},
   "outputs": [
    {
     "name": "stdout",
     "output_type": "stream",
     "text": [
      "Help on function printSuccess3 in module __main__:\n",
      "\n",
      "printSuccess3()\n",
      "    This function is doing nothing except printing a message.\n",
      "    That message is \"hellow\"\n",
      "\n"
     ]
    }
   ],
   "source": [
    "help(printSuccess3)"
   ]
  },
  {
   "cell_type": "code",
   "execution_count": 5,
   "id": "e5cfc73b",
   "metadata": {},
   "outputs": [
    {
     "name": "stdout",
     "output_type": "stream",
     "text": [
      "hellow\n"
     ]
    }
   ],
   "source": [
    "printSuccess3()"
   ]
  },
  {
   "cell_type": "code",
   "execution_count": 6,
   "id": "2bf81cbb",
   "metadata": {},
   "outputs": [],
   "source": [
    "def mypow(a,b):\n",
    "    \"\"\" this function computes power just like builtin pow function\"\"\"\n",
    "    c = a**b\n",
    "    print(c)"
   ]
  },
  {
   "cell_type": "code",
   "execution_count": 18,
   "id": "50e177b9",
   "metadata": {},
   "outputs": [],
   "source": [
    "mypow?"
   ]
  },
  {
   "cell_type": "code",
   "execution_count": 19,
   "id": "1e0644cd",
   "metadata": {},
   "outputs": [
    {
     "name": "stdout",
     "output_type": "stream",
     "text": [
      "4\n"
     ]
    }
   ],
   "source": [
    "mypow(2,2)"
   ]
  },
  {
   "cell_type": "code",
   "execution_count": 9,
   "id": "5a465f2d",
   "metadata": {},
   "outputs": [],
   "source": [
    "def mypow2(a,b):\n",
    "    \"\"\" this function computes power just like builtin pow function\"\"\"\n",
    "    if(a>b):\n",
    "        c = a+b*b\n",
    "    print(c)"
   ]
  },
  {
   "cell_type": "code",
   "execution_count": 10,
   "id": "1487007c",
   "metadata": {},
   "outputs": [],
   "source": [
    "mypow2?"
   ]
  },
  {
   "cell_type": "code",
   "execution_count": 11,
   "id": "4554b7fb",
   "metadata": {},
   "outputs": [
    {
     "name": "stdout",
     "output_type": "stream",
     "text": [
      "7\n"
     ]
    }
   ],
   "source": [
    "mypow2(3,2)"
   ]
  },
  {
   "cell_type": "code",
   "execution_count": 12,
   "id": "435b3c77",
   "metadata": {},
   "outputs": [],
   "source": [
    "def checkArgs(a,b,c):\n",
    "    if isinstance(a,(int,float)) and isinstance(b,(int,float)) and isinstance(c,(int,float)):\n",
    "        print((a+b+c)**2)\n",
    "    else:\n",
    "        print(\"Error: the input arguements are not of the expected types\")"
   ]
  },
  {
   "cell_type": "code",
   "execution_count": 13,
   "id": "50b87bf7",
   "metadata": {},
   "outputs": [
    {
     "name": "stdout",
     "output_type": "stream",
     "text": [
      "144\n"
     ]
    }
   ],
   "source": [
    "checkArgs(3,4,5)"
   ]
  },
  {
   "cell_type": "code",
   "execution_count": 14,
   "id": "235a445c",
   "metadata": {},
   "outputs": [
    {
     "name": "stdout",
     "output_type": "stream",
     "text": [
      "Error: the input arguements are not of the expected types\n"
     ]
    }
   ],
   "source": [
    "checkArgs(3,4,\"g\")"
   ]
  },
  {
   "cell_type": "code",
   "execution_count": 15,
   "id": "14156c56",
   "metadata": {},
   "outputs": [],
   "source": [
    "#input paramters and order of parameters\n",
    "def f(a,b,c):\n",
    "    print(\"A is :\",a)\n",
    "    print(\"B is :\",b)\n",
    "    print(\"C is :\",c)"
   ]
  },
  {
   "cell_type": "code",
   "execution_count": 16,
   "id": "6974447b",
   "metadata": {},
   "outputs": [
    {
     "name": "stdout",
     "output_type": "stream",
     "text": [
      "A is : 1\n",
      "B is : 2\n",
      "C is : 3\n"
     ]
    }
   ],
   "source": [
    "f(1,2,3)"
   ]
  },
  {
   "cell_type": "code",
   "execution_count": 17,
   "id": "50cdbfe7",
   "metadata": {},
   "outputs": [
    {
     "ename": "SyntaxError",
     "evalue": "positional argument follows keyword argument (723503036.py, line 1)",
     "output_type": "error",
     "traceback": [
      "\u001b[1;36m  Input \u001b[1;32mIn [17]\u001b[1;36m\u001b[0m\n\u001b[1;33m    f(c=\"2\",1,3)\u001b[0m\n\u001b[1;37m               ^\u001b[0m\n\u001b[1;31mSyntaxError\u001b[0m\u001b[1;31m:\u001b[0m positional argument follows keyword argument\n"
     ]
    }
   ],
   "source": [
    "f(c=\"2\",1,3)"
   ]
  },
  {
   "cell_type": "code",
   "execution_count": null,
   "id": "cd5ad3d2",
   "metadata": {},
   "outputs": [],
   "source": [
    "f(c=2,a=1,b=3)"
   ]
  },
  {
   "cell_type": "code",
   "execution_count": null,
   "id": "6644e513",
   "metadata": {},
   "outputs": [],
   "source": [
    "def myadd(a,b):\n",
    "    sumValue = a+b\n",
    "    return sumValue"
   ]
  },
  {
   "cell_type": "code",
   "execution_count": null,
   "id": "5103a823",
   "metadata": {},
   "outputs": [],
   "source": [
    "print(myadd(1,2))"
   ]
  },
  {
   "cell_type": "code",
   "execution_count": null,
   "id": "a86d8784",
   "metadata": {},
   "outputs": [],
   "source": [
    "a=myadd(1,2)"
   ]
  },
  {
   "cell_type": "code",
   "execution_count": null,
   "id": "93636564",
   "metadata": {},
   "outputs": [],
   "source": [
    "print(a)"
   ]
  },
  {
   "cell_type": "code",
   "execution_count": null,
   "id": "07e85020",
   "metadata": {},
   "outputs": [],
   "source": [
    "#default return type is none"
   ]
  },
  {
   "cell_type": "code",
   "execution_count": null,
   "id": "ce817282",
   "metadata": {},
   "outputs": [],
   "source": [
    "def g():\n",
    "    variableOutSideTheFunction = 5\n",
    "    #print(variableOutSideTheFunction)"
   ]
  },
  {
   "cell_type": "code",
   "execution_count": null,
   "id": "093d6f05",
   "metadata": {},
   "outputs": [],
   "source": [
    "print(type(g()))"
   ]
  },
  {
   "cell_type": "code",
   "execution_count": null,
   "id": "b2f81b78",
   "metadata": {},
   "outputs": [],
   "source": [
    "#returning multiple values "
   ]
  },
  {
   "cell_type": "code",
   "execution_count": null,
   "id": "3b92d8b4",
   "metadata": {},
   "outputs": [],
   "source": [
    "def r():\n",
    "    a = 5\n",
    "    b = 7\n",
    "    d = \"something\"\n",
    "    return a,b,d"
   ]
  },
  {
   "cell_type": "code",
   "execution_count": null,
   "id": "b4e6174e",
   "metadata": {},
   "outputs": [],
   "source": [
    "x,y,z=r()"
   ]
  },
  {
   "cell_type": "code",
   "execution_count": null,
   "id": "4db5ed33",
   "metadata": {},
   "outputs": [],
   "source": [
    "print(x,y,z)"
   ]
  },
  {
   "cell_type": "code",
   "execution_count": null,
   "id": "33054343",
   "metadata": {},
   "outputs": [],
   "source": [
    "#function with n number of input params \n",
    "def calculate_sum(*args):\n",
    "    s= 0\n",
    "    print(\"---length of input is -\" + str(len(args)))\n",
    "    for i in range(len(args)):\n",
    "        s += args[i] \n",
    "    return s"
   ]
  },
  {
   "cell_type": "code",
   "execution_count": null,
   "id": "74d5250c",
   "metadata": {},
   "outputs": [],
   "source": [
    "op=calculate_sum(1,2,3,4)"
   ]
  },
  {
   "cell_type": "code",
   "execution_count": null,
   "id": "cdf4ffc3",
   "metadata": {},
   "outputs": [],
   "source": [
    "print(op)"
   ]
  },
  {
   "cell_type": "code",
   "execution_count": null,
   "id": "92bc7784",
   "metadata": {},
   "outputs": [],
   "source": [
    "#Function with n number of named parameters\n",
    "def calc(**args):\n",
    "    for i in args:\n",
    "        print(\"Variable name is -\",i,\" and variable value is - \",args[i])"
   ]
  },
  {
   "cell_type": "code",
   "execution_count": null,
   "id": "f91eae12",
   "metadata": {},
   "outputs": [],
   "source": [
    "calc(a=3,b=\"a\",e='')"
   ]
  },
  {
   "cell_type": "code",
   "execution_count": null,
   "id": "adc8f12b",
   "metadata": {},
   "outputs": [],
   "source": [
    "#override input params\n",
    "# defaulvalue here is 4 as we assigned it while defining \n",
    "\n",
    "def gg(s=4):\n",
    "    print(s)"
   ]
  },
  {
   "cell_type": "code",
   "execution_count": null,
   "id": "cfd440ae",
   "metadata": {},
   "outputs": [],
   "source": [
    "gg()"
   ]
  },
  {
   "cell_type": "code",
   "execution_count": null,
   "id": "582b3367",
   "metadata": {},
   "outputs": [],
   "source": [
    "gg(8)"
   ]
  },
  {
   "cell_type": "code",
   "execution_count": null,
   "id": "1f0b334c",
   "metadata": {},
   "outputs": [],
   "source": [
    "gg('s')"
   ]
  },
  {
   "cell_type": "code",
   "execution_count": null,
   "id": "499f9881",
   "metadata": {},
   "outputs": [],
   "source": [
    "# we can pass list as a input param\n",
    "def ff(L=[1,2]):\n",
    "    for i in L:\n",
    "        print(i)"
   ]
  },
  {
   "cell_type": "code",
   "execution_count": null,
   "id": "6e1147d3",
   "metadata": {},
   "outputs": [],
   "source": [
    "ff()"
   ]
  },
  {
   "cell_type": "code",
   "execution_count": null,
   "id": "3a042d25",
   "metadata": {},
   "outputs": [],
   "source": []
  }
 ],
 "metadata": {
  "kernelspec": {
   "display_name": "Python 3 (ipykernel)",
   "language": "python",
   "name": "python3"
  },
  "language_info": {
   "codemirror_mode": {
    "name": "ipython",
    "version": 3
   },
   "file_extension": ".py",
   "mimetype": "text/x-python",
   "name": "python",
   "nbconvert_exporter": "python",
   "pygments_lexer": "ipython3",
   "version": "3.9.12"
  }
 },
 "nbformat": 4,
 "nbformat_minor": 5
}

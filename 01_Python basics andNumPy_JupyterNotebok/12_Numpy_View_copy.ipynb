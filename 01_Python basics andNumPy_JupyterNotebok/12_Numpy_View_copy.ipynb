{
 "cells": [
  {
   "cell_type": "markdown",
   "id": "b7b51ce3",
   "metadata": {},
   "source": [
    "# Slicing can be done as a view or copy"
   ]
  },
  {
   "cell_type": "code",
   "execution_count": 1,
   "id": "ede7d41e",
   "metadata": {},
   "outputs": [],
   "source": [
    "# In view - it make changes to existing array while in copy you copy it to new array where changes are reflected "
   ]
  },
  {
   "cell_type": "code",
   "execution_count": 2,
   "id": "a77561e1",
   "metadata": {},
   "outputs": [],
   "source": [
    "import numpy as np"
   ]
  },
  {
   "cell_type": "code",
   "execution_count": 3,
   "id": "85a37db3",
   "metadata": {},
   "outputs": [],
   "source": [
    "a=np.array([1,2,3,4,5,6,7,8,9])"
   ]
  },
  {
   "cell_type": "code",
   "execution_count": 4,
   "id": "3466d2d7",
   "metadata": {},
   "outputs": [
    {
     "data": {
      "text/plain": [
       "array([1, 2, 3, 4, 5, 6, 7, 8, 9])"
      ]
     },
     "execution_count": 4,
     "metadata": {},
     "output_type": "execute_result"
    }
   ],
   "source": [
    "a"
   ]
  },
  {
   "cell_type": "code",
   "execution_count": 5,
   "id": "2c4a9e61",
   "metadata": {},
   "outputs": [],
   "source": [
    "slicing=a[3:5]"
   ]
  },
  {
   "cell_type": "code",
   "execution_count": 6,
   "id": "b856687d",
   "metadata": {},
   "outputs": [
    {
     "data": {
      "text/plain": [
       "array([4, 5])"
      ]
     },
     "execution_count": 6,
     "metadata": {},
     "output_type": "execute_result"
    }
   ],
   "source": [
    "slicing"
   ]
  },
  {
   "cell_type": "code",
   "execution_count": 7,
   "id": "83f62daf",
   "metadata": {},
   "outputs": [
    {
     "data": {
      "text/plain": [
       "array([1, 2, 3, 4, 5, 6, 7, 8, 9])"
      ]
     },
     "execution_count": 7,
     "metadata": {},
     "output_type": "execute_result"
    }
   ],
   "source": [
    "a"
   ]
  },
  {
   "cell_type": "code",
   "execution_count": 8,
   "id": "427ae6d4",
   "metadata": {},
   "outputs": [],
   "source": [
    "slicing[:]=0"
   ]
  },
  {
   "cell_type": "code",
   "execution_count": 9,
   "id": "010a356d",
   "metadata": {},
   "outputs": [
    {
     "data": {
      "text/plain": [
       "array([1, 2, 3, 0, 0, 6, 7, 8, 9])"
      ]
     },
     "execution_count": 9,
     "metadata": {},
     "output_type": "execute_result"
    }
   ],
   "source": [
    "a"
   ]
  },
  {
   "cell_type": "code",
   "execution_count": 24,
   "id": "d5c68018",
   "metadata": {},
   "outputs": [],
   "source": [
    "slicing=a[7:9] # here we created a view ofgiven element "
   ]
  },
  {
   "cell_type": "code",
   "execution_count": 25,
   "id": "b6b5aa61",
   "metadata": {},
   "outputs": [],
   "source": [
    " slicing[:]=5  # on above view we did a update , it gets reflected to original array also"
   ]
  },
  {
   "cell_type": "code",
   "execution_count": 26,
   "id": "aa05149b",
   "metadata": {},
   "outputs": [
    {
     "data": {
      "text/plain": [
       "array([1, 2, 3, 0, 0, 6, 7, 5, 5])"
      ]
     },
     "execution_count": 26,
     "metadata": {},
     "output_type": "execute_result"
    }
   ],
   "source": [
    "a # so here we see that elements in a are getting updated "
   ]
  },
  {
   "cell_type": "code",
   "execution_count": 27,
   "id": "b3b06267",
   "metadata": {},
   "outputs": [],
   "source": [
    "slicing=a[1:6].copy()  # here we are creating copy of the element"
   ]
  },
  {
   "cell_type": "code",
   "execution_count": 28,
   "id": "023c0c51",
   "metadata": {},
   "outputs": [],
   "source": [
    "slicing[:]=9"
   ]
  },
  {
   "cell_type": "code",
   "execution_count": 29,
   "id": "d95c847a",
   "metadata": {},
   "outputs": [
    {
     "data": {
      "text/plain": [
       "array([9, 9, 9, 9, 9])"
      ]
     },
     "execution_count": 29,
     "metadata": {},
     "output_type": "execute_result"
    }
   ],
   "source": [
    "slicing"
   ]
  },
  {
   "cell_type": "code",
   "execution_count": 30,
   "id": "681eeba9",
   "metadata": {},
   "outputs": [
    {
     "data": {
      "text/plain": [
       "array([1, 2, 3, 0, 0, 6, 7, 5, 5])"
      ]
     },
     "execution_count": 30,
     "metadata": {},
     "output_type": "execute_result"
    }
   ],
   "source": [
    "a # original array is unchanged"
   ]
  },
  {
   "cell_type": "code",
   "execution_count": null,
   "id": "5f3d9188",
   "metadata": {},
   "outputs": [],
   "source": []
  }
 ],
 "metadata": {
  "kernelspec": {
   "display_name": "Python 3 (ipykernel)",
   "language": "python",
   "name": "python3"
  },
  "language_info": {
   "codemirror_mode": {
    "name": "ipython",
    "version": 3
   },
   "file_extension": ".py",
   "mimetype": "text/x-python",
   "name": "python",
   "nbconvert_exporter": "python",
   "pygments_lexer": "ipython3",
   "version": "3.9.12"
  }
 },
 "nbformat": 4,
 "nbformat_minor": 5
}

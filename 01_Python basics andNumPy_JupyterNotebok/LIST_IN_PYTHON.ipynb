{
 "cells": [
  {
   "cell_type": "code",
   "execution_count": 36,
   "id": "13fcdf27",
   "metadata": {},
   "outputs": [],
   "source": [
    "#collection of elements of different types unlike array where its collection of same type of objects\n",
    "mylist=[1,2,'a','b']"
   ]
  },
  {
   "cell_type": "code",
   "execution_count": 37,
   "id": "b472ebd4",
   "metadata": {},
   "outputs": [
    {
     "name": "stdout",
     "output_type": "stream",
     "text": [
      "[1, 2, 'a', 'b']\n"
     ]
    }
   ],
   "source": [
    "print(mylist)"
   ]
  },
  {
   "cell_type": "code",
   "execution_count": 38,
   "id": "9f3ff720",
   "metadata": {},
   "outputs": [],
   "source": [
    "# if using list function then pass it as a one lement []\n",
    "\n",
    "mylist1=list([1,2,'a','b'])"
   ]
  },
  {
   "cell_type": "code",
   "execution_count": 39,
   "id": "a2cc8d3f",
   "metadata": {},
   "outputs": [
    {
     "name": "stdout",
     "output_type": "stream",
     "text": [
      "[1, 2, 'a', 'b']\n"
     ]
    }
   ],
   "source": [
    "print(mylist1)"
   ]
  },
  {
   "cell_type": "code",
   "execution_count": 40,
   "id": "5bd34824",
   "metadata": {},
   "outputs": [
    {
     "data": {
      "text/plain": [
       "[1, 2, 'a', 'b']"
      ]
     },
     "execution_count": 40,
     "metadata": {},
     "output_type": "execute_result"
    }
   ],
   "source": [
    "#accessing elements\n",
    "#mylist[start index:stop index:skip index/jump]\n",
    "mylist[:]\n"
   ]
  },
  {
   "cell_type": "code",
   "execution_count": 14,
   "id": "9f310c43",
   "metadata": {},
   "outputs": [
    {
     "data": {
      "text/plain": [
       "(1, 2, 'a', 'b')"
      ]
     },
     "execution_count": 14,
     "metadata": {},
     "output_type": "execute_result"
    }
   ],
   "source": [
    "mylist[0:]"
   ]
  },
  {
   "cell_type": "code",
   "execution_count": 16,
   "id": "b469ff82",
   "metadata": {},
   "outputs": [
    {
     "data": {
      "text/plain": [
       "(2, 'a', 'b')"
      ]
     },
     "execution_count": 16,
     "metadata": {},
     "output_type": "execute_result"
    }
   ],
   "source": [
    "mylist[1:]"
   ]
  },
  {
   "cell_type": "code",
   "execution_count": 17,
   "id": "3dacbbb0",
   "metadata": {},
   "outputs": [
    {
     "data": {
      "text/plain": [
       "(2, 'b')"
      ]
     },
     "execution_count": 17,
     "metadata": {},
     "output_type": "execute_result"
    }
   ],
   "source": [
    "mylist[1::2]"
   ]
  },
  {
   "cell_type": "code",
   "execution_count": 20,
   "id": "d936da47",
   "metadata": {},
   "outputs": [
    {
     "data": {
      "text/plain": [
       "('b',)"
      ]
     },
     "execution_count": 20,
     "metadata": {},
     "output_type": "execute_result"
    }
   ],
   "source": [
    "mylist[-1::2]"
   ]
  },
  {
   "cell_type": "code",
   "execution_count": 41,
   "id": "49b1e5a1",
   "metadata": {},
   "outputs": [
    {
     "data": {
      "text/plain": [
       "[2, 'b']"
      ]
     },
     "execution_count": 41,
     "metadata": {},
     "output_type": "execute_result"
    }
   ],
   "source": [
    "mylist[-3::2]"
   ]
  },
  {
   "cell_type": "code",
   "execution_count": 26,
   "id": "8e2fa3f9",
   "metadata": {},
   "outputs": [
    {
     "data": {
      "text/plain": [
       "2"
      ]
     },
     "execution_count": 26,
     "metadata": {},
     "output_type": "execute_result"
    }
   ],
   "source": [
    "#access particular elements\n",
    "mylist[1]"
   ]
  },
  {
   "cell_type": "markdown",
   "id": "48698a4f",
   "metadata": {},
   "source": [
    "# methods"
   ]
  },
  {
   "cell_type": "code",
   "execution_count": 42,
   "id": "4a952e48",
   "metadata": {},
   "outputs": [
    {
     "data": {
      "text/plain": [
       "[1, 2, 'a', 'b']"
      ]
     },
     "execution_count": 42,
     "metadata": {},
     "output_type": "execute_result"
    }
   ],
   "source": [
    "mylist"
   ]
  },
  {
   "cell_type": "code",
   "execution_count": 45,
   "id": "535132d8",
   "metadata": {},
   "outputs": [],
   "source": [
    "mylist.append([4,5])"
   ]
  },
  {
   "cell_type": "code",
   "execution_count": 44,
   "id": "64433610",
   "metadata": {},
   "outputs": [
    {
     "data": {
      "text/plain": [
       "list"
      ]
     },
     "execution_count": 44,
     "metadata": {},
     "output_type": "execute_result"
    }
   ],
   "source": [
    "type(mylist)"
   ]
  },
  {
   "cell_type": "code",
   "execution_count": 47,
   "id": "4251c317",
   "metadata": {},
   "outputs": [
    {
     "data": {
      "text/plain": [
       "[1, 2, 'a', 'b', [4, 5], [4, 5]]"
      ]
     },
     "execution_count": 47,
     "metadata": {},
     "output_type": "execute_result"
    }
   ],
   "source": [
    "mylist"
   ]
  },
  {
   "cell_type": "code",
   "execution_count": 48,
   "id": "073ad60c",
   "metadata": {},
   "outputs": [],
   "source": [
    "mylist.append(8)"
   ]
  },
  {
   "cell_type": "code",
   "execution_count": 49,
   "id": "bfb5ff6b",
   "metadata": {},
   "outputs": [
    {
     "data": {
      "text/plain": [
       "[1, 2, 'a', 'b', [4, 5], [4, 5], 8]"
      ]
     },
     "execution_count": 49,
     "metadata": {},
     "output_type": "execute_result"
    }
   ],
   "source": [
    "mylist"
   ]
  },
  {
   "cell_type": "code",
   "execution_count": 50,
   "id": "8ae3d038",
   "metadata": {},
   "outputs": [
    {
     "data": {
      "text/plain": [
       "list"
      ]
     },
     "execution_count": 50,
     "metadata": {},
     "output_type": "execute_result"
    }
   ],
   "source": [
    "type(mylist)"
   ]
  },
  {
   "cell_type": "code",
   "execution_count": 51,
   "id": "ed7e9a8c",
   "metadata": {},
   "outputs": [],
   "source": [
    "# so in above case4, got added as a list only"
   ]
  },
  {
   "cell_type": "code",
   "execution_count": 52,
   "id": "3752239a",
   "metadata": {},
   "outputs": [],
   "source": [
    "mylist.extend([8,9])"
   ]
  },
  {
   "cell_type": "code",
   "execution_count": 53,
   "id": "1b8dfd46",
   "metadata": {},
   "outputs": [
    {
     "data": {
      "text/plain": [
       "[1, 2, 'a', 'b', [4, 5], [4, 5], 8, 8, 9]"
      ]
     },
     "execution_count": 53,
     "metadata": {},
     "output_type": "execute_result"
    }
   ],
   "source": [
    "mylist"
   ]
  },
  {
   "cell_type": "code",
   "execution_count": 54,
   "id": "a1315564",
   "metadata": {},
   "outputs": [],
   "source": [
    "#Extend function added it as a idvidiual elemens"
   ]
  },
  {
   "cell_type": "code",
   "execution_count": 59,
   "id": "5f580c7e",
   "metadata": {},
   "outputs": [
    {
     "data": {
      "text/plain": [
       "9"
      ]
     },
     "execution_count": 59,
     "metadata": {},
     "output_type": "execute_result"
    }
   ],
   "source": [
    "len(mylist)"
   ]
  },
  {
   "cell_type": "code",
   "execution_count": 60,
   "id": "03aa0092",
   "metadata": {},
   "outputs": [],
   "source": [
    "mylist3=mylist"
   ]
  },
  {
   "cell_type": "code",
   "execution_count": 61,
   "id": "201ebd30",
   "metadata": {},
   "outputs": [
    {
     "data": {
      "text/plain": [
       "[1, 2, 'a', 'b', [4, 5], [4, 5], 8, 8, 9]"
      ]
     },
     "execution_count": 61,
     "metadata": {},
     "output_type": "execute_result"
    }
   ],
   "source": [
    "mylist3"
   ]
  },
  {
   "cell_type": "code",
   "execution_count": 64,
   "id": "e562bd39",
   "metadata": {},
   "outputs": [],
   "source": [
    "#inserting data at specificposition\n",
    "mylist.insert(1,9)"
   ]
  },
  {
   "cell_type": "code",
   "execution_count": 63,
   "id": "22c81ca7",
   "metadata": {},
   "outputs": [
    {
     "data": {
      "text/plain": [
       "[1, 9, 2, 'a', 'b', [4, 5], [4, 5], 8, 8, 9]"
      ]
     },
     "execution_count": 63,
     "metadata": {},
     "output_type": "execute_result"
    }
   ],
   "source": [
    "mylist"
   ]
  },
  {
   "cell_type": "code",
   "execution_count": 65,
   "id": "75b458cc",
   "metadata": {},
   "outputs": [
    {
     "data": {
      "text/plain": [
       "[1,\n",
       " 9,\n",
       " 9,\n",
       " 2,\n",
       " 'a',\n",
       " 'b',\n",
       " [4, 5],\n",
       " [4, 5],\n",
       " 8,\n",
       " 8,\n",
       " 9,\n",
       " 1,\n",
       " 9,\n",
       " 9,\n",
       " 2,\n",
       " 'a',\n",
       " 'b',\n",
       " [4, 5],\n",
       " [4, 5],\n",
       " 8,\n",
       " 8,\n",
       " 9]"
      ]
     },
     "execution_count": 65,
     "metadata": {},
     "output_type": "execute_result"
    }
   ],
   "source": [
    "#Artihmeitc on elements , but it do nto change original value \n",
    "mylist*2"
   ]
  },
  {
   "cell_type": "code",
   "execution_count": 68,
   "id": "da60daff",
   "metadata": {},
   "outputs": [
    {
     "data": {
      "text/plain": [
       "[1, 9, 9, 2, 'a', 'b', [4, 5], [4, 5], 8, 8, 9, 'a']"
      ]
     },
     "execution_count": 68,
     "metadata": {},
     "output_type": "execute_result"
    }
   ],
   "source": [
    "mylist+ ['a']"
   ]
  },
  {
   "cell_type": "code",
   "execution_count": 69,
   "id": "1b432bcb",
   "metadata": {},
   "outputs": [
    {
     "data": {
      "text/plain": [
       "[1, 9, 9, 2, 'a', 'b', [4, 5], [4, 5], 8, 8, 9]"
      ]
     },
     "execution_count": 69,
     "metadata": {},
     "output_type": "execute_result"
    }
   ],
   "source": [
    "#above is concatenation , it will not change actual data\n",
    "mylist"
   ]
  },
  {
   "cell_type": "code",
   "execution_count": 71,
   "id": "187c8507",
   "metadata": {},
   "outputs": [
    {
     "name": "stdout",
     "output_type": "stream",
     "text": [
      "11\n"
     ]
    }
   ],
   "source": [
    "print(len(mylist))"
   ]
  },
  {
   "cell_type": "code",
   "execution_count": 72,
   "id": "26616fad",
   "metadata": {},
   "outputs": [],
   "source": [
    "#Howto delete from list"
   ]
  },
  {
   "cell_type": "code",
   "execution_count": 76,
   "id": "eb7ff9d7",
   "metadata": {},
   "outputs": [],
   "source": [
    "del mylist[1]"
   ]
  },
  {
   "cell_type": "code",
   "execution_count": 77,
   "id": "d12a2e21",
   "metadata": {},
   "outputs": [
    {
     "data": {
      "text/plain": [
       "[1, 9, 2, 'a', 'b', [4, 5], [4, 5], 8, 8, 9]"
      ]
     },
     "execution_count": 77,
     "metadata": {},
     "output_type": "execute_result"
    }
   ],
   "source": [
    "mylist"
   ]
  },
  {
   "cell_type": "code",
   "execution_count": 79,
   "id": "06205d4a",
   "metadata": {},
   "outputs": [],
   "source": [
    "del mylist[9]"
   ]
  },
  {
   "cell_type": "code",
   "execution_count": 80,
   "id": "566bd552",
   "metadata": {},
   "outputs": [
    {
     "data": {
      "text/plain": [
       "[1, 9, 2, 'a', 'b', [4, 5], [4, 5], 8, 8]"
      ]
     },
     "execution_count": 80,
     "metadata": {},
     "output_type": "execute_result"
    }
   ],
   "source": [
    "mylist"
   ]
  },
  {
   "cell_type": "code",
   "execution_count": 82,
   "id": "06520b5c",
   "metadata": {},
   "outputs": [],
   "source": [
    "mylist.remove([4,5])"
   ]
  },
  {
   "cell_type": "code",
   "execution_count": 83,
   "id": "6ccbd2a8",
   "metadata": {},
   "outputs": [
    {
     "data": {
      "text/plain": [
       "[1, 9, 2, 'a', 'b', [4, 5], 8, 8]"
      ]
     },
     "execution_count": 83,
     "metadata": {},
     "output_type": "execute_result"
    }
   ],
   "source": [
    "mylist"
   ]
  },
  {
   "cell_type": "code",
   "execution_count": 84,
   "id": "42855ce7",
   "metadata": {},
   "outputs": [],
   "source": [
    "mylist.remove([4,5])"
   ]
  },
  {
   "cell_type": "code",
   "execution_count": 85,
   "id": "1cce2c8c",
   "metadata": {},
   "outputs": [
    {
     "data": {
      "text/plain": [
       "[1, 9, 2, 'a', 'b', 8, 8]"
      ]
     },
     "execution_count": 85,
     "metadata": {},
     "output_type": "execute_result"
    }
   ],
   "source": [
    "mylist"
   ]
  },
  {
   "cell_type": "code",
   "execution_count": 87,
   "id": "67850278",
   "metadata": {},
   "outputs": [
    {
     "ename": "IndexError",
     "evalue": "pop index out of range",
     "output_type": "error",
     "traceback": [
      "\u001b[1;31m---------------------------------------------------------------------------\u001b[0m",
      "\u001b[1;31mIndexError\u001b[0m                                Traceback (most recent call last)",
      "Input \u001b[1;32mIn [87]\u001b[0m, in \u001b[0;36m<cell line: 2>\u001b[1;34m()\u001b[0m\n\u001b[0;32m      1\u001b[0m \u001b[38;5;66;03m#pop function is similar to delete but we can assign a value to be deleted to variable\u001b[39;00m\n\u001b[1;32m----> 2\u001b[0m var\u001b[38;5;241m=\u001b[39m\u001b[43mmylist\u001b[49m\u001b[38;5;241;43m.\u001b[39;49m\u001b[43mpop\u001b[49m\u001b[43m(\u001b[49m\u001b[43m(\u001b[49m\u001b[38;5;241;43m8\u001b[39;49m\u001b[43m)\u001b[49m\u001b[43m)\u001b[49m\n",
      "\u001b[1;31mIndexError\u001b[0m: pop index out of range"
     ]
    }
   ],
   "source": [
    "#pop function is similar to delete but we can assign a value to be deleted to variable\n",
    "var=mylist.pop((8))"
   ]
  },
  {
   "cell_type": "code",
   "execution_count": 89,
   "id": "f6a12fb2",
   "metadata": {},
   "outputs": [],
   "source": [
    "var=mylist.pop((1))"
   ]
  },
  {
   "cell_type": "code",
   "execution_count": 90,
   "id": "3a2f9720",
   "metadata": {},
   "outputs": [
    {
     "data": {
      "text/plain": [
       "2"
      ]
     },
     "execution_count": 90,
     "metadata": {},
     "output_type": "execute_result"
    }
   ],
   "source": [
    "var"
   ]
  },
  {
   "cell_type": "code",
   "execution_count": 91,
   "id": "602f7d87",
   "metadata": {},
   "outputs": [
    {
     "data": {
      "text/plain": [
       "[1, 'a', 'b', 8, 8]"
      ]
     },
     "execution_count": 91,
     "metadata": {},
     "output_type": "execute_result"
    }
   ],
   "source": [
    "mylist"
   ]
  },
  {
   "cell_type": "code",
   "execution_count": 92,
   "id": "9dc3313d",
   "metadata": {},
   "outputs": [],
   "source": [
    "var=mylist.pop((1))"
   ]
  },
  {
   "cell_type": "code",
   "execution_count": 93,
   "id": "d31cb1da",
   "metadata": {},
   "outputs": [
    {
     "data": {
      "text/plain": [
       "'a'"
      ]
     },
     "execution_count": 93,
     "metadata": {},
     "output_type": "execute_result"
    }
   ],
   "source": [
    "var"
   ]
  },
  {
   "cell_type": "code",
   "execution_count": 95,
   "id": "e84e9a75",
   "metadata": {},
   "outputs": [
    {
     "data": {
      "text/plain": [
       "[1, 'b', 8, 8]"
      ]
     },
     "execution_count": 95,
     "metadata": {},
     "output_type": "execute_result"
    }
   ],
   "source": [
    "mylist"
   ]
  },
  {
   "cell_type": "code",
   "execution_count": 96,
   "id": "3618cba4",
   "metadata": {},
   "outputs": [],
   "source": [
    "mylist2=mylist"
   ]
  },
  {
   "cell_type": "code",
   "execution_count": 98,
   "id": "707d0acb",
   "metadata": {},
   "outputs": [
    {
     "data": {
      "text/plain": [
       "[1, 'b', 8, 8]"
      ]
     },
     "execution_count": 98,
     "metadata": {},
     "output_type": "execute_result"
    }
   ],
   "source": [
    "mylist2"
   ]
  },
  {
   "cell_type": "code",
   "execution_count": 99,
   "id": "bb0890eb",
   "metadata": {},
   "outputs": [],
   "source": [
    "mylist2.clear()"
   ]
  },
  {
   "cell_type": "code",
   "execution_count": 100,
   "id": "0465d239",
   "metadata": {},
   "outputs": [
    {
     "data": {
      "text/plain": [
       "[]"
      ]
     },
     "execution_count": 100,
     "metadata": {},
     "output_type": "execute_result"
    }
   ],
   "source": [
    "mylist2"
   ]
  },
  {
   "cell_type": "code",
   "execution_count": null,
   "id": "698132bf",
   "metadata": {},
   "outputs": [],
   "source": []
  }
 ],
 "metadata": {
  "kernelspec": {
   "display_name": "Python 3 (ipykernel)",
   "language": "python",
   "name": "python3"
  },
  "language_info": {
   "codemirror_mode": {
    "name": "ipython",
    "version": 3
   },
   "file_extension": ".py",
   "mimetype": "text/x-python",
   "name": "python",
   "nbconvert_exporter": "python",
   "pygments_lexer": "ipython3",
   "version": "3.9.12"
  }
 },
 "nbformat": 4,
 "nbformat_minor": 5
}

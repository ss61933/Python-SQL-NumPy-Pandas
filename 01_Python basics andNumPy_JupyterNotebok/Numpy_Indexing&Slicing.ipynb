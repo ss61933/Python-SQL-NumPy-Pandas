{
 "cells": [
  {
   "cell_type": "markdown",
   "id": "e05cf5c2",
   "metadata": {},
   "source": [
    "# Indexing 1 dim array"
   ]
  },
  {
   "cell_type": "code",
   "execution_count": 1,
   "id": "4c0b1f67",
   "metadata": {},
   "outputs": [],
   "source": [
    "#Indexes defines postition of elements\n",
    "#Index in numpy array is similar  to list \n",
    "#starts with zero \n",
    "#starts with -1 in reverse order"
   ]
  },
  {
   "cell_type": "code",
   "execution_count": 2,
   "id": "cfdb5ae0",
   "metadata": {},
   "outputs": [
    {
     "name": "stdout",
     "output_type": "stream",
     "text": [
      "Enter size of array-3\n",
      "Ener the number2\n",
      "Ener the number3\n",
      "Ener the number4\n",
      "2\n",
      "3\n",
      "4\n",
      "First element is 2\n"
     ]
    }
   ],
   "source": [
    "import numpy as np\n",
    "a=[]\n",
    "\n",
    "size11=int(input(\"Enter size of array-\"))\n",
    "\n",
    "for i in range(size11):\n",
    "    val=int(input(\"Ener the number\"))\n",
    "    a.append(val)\n",
    "arr=np.array(a)\n",
    "\n",
    "for i in range(arr.size):\n",
    "    print(arr[i])\n",
    "\n",
    "print(\"First element is \" + str(arr[0]))"
   ]
  },
  {
   "cell_type": "markdown",
   "id": "249f0f7a",
   "metadata": {},
   "source": [
    "# Slicing in array"
   ]
  },
  {
   "cell_type": "code",
   "execution_count": 3,
   "id": "590353d9",
   "metadata": {},
   "outputs": [],
   "source": [
    "#In slicing we fetch data in particular range of index\n",
    "#Example fetch elemen from index 2 to 4 and step 1 "
   ]
  },
  {
   "cell_type": "code",
   "execution_count": 5,
   "id": "8f452507",
   "metadata": {},
   "outputs": [
    {
     "name": "stdout",
     "output_type": "stream",
     "text": [
      "Enter size of array-5\n",
      "Ener the number1\n",
      "Ener the number2\n",
      "Ener the number3\n",
      "Ener the number4\n",
      "Ener the number5\n",
      "My array is - [1 2 3 4 5]\n",
      "Slice array from 2 to 4 -- [3 4]\n"
     ]
    }
   ],
   "source": [
    "import numpy as np\n",
    "a=[]\n",
    "\n",
    "size11=int(input(\"Enter size of array-\"))\n",
    "\n",
    "for i in range(size11):\n",
    "    val=int(input(\"Ener the number\"))\n",
    "    a.append(val)\n",
    "    \n",
    "arr=np.array(a)\n",
    "\n",
    "print(\"My array is -\" , arr)\n",
    "\n",
    "#Slice it to 2 to 4 \n",
    "\n",
    "print(\"Slice array from 2 to 4 --\",arr[2:4])\n"
   ]
  },
  {
   "cell_type": "code",
   "execution_count": 6,
   "id": "7ff0a8fa",
   "metadata": {},
   "outputs": [
    {
     "name": "stdout",
     "output_type": "stream",
     "text": [
      "Slice array from 2 to 4 -- [3 4 5]\n"
     ]
    }
   ],
   "source": [
    "print(\"Slice array from 2 to 4 --\",arr[2:])"
   ]
  },
  {
   "cell_type": "code",
   "execution_count": 7,
   "id": "0704d358",
   "metadata": {},
   "outputs": [
    {
     "name": "stdout",
     "output_type": "stream",
     "text": [
      "Slice array till 4 -- [1 2 3 4]\n"
     ]
    }
   ],
   "source": [
    "print(\"Slice array till 4 --\",arr[:4])"
   ]
  },
  {
   "cell_type": "code",
   "execution_count": 9,
   "id": "16890db7",
   "metadata": {},
   "outputs": [
    {
     "name": "stdout",
     "output_type": "stream",
     "text": [
      "Slice array from secondstring in from end -- [4 5]\n"
     ]
    }
   ],
   "source": [
    "print(\"Slice array from secondstring in from end --\",arr[-2:])"
   ]
  },
  {
   "cell_type": "code",
   "execution_count": null,
   "id": "b52282a7",
   "metadata": {},
   "outputs": [],
   "source": []
  }
 ],
 "metadata": {
  "kernelspec": {
   "display_name": "Python 3 (ipykernel)",
   "language": "python",
   "name": "python3"
  },
  "language_info": {
   "codemirror_mode": {
    "name": "ipython",
    "version": 3
   },
   "file_extension": ".py",
   "mimetype": "text/x-python",
   "name": "python",
   "nbconvert_exporter": "python",
   "pygments_lexer": "ipython3",
   "version": "3.9.12"
  }
 },
 "nbformat": 4,
 "nbformat_minor": 5
}
